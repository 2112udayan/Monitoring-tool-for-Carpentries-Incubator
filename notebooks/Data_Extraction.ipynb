{
 "cells": [
  {
   "cell_type": "code",
   "execution_count": 3,
   "id": "90308aef",
   "metadata": {},
   "outputs": [],
   "source": [
    "from github import Github\n",
    "import pandas as pd \n",
    "import itertools\n",
    "import json\n",
    "import requests"
   ]
  },
  {
   "cell_type": "code",
   "execution_count": 4,
   "id": "1d42b789",
   "metadata": {},
   "outputs": [],
   "source": [
    "%store -r access_token\n",
    "g = Github(access_token)"
   ]
  },
  {
   "cell_type": "code",
   "execution_count": 5,
   "id": "d19fa078",
   "metadata": {},
   "outputs": [
    {
     "data": {
      "text/plain": [
       "(0, 5000)"
      ]
     },
     "execution_count": 5,
     "metadata": {},
     "output_type": "execute_result"
    }
   ],
   "source": [
    "g.rate_limiting"
   ]
  },
  {
   "cell_type": "markdown",
   "id": "02019de8",
   "metadata": {},
   "source": [
    "##### This below code is to get the repo count , number of pages , final_repo_list , list_with_lesson & list_without_lesson."
   ]
  },
  {
   "cell_type": "code",
   "execution_count": null,
   "id": "6b106409",
   "metadata": {},
   "outputs": [],
   "source": [
    " org=g.get_organization(\"Carpentries-Incubator\")"
   ]
  },
  {
   "cell_type": "code",
   "execution_count": null,
   "id": "ff37eb2f",
   "metadata": {},
   "outputs": [],
   "source": [
    "repo = g.get_organization(\"carpentries-incubator\").get_repos()\n",
    "repo.totalCount"
   ]
  },
  {
   "cell_type": "code",
   "execution_count": null,
   "id": "1c06a35e",
   "metadata": {},
   "outputs": [],
   "source": [
    "page_num = 0\n",
    "for i in range(0,10):\n",
    "    if len(repo.get_page(i))==0:\n",
    "        print(i, \"======================Empty\")\n",
    "        page_num = i\n",
    "        break\n",
    "    else:\n",
    "        pass"
   ]
  },
  {
   "cell_type": "code",
   "execution_count": null,
   "id": "65d33a08",
   "metadata": {},
   "outputs": [],
   "source": [
    "repo_list = list()\n",
    "for i in range(0,page_num):\n",
    "    repo_list.append(repo.get_page(i))"
   ]
  },
  {
   "cell_type": "code",
   "execution_count": null,
   "id": "d12c069b",
   "metadata": {},
   "outputs": [],
   "source": [
    "final_repo_list = list((itertools.chain.from_iterable(repo_list)))"
   ]
  },
  {
   "cell_type": "code",
   "execution_count": null,
   "id": "e6d930d4",
   "metadata": {},
   "outputs": [],
   "source": [
    "list_without_lesson=list()\n",
    "list_with_lesson=list()\n",
    "for repo in final_repo_list:\n",
    "    tags=repo.get_topics()\n",
    "    if \"lesson\" in tags:\n",
    "        list_with_lesson.append(repo)\n",
    "    else:\n",
    "        list_without_lesson.append(repo)\n",
    "print(\"List of Repository with lesson:\")   \n",
    "for repo in list_with_lesson:\n",
    "      print(repo)\n",
    "print(\"\\nList of Repository without lesson\\n\")\n",
    "for repo in list_without_lesson:\n",
    "      print(repo)"
   ]
  },
  {
   "cell_type": "code",
   "execution_count": null,
   "id": "5ecab315",
   "metadata": {},
   "outputs": [],
   "source": [
    "# This code has been added here to figure out a way to remove null value from issue/pr/commit users information.So this could be ignored \n",
    "\n",
    "for r in list_with_lesson:\n",
    "    if r.name=='deep-learning-intro':\n",
    "        issue=r.get_issues(state='open')\n",
    "        for i in issue:\n",
    "            print(i.title,i.user.login)\n",
    "        "
   ]
  },
  {
   "cell_type": "markdown",
   "id": "6bb760d8",
   "metadata": {},
   "source": [
    "#### This approach is followed to retrieve data of each repo in seperate files that would encompass commits, PRs, issues, stages & labels. "
   ]
  },
  {
   "cell_type": "code",
   "execution_count": 1,
   "id": "0bc9a9c1",
   "metadata": {},
   "outputs": [
    {
     "ename": "NameError",
     "evalue": "name 'list_with_lesson' is not defined",
     "output_type": "error",
     "traceback": [
      "\u001b[1;31m---------------------------------------------------------------------------\u001b[0m",
      "\u001b[1;31mNameError\u001b[0m                                 Traceback (most recent call last)",
      "Input \u001b[1;32mIn [1]\u001b[0m, in \u001b[0;36m<cell line: 2>\u001b[1;34m()\u001b[0m\n\u001b[0;32m      1\u001b[0m \u001b[38;5;28;01mimport\u001b[39;00m \u001b[38;5;21;01mrequests\u001b[39;00m\n\u001b[1;32m----> 2\u001b[0m repo\u001b[38;5;241m=\u001b[39m\u001b[43mlist_with_lesson\u001b[49m[\u001b[38;5;241m83\u001b[39m]\n\u001b[0;32m      3\u001b[0m HEADERS \u001b[38;5;241m=\u001b[39m {\u001b[38;5;124m'\u001b[39m\u001b[38;5;124mAuthorization\u001b[39m\u001b[38;5;124m'\u001b[39m: \u001b[38;5;124m'\u001b[39m\u001b[38;5;124mtoken \u001b[39m\u001b[38;5;124m'\u001b[39m \u001b[38;5;241m+\u001b[39m access_token}\n",
      "\u001b[1;31mNameError\u001b[0m: name 'list_with_lesson' is not defined"
     ]
    }
   ],
   "source": [
    "import requests\n",
    "repo=list_with_lesson[83]\n",
    "HEADERS = {'Authorization': 'token ' + access_token}"
   ]
  },
  {
   "cell_type": "code",
   "execution_count": null,
   "id": "6591c76a",
   "metadata": {},
   "outputs": [],
   "source": [
    "counter=0\n",
    "commits_dict={}"
   ]
  },
  {
   "cell_type": "code",
   "execution_count": null,
   "id": "a63632b9",
   "metadata": {},
   "outputs": [],
   "source": [
    "issue_list=list()\n",
    "label_list=list()\n",
    "pr_list=list()\n",
    "# releases=list()\n",
    "commits = repo.get_commits()\n",
    "pr=repo.get_pulls(state='open')\n",
    "issues=repo.get_issues(state='open')\n",
    "topics=repo.get_topics()\n",
    "labels=repo.get_labels()\n",
    "releases=repo.get_releases()\n",
    "owner=repo.owner.login\n",
    "def commit_user_details(c):\n",
    "    # first we try to retrieve details via PyGithub. This costs less API calls.\n",
    "    try: \n",
    "        author = c.author.name\n",
    "        committer = c.committer.name\n",
    "        # The above case will raise an exception if c.author or c.committer is None.\n",
    "        # This will be the case when the user does not have a GitHub account.\n",
    "        # There may be another special case, when a user has a GitHub user name, but\n",
    "        # does not specify their name. We need to detect it as well.\n",
    "        if author == None or committer == None:\n",
    "            raise Exception()\n",
    "        return [author,committer]\n",
    "    except:\n",
    "        # If at least one of the names is not known, use GitHub API via `requests` library.\n",
    "        # This will be slower and will cost some API calls, but at least we are spending\n",
    "        # one API call per each commit instead of two.\n",
    "        # Based on solution for https://github.com/jbon/Github-Social-Network-Analysis/issues/15\n",
    "        commit_json = requests.get(c.url,headers=HEADERS).json()[\"commit\"]\n",
    "        author = commit_json['author']['name']\n",
    "        committer = commit_json['committer']['name']\n",
    "#         print(author,committer)\n",
    "        return [author,committer]\n",
    "\n",
    "\n",
    "# To retrieve PRs and usernames .\n",
    "\n",
    "for p in pr:\n",
    "#     print(p.id)\n",
    "    pr_list.append({'id':p.id,'pr_name':p.user.login})\n",
    "    \n",
    "    \n",
    "counter=0\n",
    "commits_dict=dict()\n",
    "for c in commits:\n",
    "\n",
    "\n",
    "#     print(get_user_details(c))\n",
    "    commits_dict[c.sha] = commit_user_details(c)\n",
    "    \n",
    "    \n",
    "# print(\"retrieved\", counter, \"commits\") \n",
    "\n",
    "# To retrieve issues and user names\n",
    "\n",
    "for issue in issues:\n",
    "    issue_list.append({'title': issue.title, 'user_name':issue.user.login})\n",
    "    \n",
    "# To retrieve life cycle stages of the lessons.\n",
    "stage=None\n",
    "for stage in topics:\n",
    "    if stage in [\"pre-alpha\", \"alpha\", \"beta\", \"stable\"]:\n",
    "        break;\n",
    "        \n",
    "\n",
    "# To retrieve Labels of the lessons \n",
    "\n",
    "for label in labels:\n",
    "     label_list.append(label.name)\n",
    " \n",
    "counter=0\n",
    "\n",
    "\n",
    "\n",
    "    \n"
   ]
  },
  {
   "cell_type": "code",
   "execution_count": 2,
   "id": "aaf0e0c8",
   "metadata": {},
   "outputs": [
    {
     "ename": "NameError",
     "evalue": "name 'repo' is not defined",
     "output_type": "error",
     "traceback": [
      "\u001b[1;31m---------------------------------------------------------------------------\u001b[0m",
      "\u001b[1;31mNameError\u001b[0m                                 Traceback (most recent call last)",
      "Input \u001b[1;32mIn [2]\u001b[0m, in \u001b[0;36m<cell line: 1>\u001b[1;34m()\u001b[0m\n\u001b[1;32m----> 1\u001b[0m \u001b[38;5;28;01mwith\u001b[39;00m \u001b[38;5;28mopen\u001b[39m(\u001b[43mrepo\u001b[49m\u001b[38;5;241m.\u001b[39mname\u001b[38;5;241m+\u001b[39m\u001b[38;5;124m'\u001b[39m\u001b[38;5;124m.json\u001b[39m\u001b[38;5;124m'\u001b[39m, \u001b[38;5;124m'\u001b[39m\u001b[38;5;124mw\u001b[39m\u001b[38;5;124m'\u001b[39m, encoding\u001b[38;5;241m=\u001b[39m\u001b[38;5;124m'\u001b[39m\u001b[38;5;124mutf-8\u001b[39m\u001b[38;5;124m'\u001b[39m) \u001b[38;5;28;01mas\u001b[39;00m f: \n\u001b[0;32m      2\u001b[0m         json\u001b[38;5;241m.\u001b[39mdump({\u001b[38;5;124m'\u001b[39m\u001b[38;5;124mcommits_dict\u001b[39m\u001b[38;5;124m'\u001b[39m:commits_dict,\u001b[38;5;124m'\u001b[39m\u001b[38;5;124mpr_dict\u001b[39m\u001b[38;5;124m'\u001b[39m:pr_list, \u001b[38;5;124m'\u001b[39m\u001b[38;5;124missue_dict\u001b[39m\u001b[38;5;124m'\u001b[39m:issue_list,\u001b[38;5;124m'\u001b[39m\u001b[38;5;124mstage\u001b[39m\u001b[38;5;124m'\u001b[39m:stage,\u001b[38;5;124m'\u001b[39m\u001b[38;5;124mowner\u001b[39m\u001b[38;5;124m'\u001b[39m:owner,\u001b[38;5;124m'\u001b[39m\u001b[38;5;124mlabel\u001b[39m\u001b[38;5;124m'\u001b[39m:label_list}, f, ensure_ascii\u001b[38;5;241m=\u001b[39m\u001b[38;5;28;01mFalse\u001b[39;00m, indent\u001b[38;5;241m=\u001b[39m\u001b[38;5;241m4\u001b[39m)\n",
      "\u001b[1;31mNameError\u001b[0m: name 'repo' is not defined"
     ]
    }
   ],
   "source": [
    "with open(repo.name+'.json', 'w', encoding='utf-8') as f: \n",
    "        json.dump({'commits_dict':commits_dict,'pr_dict':pr_list, 'issue_dict':issue_list,'stage':stage,'owner':owner,'label':label_list}, f, ensure_ascii=False, indent=4) "
   ]
  },
  {
   "cell_type": "code",
   "execution_count": null,
   "id": "dad73ba2",
   "metadata": {},
   "outputs": [],
   "source": [
    "with open(repo.name+'.json', \"r\") as read_file: \n",
    "         commits_dict_1 = json.load(read_file) "
   ]
  },
  {
   "cell_type": "code",
   "execution_count": null,
   "id": "48f37960",
   "metadata": {},
   "outputs": [],
   "source": []
  }
 ],
 "metadata": {
  "kernelspec": {
   "display_name": "Python 3 (ipykernel)",
   "language": "python",
   "name": "python3"
  },
  "language_info": {
   "codemirror_mode": {
    "name": "ipython",
    "version": 3
   },
   "file_extension": ".py",
   "mimetype": "text/x-python",
   "name": "python",
   "nbconvert_exporter": "python",
   "pygments_lexer": "ipython3",
   "version": "3.10.5"
  }
 },
 "nbformat": 4,
 "nbformat_minor": 5
}
