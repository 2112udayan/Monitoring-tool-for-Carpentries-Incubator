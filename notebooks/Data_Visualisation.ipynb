{
 "cells": [
  {
   "cell_type": "code",
   "execution_count": null,
   "id": "93e5a7cb",
   "metadata": {},
   "outputs": [],
   "source": [
    "from github import Github\n",
    "import pandas as pd \n",
    "import json\n",
    "import itertools\n",
    "import os\n",
    "import requests\n",
    "import matplotlib.pyplot as plt\n",
    "import numpy as np\n",
    "import networkx as nx\n",
    "\n",
    "\n"
   ]
  },
  {
   "cell_type": "markdown",
   "id": "15002cc6",
   "metadata": {},
   "source": [
    "##### Load personal token here to authenticate."
   ]
  },
  {
   "cell_type": "code",
   "execution_count": null,
   "id": "06ce47c7",
   "metadata": {},
   "outputs": [],
   "source": [
    "%store -r access_token\n",
    "g = Github(access_token)"
   ]
  },
  {
   "cell_type": "code",
   "execution_count": null,
   "id": "68768dd0",
   "metadata": {},
   "outputs": [],
   "source": [
    "g.rate_limiting"
   ]
  },
  {
   "cell_type": "markdown",
   "id": "95b873ac",
   "metadata": {},
   "source": [
    "#### These variables are global variables."
   ]
  },
  {
   "cell_type": "code",
   "execution_count": null,
   "id": "18c065dc",
   "metadata": {},
   "outputs": [],
   "source": [
    "repo_var = None\n",
    "page_num=None\n",
    "repo_list=list()\n",
    "list_without_lesson=list()\n",
    "list_with_lesson=list()\n",
    "final_repo_list=list()"
   ]
  },
  {
   "cell_type": "markdown",
   "id": "8ae4d721",
   "metadata": {},
   "source": [
    "#### Declaring a function\n",
    "\n",
    "* To get the total repositories count\n",
    "* Creating a page_num variable to hold the valid page numbers to iterate the repo list.\n",
    "* Final repo list created from repo list\n",
    "* List with lesson created from final repo list\n",
    "* List without lesson created from final repo list"
   ]
  },
  {
   "cell_type": "code",
   "execution_count": null,
   "id": "276e36a7",
   "metadata": {},
   "outputs": [],
   "source": [
    "def repo_initialize():\n",
    "    \n",
    "    '''\n",
    "    Function takes no parameter.\n",
    "    Returning total repositories count, final repository list, list_with_lesson & list_without_lesson.\n",
    "    \n",
    "    '''\n",
    "    \n",
    "    \n",
    "    global repo_var\n",
    "    global page_num\n",
    "    global repo_list\n",
    "    global list_without_lesson\n",
    "    global list_with_lesson\n",
    "    global final_repo_list\n",
    "    \n",
    "    repo_var = g.get_organization(\"carpentries-incubator\").get_repos()\n",
    "\n",
    "    page_num = 0\n",
    "    for i in range(0,10):\n",
    "        if len(repo_var.get_page(i))==0:\n",
    "            page_num = i\n",
    "            break\n",
    "        else:\n",
    "            pass\n",
    "    repo_list = list()\n",
    "    for i in range(0,page_num):\n",
    "        repo_list.append(repo_var.get_page(i))\n",
    "    final_repo_list = list((itertools.chain.from_iterable(repo_list)))\n",
    "\n",
    "# This program gives two Repository lists. 1)list_with_lesson & list_without_lesson.\n",
    "\n",
    "    for repo in final_repo_list:\n",
    "        tags=repo.get_topics()\n",
    "        if \"lesson\" in tags:\n",
    "            list_with_lesson.append(repo)\n",
    "        else:\n",
    "            list_without_lesson.append(repo)\n",
    "            \n",
    "repo_initialize()"
   ]
  },
  {
   "cell_type": "markdown",
   "id": "2231abe6",
   "metadata": {},
   "source": [
    "##### Reading all the datasets to get the unique list of contributors( commit,PR and issue) of each repository ."
   ]
  },
  {
   "cell_type": "code",
   "execution_count": null,
   "id": "8a14af7a",
   "metadata": {},
   "outputs": [],
   "source": [
    "def read_all_the_files(list_with_lesson):\n",
    "    \n",
    "    \"\"\"\n",
    "    This function reads all the json files pertaining to each repository.\n",
    "    It iterates over each repository of list that contains repositories of lesson.\n",
    "    \n",
    "    Input:- list of repositories of lesson -list_with_lesson.\n",
    "    \n",
    "    Output:- It returns a dictionary that contains repository name as a key & list of contributor as a value.\n",
    "    \n",
    "    \"\"\"\n",
    "    \n",
    "    \n",
    "    contributors_count=dict()\n",
    "    for repo in list_with_lesson:\n",
    "        contributors=set()\n",
    "        if not os.path.exists('data/'+repo.name+'.json'): \n",
    "            continue\n",
    "        with open('data/'+repo.name+'.json','r') as f:\n",
    "            try:\n",
    "                fildata=json.load(f)\n",
    "                \n",
    "                commit_dict=fildata['commits_dict']\n",
    "                \n",
    "                for k in commit_dict.keys():\n",
    "                    try:\n",
    "                        contributors.add(commit_dict[k][0])\n",
    "                        \n",
    "                    except:\n",
    "                        pass\n",
    "                for pr in fildata['pr_dict']:\n",
    "                    try:\n",
    "                        contributors.add(pr['pr_name'])\n",
    "                    except:\n",
    "                        pass\n",
    "                for issue in fildata['issue_dict']:\n",
    "                    try:\n",
    "                        contributors.add(issue['user_name'])\n",
    "                    except:\n",
    "                        pass\n",
    "            except:\n",
    "                pass\n",
    "        contributors_count[repo.name]=contributors         \n",
    "                \n",
    "\n",
    "\n",
    "        \n",
    "            \n",
    "    return contributors_count\n",
    "contri_data=read_all_the_files(list_with_lesson)     "
   ]
  },
  {
   "cell_type": "markdown",
   "id": "e73d6dcc",
   "metadata": {},
   "source": [
    "#### Function to get the list of repositories of each contributors"
   ]
  },
  {
   "cell_type": "code",
   "execution_count": null,
   "id": "1875ff62",
   "metadata": {},
   "outputs": [],
   "source": [
    "def get_list_of_repo_for_each_contributors(contri_data):\n",
    "    \n",
    "    \"\"\"\n",
    "    This function gives the list of repositories of each contributors.\n",
    "    Input:- It takes a dictionary as an argument that contains repository name as a key & list of contributor as a value.\n",
    "    Output:- It returns a dictionary that contains contributor as a key and repsoitories as a value.\n",
    "    \n",
    "\n",
    "    \"\"\"\n",
    "    \n",
    "    \n",
    "    cdict=dict()\n",
    "    for k_repo in contri_data.keys():\n",
    "        #print(contri_data[k_repo])\n",
    "        if contri_data[k_repo] is None:\n",
    "            continue\n",
    "        for contributor in contri_data[k_repo]:# clist is containing the all the contributors of K_repo.\n",
    "        \n",
    "            cdict[contributor]=set() # containing all contributors as a key and their corresponding list of repos to which they have contributed  in which they are ocntributing.\n",
    "        \n",
    "        for contributor in cdict.keys():\n",
    "            for repo in contri_data.keys():\n",
    "                if contributor in contri_data[repo]:\n",
    "                    cdict[contributor].add(repo)\n",
    "    return cdict\n",
    "\n",
    "all_contributors_list=get_list_of_repo_for_each_contributors(contri_data)\n",
    "\n",
    "        "
   ]
  },
  {
   "cell_type": "markdown",
   "id": "061989d3",
   "metadata": {},
   "source": [
    "#### Function count repositories of each contributor to which the user has contributed to."
   ]
  },
  {
   "cell_type": "code",
   "execution_count": null,
   "id": "ae26edfd",
   "metadata": {},
   "outputs": [],
   "source": [
    "def count_repo_of_each_contributor(all_contributors_list):\n",
    "\n",
    "    \"\"\"\n",
    "    This functions count repositories of each contributor to which the user has contributed to.\n",
    "    Input:- It takes a dictionary that contains contributor as a key and repositories as a value.\n",
    "    Output:- It returns a dataframe of with two columns , 1st column has contributors name and 2nd column has the total count \n",
    "             repositories to which that contributor has contributed to.\n",
    "    \n",
    "    \"\"\"\n",
    "    \n",
    "    \n",
    "    contrilist=[]\n",
    "    repocountlist=[]\n",
    "    histo_df=pd.DataFrame()\n",
    "    for k_repo in all_contributors_list.keys():\n",
    "        contrilist.append(k_repo)\n",
    "        repocountlist.append(len(all_contributors_list[k_repo]))\n",
    "        \n",
    "    return contrilist,repocountlist\n",
    "\n",
    "contrilist,repocountlist=count_repo_of_each_contributor(all_contributors_list)\n",
    "\n",
    "histo_df=pd.DataFrame()\n",
    "\n",
    "histo_df['Contributor']=contrilist\n",
    "histo_df['Repo_Count']=repocountlist\n"
   ]
  },
  {
   "cell_type": "code",
   "execution_count": null,
   "id": "08b0d465",
   "metadata": {},
   "outputs": [],
   "source": [
    "pd.set_option('display.max_rows', None)\n",
    "histo_df\n"
   ]
  },
  {
   "cell_type": "code",
   "execution_count": null,
   "id": "0b7292bc",
   "metadata": {},
   "outputs": [],
   "source": [
    "df8=histo_df"
   ]
  },
  {
   "cell_type": "code",
   "execution_count": null,
   "id": "a79ae999",
   "metadata": {},
   "outputs": [],
   "source": [
    "histo_df[histo_df['Repo_Count']==1].shape"
   ]
  },
  {
   "cell_type": "markdown",
   "id": "c9867825",
   "metadata": {},
   "source": [
    "### Function to plot the histogram."
   ]
  },
  {
   "cell_type": "code",
   "execution_count": null,
   "id": "ecc80f88",
   "metadata": {},
   "outputs": [],
   "source": [
    "def plot_histogram(histo_df):\n",
    "    plt.style.use('seaborn-white')\n",
    "    histo_df.hist(column='Repo_Count',bins=[1,2,3,4,5,6,10,15,20,25,30,35,40,50,60])\n",
    "    plt.xlabel(\"Repo_count\")\n",
    "    plt.ylabel(\"Contributors\")\n",
    "    plt.title(\"Contribution of users to total number of repositories\")\n",
    "    plt.show()\n",
    "    plt.tight_layout()\n",
    "plot_histogram(histo_df)\n",
    "\n",
    "\n",
    "\n",
    "# The number of lessons to which  each contributor has contributed can be derived from repository \n",
    "# list against each contributor.\n",
    "\n",
    "# So the dictionary contri_data  has name of contributors as key and list of repository as the values.\n",
    "\n",
    "# Our observation is the most contributor has contributed only repository,followed by those contributing to two repositories.\n",
    "\n"
   ]
  },
  {
   "cell_type": "code",
   "execution_count": null,
   "id": "2e428703",
   "metadata": {},
   "outputs": [],
   "source": [
    "import networkx as nx"
   ]
  },
  {
   "cell_type": "code",
   "execution_count": null,
   "id": "b87dab82",
   "metadata": {},
   "outputs": [],
   "source": [
    "graph=nx.DiGraph()\n"
   ]
  },
  {
   "cell_type": "markdown",
   "id": "f74e22af",
   "metadata": {},
   "source": [
    "#### Plotting the collaboration graph to understand collaboration between contributor."
   ]
  },
  {
   "cell_type": "code",
   "execution_count": null,
   "id": "12779c6a",
   "metadata": {},
   "outputs": [],
   "source": [
    "\n",
    "\n",
    "def create_edges(all_contributors_list):\n",
    "    \"\"\"\n",
    "    Create_edges function creates the connection between various contributors.\n",
    "    If contributor is contributing one repo and another contributor is contributing to the same repo, we will create an edge \n",
    "    between them.\n",
    "    \n",
    "    I/o: The function takes all contributors list along with the repo list\n",
    "    o/p: The function returns the list of tuples with contributors\n",
    "\n",
    "    \"\"\"\n",
    "    edges=[] #list contains typles , each tuple has contributor-contributor mapping\n",
    "    for contributor in all_contributors_list.keys(): #get contirbutor\n",
    "        for repo in all_contributors_list[contributor]: #get repo of that contirbutor\n",
    "            for contributor2 in all_contributors_list.keys(): # get another contributor\n",
    "                if contributor != contributor2:\n",
    "                    if repo in all_contributors_list[contributor2]: #check the repo of first contributor in the repo list of second contribot\n",
    "                        if (repo is not None) and (contributor is not None) and (contributor2 is not None):\n",
    "                            edges.append((contributor,contributor2)) #create and edge as a tuple and add it to list \n",
    "    return edges\n",
    "\n",
    "edges=create_edges(all_contributors_list)\n",
    "                    "
   ]
  },
  {
   "cell_type": "code",
   "execution_count": null,
   "id": "740d0069",
   "metadata": {},
   "outputs": [],
   "source": [
    "all_contributors_list"
   ]
  },
  {
   "cell_type": "code",
   "execution_count": null,
   "id": "b4e98ed6",
   "metadata": {},
   "outputs": [],
   "source": [
    "print(len(all_contributors_list.keys()))"
   ]
  },
  {
   "cell_type": "code",
   "execution_count": null,
   "id": "c069e942",
   "metadata": {},
   "outputs": [],
   "source": [
    "all_contributors_list"
   ]
  },
  {
   "cell_type": "code",
   "execution_count": null,
   "id": "6ea760f7",
   "metadata": {},
   "outputs": [],
   "source": [
    "graph.add_edges_from(edges)\n"
   ]
  },
  {
   "cell_type": "code",
   "execution_count": null,
   "id": "bdf01fd0",
   "metadata": {},
   "outputs": [],
   "source": [
    "pos=nx.spring_layout(graph)\n"
   ]
  },
  {
   "cell_type": "code",
   "execution_count": null,
   "id": "ffc692c3",
   "metadata": {},
   "outputs": [],
   "source": [
    "figsize=plt.figure(figsize=[20,20])\n",
    "nx.draw_networkx_nodes(graph,pos,cmap=plt.get_cmap('jet'),node_size=10)\n",
    "nx.draw_networkx_edges(graph,pos,edgelist=graph.edges(),arrows=False)\n",
    "\n"
   ]
  },
  {
   "cell_type": "code",
   "execution_count": null,
   "id": "479748c7",
   "metadata": {},
   "outputs": [],
   "source": [
    "nx.is_strongly_connected(graph)"
   ]
  }
 ],
 "metadata": {
  "kernelspec": {
   "display_name": "Python 3 (ipykernel)",
   "language": "python",
   "name": "python3"
  },
  "language_info": {
   "codemirror_mode": {
    "name": "ipython",
    "version": 3
   },
   "file_extension": ".py",
   "mimetype": "text/x-python",
   "name": "python",
   "nbconvert_exporter": "python",
   "pygments_lexer": "ipython3",
   "version": "3.9.12"
  }
 },
 "nbformat": 4,
 "nbformat_minor": 5
}
