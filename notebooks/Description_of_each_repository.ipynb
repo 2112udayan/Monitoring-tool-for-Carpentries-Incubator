{
 "cells": [
  {
   "cell_type": "code",
   "execution_count": null,
   "id": "90308aef",
   "metadata": {},
   "outputs": [],
   "source": [
    "from github import Github\n",
    "import pandas as pd \n",
    "import itertools\n",
    "import json"
   ]
  },
  {
   "cell_type": "code",
   "execution_count": null,
   "id": "1d42b789",
   "metadata": {},
   "outputs": [],
   "source": [
    "%store -r access_token\n",
    "g = Github(\"\")"
   ]
  },
  {
   "cell_type": "code",
   "execution_count": null,
   "id": "d19fa078",
   "metadata": {},
   "outputs": [],
   "source": [
    "g.rate_limiting"
   ]
  },
  {
   "cell_type": "code",
   "execution_count": null,
   "id": "c4b36114",
   "metadata": {},
   "outputs": [],
   "source": [
    " repo = g.get_repo(\"carpentries-incubator/gap-lesson\")"
   ]
  },
  {
   "cell_type": "code",
   "execution_count": null,
   "id": "6b106409",
   "metadata": {},
   "outputs": [],
   "source": [
    " org=g.get_organization(\"Carpentries-Incubator\")"
   ]
  },
  {
   "cell_type": "code",
   "execution_count": null,
   "id": "4c249c4d",
   "metadata": {},
   "outputs": [],
   "source": [
    "repo = g.get_organization(\"carpentries-incubator\").get_repos()\n",
    "repo.totalCount"
   ]
  },
  {
   "cell_type": "code",
   "execution_count": null,
   "id": "4c121049",
   "metadata": {},
   "outputs": [],
   "source": [
    "for i in range(0,10):\n",
    "    if len(repo.get_page(i))==0:\n",
    "        print(i, \"======================Empty\")\n",
    "        break\n",
    "\n",
    "    else:\n",
    "        pass\n",
    "        #print(repo.get_page(i))"
   ]
  },
  {
   "cell_type": "code",
   "execution_count": null,
   "id": "2987b68f",
   "metadata": {},
   "outputs": [],
   "source": [
    "repo_list = list()\n",
    "for i in range(0,5):\n",
    "    repo_list.append(repo.get_page(i))\n",
    "    "
   ]
  },
  {
   "cell_type": "code",
   "execution_count": null,
   "id": "8b2c2494",
   "metadata": {},
   "outputs": [],
   "source": [
    "repo_list"
   ]
  },
  {
   "cell_type": "code",
   "execution_count": null,
   "id": "90ec0f21",
   "metadata": {},
   "outputs": [],
   "source": [
    "final_repo_list = list((itertools.chain.from_iterable(repo_list)))"
   ]
  },
  {
   "cell_type": "code",
   "execution_count": null,
   "id": "09fe19f8",
   "metadata": {},
   "outputs": [],
   "source": [
    "# This program give two Repository lists. 1) Repository _list_with_lesson & Repository _list_without_lesson.\n",
    "list_without_lesson=list()\n",
    "list_with_lesson=list()\n",
    "for repo in final_repo_list:\n",
    "  tags=repo.get_topics()\n",
    "  if \"lesson\" in tags:\n",
    "    list_with_lesson.append(repo)\n",
    "  else:\n",
    "    list_without_lesson.append(repo)\n",
    "print(\"List of Repository with lesson:\")   \n",
    "for repo in list_with_lesson:\n",
    "  print(repo)\n",
    "print(\"\\nList of Repository without lesson\\n\")\n",
    "for repo in list_without_lesson:\n",
    "  print(repo)"
   ]
  },
  {
   "cell_type": "markdown",
   "id": "84683e44",
   "metadata": {},
   "source": [
    "#### Functions to determine & implement parameters describing project activities\n",
    " \n",
    "* number of open issues\n",
    "* number of closed issues\n",
    "* number of open PRs\n",
    "* number of closed PRs\n",
    "* number of starts\n"
   ]
  },
  {
   "cell_type": "markdown",
   "id": "d2e59fdc",
   "metadata": {},
   "source": [
    "#####  To get the count of open and closed issues"
   ]
  },
  {
   "cell_type": "code",
   "execution_count": null,
   "id": "db8261b7",
   "metadata": {},
   "outputs": [],
   "source": [
    "# cols=[\"repo\",\"open_issue\",\"closed_issue\",\"open_PR\",\"closed_PR\",\"stars_count\"]\n",
    "# df=pd.DataFrame(columns=cols)\n",
    "# df['repo']=list_with_lesson\n",
    "\n",
    "def issues_count(list_with_lesson): # total count of issues , \n",
    "    open_issue_count=[]\n",
    "    closed_issue_count=[]\n",
    "    for repo in list_with_lesson:\n",
    "        repo_name=repo.name\n",
    "        open_issues=repo.get_issues(state='open')\n",
    "        open_issue=open_issues.totalCount\n",
    "        open_issue_count.append(open_issue)\n",
    "        closed_issues=repo.get_issues(state='closed')\n",
    "        closed_issue=closed_issues.totalCount\n",
    "        closed_issue_count.append(closed_issue)\n",
    "    \n",
    "    return (repo_name,open_issue_count,closed_issue_count)\n",
    "final_data=issues_count(list_with_lesson)\n",
    "# print(result)\n",
    "# type(result)\n",
    "\n",
    "\n",
    "\n",
    "# df['open_issue']=issues_count(list_with_lesson)\n",
    "# df['closed_issue']=\n",
    "        "
   ]
  },
  {
   "cell_type": "code",
   "execution_count": null,
   "id": "c76a5611",
   "metadata": {},
   "outputs": [],
   "source": [
    "df = pd.DataFrame (final_data, columns=['repo_name', 'open_issue', 'closed_issue'])"
   ]
  },
  {
   "cell_type": "code",
   "execution_count": null,
   "id": "8e13ecac",
   "metadata": {},
   "outputs": [],
   "source": [
    "# To get the count of open and closed pull_request.\n",
    "\n",
    "def pulls_count(list_with_lesson):\n",
    "    open_pr_count=[]\n",
    "    closed_pr_count=[]\n",
    "    for repo in list_with_lesson:\n",
    "        open_pr=repo.get_pulls(state='open').totalCount\n",
    "        open_pr_count.append(open_pr)\n",
    "        closed_pr=repo.get_pulls(state='closed').totalCount\n",
    "        closed_pr_count.append(closed_pr)\n",
    "        \n",
    "    return open_pr_count,closed_pr_count\n",
    "\n",
    "\n",
    "# df['open_PR']=pulls_count(open_pr_count)\n",
    "# df['closed_PR']=pulls_count(closed_pr_count)\n",
    "    "
   ]
  },
  {
   "cell_type": "code",
   "execution_count": null,
   "id": "8b23945e",
   "metadata": {},
   "outputs": [],
   "source": [
    "df.style.set_properties(subset=['repo'], **{'width-min': '300px'})"
   ]
  },
  {
   "cell_type": "code",
   "execution_count": null,
   "id": "95446fa1",
   "metadata": {},
   "outputs": [],
   "source": [
    "# To get the count of stargazers.\n",
    "\n",
    "def stars_count(list_with_lesson):\n",
    "    stargazers=[]\n",
    "    for repo in list_with_lesson:\n",
    "        stars=repo.stargazers_count\n",
    "        stargazers.append(stars)\n",
    "    return stargazers\n",
    "\n",
    "df['stars_count']=stars_count(list_with_lesson)\n"
   ]
  },
  {
   "cell_type": "code",
   "execution_count": null,
   "id": "7f1f4c83",
   "metadata": {},
   "outputs": [],
   "source": [
    "df.style.set_properties(subset=['repo'], **{'width-min': '300px'})"
   ]
  },
  {
   "cell_type": "code",
   "execution_count": null,
   "id": "40fe5d1e",
   "metadata": {},
   "outputs": [],
   "source": [
    "# def repository_info(list_with_lesson):\n",
    "#     thisdict={}\n",
    "#     for repo in list_with_lesson:\n",
    "        \n",
    "#         # open and closed issues\n",
    "#         open_closed_issue=issues_count(repo)\n",
    "        \n",
    "#         # open and closed pull_request\n",
    "#         open_closed_pulls=pulls_count(repo)\n",
    "        \n",
    "#         # Stargzers\n",
    "#         stars=stars_count(repo)\n",
    "        \n",
    "#     return {\"repo_name\":repo,\"open_issues\":open_issue_count, \n",
    "#            \"closed_issues\": closed_issue_count,\n",
    "#            \"number of open PRs\": open_pr_count ,\n",
    "#            \"number of closed PRs\":closed_pr_count,\n",
    "#            \"number of stars\":stargazers}\n",
    "\n",
    "# final_value=repository_info(list_with_lesson)\n",
    "# print(final_value)\n",
    "\n",
    "\n",
    "        \n",
    "        \n",
    "        \n",
    "        "
   ]
  },
  {
   "cell_type": "code",
   "execution_count": null,
   "id": "a78769e4",
   "metadata": {},
   "outputs": [],
   "source": []
  },
  {
   "cell_type": "code",
   "execution_count": null,
   "id": "01b9c983",
   "metadata": {},
   "outputs": [],
   "source": []
  }
 ],
 "metadata": {
  "kernelspec": {
   "display_name": "Python 3 (ipykernel)",
   "language": "python",
   "name": "python3"
  },
  "language_info": {
   "codemirror_mode": {
    "name": "ipython",
    "version": 3
   },
   "file_extension": ".py",
   "mimetype": "text/x-python",
   "name": "python",
   "nbconvert_exporter": "python",
   "pygments_lexer": "ipython3",
   "version": "3.9.12"
  }
 },
 "nbformat": 4,
 "nbformat_minor": 5
}
