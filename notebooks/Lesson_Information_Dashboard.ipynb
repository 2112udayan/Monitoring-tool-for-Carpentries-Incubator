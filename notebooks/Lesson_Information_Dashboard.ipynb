{
 "cells": [
  {
   "cell_type": "code",
   "execution_count": null,
   "id": "97532aef",
   "metadata": {},
   "outputs": [],
   "source": [
    "from github import Github\n",
    "import pandas as pd \n",
    "import itertools\n",
    "import json\n",
    "import os"
   ]
  },
  {
   "cell_type": "markdown",
   "id": "8fdcb8f5",
   "metadata": {},
   "source": [
    "##### Load personal token here to authenticate."
   ]
  },
  {
   "cell_type": "code",
   "execution_count": null,
   "id": "5fc21f26",
   "metadata": {},
   "outputs": [],
   "source": [
    "with open(os.path.expanduser('~') + '/.github_shell_token', 'r') as token_file:\n",
    "    access_token = token_file.read().strip()\n",
    "if access_token == None:\n",
    "    error(\"Error: no access token found or provided\")\n",
    "g = Github(access_token)"
   ]
  },
  {
   "cell_type": "code",
   "execution_count": null,
   "id": "77bbc1f8",
   "metadata": {},
   "outputs": [],
   "source": [
    "g.rate_limiting"
   ]
  },
  {
   "cell_type": "code",
   "execution_count": null,
   "id": "704bd4a4",
   "metadata": {},
   "outputs": [],
   "source": [
    "org=g.get_organization(\"Carpentries-Incubator\")"
   ]
  },
  {
   "cell_type": "markdown",
   "id": "1d67a20b",
   "metadata": {},
   "source": [
    "#### Total number of repositories."
   ]
  },
  {
   "cell_type": "code",
   "execution_count": null,
   "id": "3223e9c9",
   "metadata": {},
   "outputs": [],
   "source": [
    "repo = g.get_organization(\"carpentries-incubator\").get_repos()\n",
    "repo.totalCount"
   ]
  },
  {
   "cell_type": "markdown",
   "id": "b2e6f39b",
   "metadata": {},
   "source": [
    "#### Creating a page_num variable to hold the valid page numbers to iterate the repo list."
   ]
  },
  {
   "cell_type": "code",
   "execution_count": null,
   "id": "656241ce",
   "metadata": {},
   "outputs": [],
   "source": [
    "\n",
    "page_num = 0\n",
    "for i in range(0,10):\n",
    "    if len(repo.get_page(i))==0:\n",
    "        page_num = i\n",
    "        break\n",
    "    else:\n",
    "        pass"
   ]
  },
  {
   "cell_type": "code",
   "execution_count": null,
   "id": "27d20ce5",
   "metadata": {},
   "outputs": [],
   "source": [
    "repo_list = list()\n",
    "for i in range(0,page_num):\n",
    "    repo_list.append(repo.get_page(i))\n",
    "\n",
    "#### Final repo list created from repo list\n",
    "\n",
    "final_repo_list = list((itertools.chain.from_iterable(repo_list)))"
   ]
  },
  {
   "cell_type": "markdown",
   "id": "77b8e108",
   "metadata": {},
   "source": [
    "#### Repository _list_with_lesson & Repository _list_without_lesson."
   ]
  },
  {
   "cell_type": "code",
   "execution_count": null,
   "id": "7d30cfe2",
   "metadata": {},
   "outputs": [],
   "source": [
    "list_without_lesson=list()\n",
    "list_with_lesson=list()\n",
    "for repo in final_repo_list:\n",
    "    tags=repo.get_topics()\n",
    "    if \"lesson\" in tags:\n",
    "        list_with_lesson.append(repo)\n",
    "    else:\n",
    "        list_without_lesson.append(repo)\n",
    "print(\"List of Repository with lesson:\")   \n",
    "for repo in list_with_lesson:\n",
    "    print(repo)\n",
    "print(\"\\nList of Repository without lesson\\n\")\n",
    "for repo in list_without_lesson:\n",
    "    print(repo)"
   ]
  },
  {
   "cell_type": "code",
   "execution_count": null,
   "id": "47e930f4",
   "metadata": {},
   "outputs": [],
   "source": [
    "# Truncating the for testing purpose.\n",
    "\n",
    "# list_with_lesson=list_with_lesson[:5]"
   ]
  },
  {
   "cell_type": "code",
   "execution_count": null,
   "id": "478bf552",
   "metadata": {},
   "outputs": [],
   "source": [
    "list_with_lesson"
   ]
  },
  {
   "cell_type": "markdown",
   "id": "cde948f5",
   "metadata": {},
   "source": [
    "#### Create Functions to determine & implement parameters describing project activities.in particular\n",
    "\n",
    "* number of open issues\n",
    "* number of closed issues\n",
    "* number of open PRs-0\n",
    "* number of closed PRs\n",
    "* number of contributors\n",
    "* number of starts"
   ]
  },
  {
   "cell_type": "code",
   "execution_count": null,
   "id": "a99db718",
   "metadata": {},
   "outputs": [],
   "source": [
    "# Declaring a function to count open_issue\n",
    "\n",
    "def number_of_open_issues(repo):\n",
    "    count_all_open_issue=0\n",
    "    open_issues=repo.get_issues(state='open')\n",
    "    for issue in open_issues:\n",
    "        count_all_open_issue+=1\n",
    "    return count_all_open_issue\n"
   ]
  },
  {
   "cell_type": "code",
   "execution_count": null,
   "id": "6466a517",
   "metadata": {},
   "outputs": [],
   "source": [
    "# Declaring a function to count closed_issue\n",
    "\n",
    "def number_of_closed_issues(repo):\n",
    "    count_all_closed_issue=0\n",
    "    closed_issues=repo.get_issues(state='closed')\n",
    "    for issue in closed_issues:\n",
    "        count_all_closed_issue+=1\n",
    "    return count_all_closed_issue"
   ]
  },
  {
   "cell_type": "code",
   "execution_count": null,
   "id": "610f638a",
   "metadata": {},
   "outputs": [],
   "source": [
    "# Declaring a function to count stargazers\n",
    "\n",
    "def stargazers(repo):\n",
    "    stars=repo.stargazers_count\n",
    "    return stars\n"
   ]
  },
  {
   "cell_type": "code",
   "execution_count": null,
   "id": "381ccea1",
   "metadata": {},
   "outputs": [],
   "source": [
    "# Declaring a function to count closed_pr\n",
    "\n",
    "def number_of_closed_PR(repo):\n",
    "    count_all_closed_PR=0\n",
    "    pulls=repo.get_pulls(state='closed')\n",
    "    for pr in pulls:\n",
    "        count_all_closed_PR+=1\n",
    "    return count_all_closed_PR\n",
    "    "
   ]
  },
  {
   "cell_type": "code",
   "execution_count": null,
   "id": "8f4b8564",
   "metadata": {},
   "outputs": [],
   "source": [
    "# Declaring a function to count closed_pr\n",
    "\n",
    "def number_of_open_PR(repo):\n",
    "    count_all_open_PR=0\n",
    "    pulls=repo.get_pulls(state='open')\n",
    "    for pr in pulls:\n",
    "        count_all_open_PR+=1\n",
    "    return count_all_open_PR"
   ]
  },
  {
   "cell_type": "code",
   "execution_count": null,
   "id": "54eb9c7a",
   "metadata": {},
   "outputs": [],
   "source": [
    "# Creating a total count of all categories (Issue_count, Pr_count, Stagazers_count & contributors_count)\n",
    "\n",
    "def get_final_values(list_with_lesson):\n",
    "    total_closed_Issue_count=0\n",
    "    total_open_Issue_count=0\n",
    "    starCount=0\n",
    "    total_OpenPR_Request=0\n",
    "    total_ClosedPR_Request=0\n",
    "    for repo in list_with_lesson:\n",
    "        \n",
    "        # closed issues_count\n",
    "        closedIssues = number_of_closed_issues(repo)\n",
    "        total_closed_Issue_count += closedIssues\n",
    "        \n",
    "        # open issues_count\n",
    "        openIssues = number_of_open_issues(repo)\n",
    "        total_open_Issue_count+=openIssues\n",
    "        \n",
    "        # Stargazers_count\n",
    "        stars = stargazers(repo)\n",
    "        starCount+=stars\n",
    "        \n",
    "        # open pr_request_count\n",
    "        openPR = number_of_open_PR(repo)\n",
    "        total_OpenPR_Request+=openPR\n",
    "        \n",
    "        # closed pr_request_count\n",
    "        closedPR_Request= number_of_closed_PR(repo)\n",
    "        total_ClosedPR_Request+=closedPR_Request\n",
    "\n",
    "    return {'total_closed_Issue_count':total_closed_Issue_count,\n",
    "            'total_open_Issue_count':total_open_Issue_count,\n",
    "            'starCount':starCount,\n",
    "            'total_OpenPR_request': total_OpenPR_Request,\n",
    "            'total_ClosedPR_request':total_ClosedPR_Request}\n",
    "\n",
    "\n",
    "# Calling the function\n",
    "\n",
    "final_values = get_final_values(list_with_lesson)\n",
    "print(final_values)"
   ]
  },
  {
   "cell_type": "markdown",
   "id": "480ff0be",
   "metadata": {},
   "source": [
    "#### Dashboard that presents the description of all lessons in the Carpentries incubator.\n",
    "\n",
    "* lesson title\n",
    "* repository\n",
    "* Life Cycle Stage\n",
    "* Tags\n",
    "* Last updated"
   ]
  },
  {
   "cell_type": "code",
   "execution_count": null,
   "id": "19163a5e",
   "metadata": {},
   "outputs": [],
   "source": [
    "#### Declaring a function to get_lesson_title,last_updated_date,repsoitory_name,Life_cycle_stage of lesson ,\n",
    " ##  tags in each lesson.\n",
    "\n",
    "import datetime\n",
    "def lesson_info(repo):\n",
    "    \n",
    "    \"\"\"\n",
    "    This function is giving overview of each repsoitory.\n",
    "    Input:- Taking repo as a parameter that contains all the repositories information of Carpentries Incubator.\n",
    "    Output:- Returns a dataframe \n",
    "    \n",
    "    \"\"\"\n",
    "    \n",
    "    thisdict={}\n",
    "    version=\"\"\n",
    "    \n",
    "    # To get the updated date & time.\n",
    "    date_latest=datetime.datetime(2005, 6, 1)\n",
    "    \n",
    "    # To get the repositories name\n",
    "    name=repo.name\n",
    "    \n",
    "    # Calling get_topics method to get the topics of each repositories\n",
    "    tags=repo.get_topics()\n",
    "    \n",
    "    #Calling the description object to get the title of lessons\n",
    "    \n",
    "    title=repo.description\n",
    "    \n",
    "    help_wanted=0\n",
    "    if \"alpha\" in tags:\n",
    "        version=\"alpha\"\n",
    "    if \"pre-alpha\" in tags:\n",
    "        version=\"pre-alpha\"\n",
    "    if \"beta\" in tags:\n",
    "        version=\"beta\"\n",
    "    if \"stable\" in tags:\n",
    "        version=\"stable\"\n",
    "        \n",
    "    # Calling the get_issues method to get all the issues to retreive the labels of repsositories.\n",
    "    \n",
    "    open_issues=repo.get_issues(state='open')\n",
    "    for issue in open_issues:\n",
    "        labels=issue.get_labels()\n",
    "        for label in labels:\n",
    "            if label.name==\"help wanted\":\n",
    "                help_wanted+=1\n",
    "                \n",
    "    # Calling the get_commits method to get all the commits to retrieve last updated date & time of the repsoitories.\n",
    "    \n",
    "    commits=repo.get_commits()\n",
    "    for commit in commits:\n",
    "        time = datetime.datetime.strptime(commit.last_modified,'%a, %d %b %Y %H:%M:%S %Z')\n",
    "        if (time > date_latest):\n",
    "            date_latest = time\n",
    "            \n",
    "    # Putting the date into a dictionary.\n",
    "  \n",
    "    thisdict[\"repo_name\"]=name\n",
    "    thisdict[\"repo_tags\"]=tags\n",
    "    thisdict[\"repo_description\"]=title\n",
    "    thisdict[\"repo_datetime\"]=date_latest\n",
    "    thisdict[\"repo_version\"]=version\n",
    "    thisdict[\"repo_label\"]=help_wanted\n",
    "    return thisdict\n",
    "\n",
    "# Assigning a dictionary to list_of_topic\n",
    "\n",
    "list_of_topic=[]\n",
    "for repo in list_with_lesson:\n",
    "\n",
    "# Calling the function.\n",
    "\n",
    "    temp_repo_info=lesson_info(repo)\n",
    "    list_of_topic.append(temp_repo_info)\n"
   ]
  },
  {
   "cell_type": "code",
   "execution_count": null,
   "id": "3a3cb4ce",
   "metadata": {},
   "outputs": [],
   "source": [
    "df=pd.json_normalize(list_of_topic)\n",
    "pd.set_option('display.max_rows', None)\n",
    "df"
   ]
  },
  {
   "cell_type": "markdown",
   "id": "4c94e711",
   "metadata": {},
   "source": [
    "#### Declaring a function to get the overview of repositories.\n",
    "\n",
    "*  Total number of lessons in the incubator\n",
    "*  how many lessons at each state\n",
    "*  number of lessons with the \"help wanted\" tag"
   ]
  },
  {
   "cell_type": "code",
   "execution_count": null,
   "id": "5a83a31d",
   "metadata": {},
   "outputs": [],
   "source": [
    "# Declaring a function to get number of lesson in the Incubator,count_of_lesson at each state and number_help_wanted_tag.\n",
    "\n",
    "def lesson_overview(list_of_topic):\n",
    "    \n",
    "    \"\"\"\n",
    "    This function gives the overview of each repsoistory.\n",
    "    Input:- It takes list_of_topics which contains a distionary holds repo_name, repo_tags, last updated date & time,\n",
    "            repo_title, lesson life cycle stage ,repo labels.\n",
    "    Output:- Returns a dictionary of final Value that contains count of lesson at pre-alpha, alpha,beta and stable\n",
    "             and count of lessons that have help_wanted tag. Further count of lessons updated in the last 30 days.\n",
    "    \n",
    "    \"\"\"\n",
    "    \n",
    "    count_all_alpha_state=0\n",
    "    count_all_pre_alpha_state=0\n",
    "    count_all_beta_state=0\n",
    "    count_all_stable_state=0\n",
    "    total_lesson_count=0\n",
    "    totallesson_help_wanted=0\n",
    "    totallesson_updated_last_30_days=0\n",
    "    today = datetime.datetime.now()\n",
    "    previous_month = today.replace(month = datetime.datetime.now().month-2)\n",
    "    \n",
    "    for topic in list_of_topic:\n",
    "        total_lesson_count+=1\n",
    "        \n",
    "        if topic[\"repo_version\"]==\"alpha\":\n",
    "            count_all_alpha_state+=1\n",
    "        \n",
    "        if topic[\"repo_version\"]==\"pre-alpha\":\n",
    "            count_all_pre_alpha_state+=1\n",
    "        \n",
    "        if topic[\"repo_version\"]==\"beta\":\n",
    "            count_all_beta_state+=1\n",
    "        \n",
    "        if topic[\"repo_version\"]==\"stable\":\n",
    "            count_all_stable_state+=1\n",
    "        \n",
    "        if topic[\"repo_label\"]!=0:\n",
    "            totallesson_help_wanted+=1\n",
    "        \n",
    "        if topic[\"repo_datetime\"]>previous_month:\n",
    "            totallesson_updated_last_30_days+=1\n",
    "        \n",
    "    return {'total_lesson_count':total_lesson_count,\n",
    "            'count_all_alpha_state':count_all_alpha_state ,\n",
    "            'count_all_pre_alpha_state':count_all_pre_alpha_state,\n",
    "            'count_all_beta_state':count_all_beta_state,\n",
    "            'count_all_stable_state':count_all_stable_state,\n",
    "            'totallesson_help_wanted':totallesson_help_wanted, \n",
    "            'totallesson_updated_last_30_days':totallesson_updated_last_30_days}\n",
    "\n",
    "\n",
    "finalvalues=lesson_overview(list_of_topic)\n",
    "\n",
    "print(finalvalues)"
   ]
  },
  {
   "cell_type": "code",
   "execution_count": null,
   "id": "354fe176",
   "metadata": {},
   "outputs": [],
   "source": []
  }
 ],
 "metadata": {
  "kernelspec": {
   "display_name": "Python 3 (ipykernel)",
   "language": "python",
   "name": "python3"
  },
  "language_info": {
   "codemirror_mode": {
    "name": "ipython",
    "version": 3
   },
   "file_extension": ".py",
   "mimetype": "text/x-python",
   "name": "python",
   "nbconvert_exporter": "python",
   "pygments_lexer": "ipython3",
   "version": "3.9.1"
  }
 },
 "nbformat": 4,
 "nbformat_minor": 5
}
