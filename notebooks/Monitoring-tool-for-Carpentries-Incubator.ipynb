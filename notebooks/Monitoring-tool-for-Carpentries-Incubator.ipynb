{
 "cells": [
  {
   "cell_type": "code",
   "execution_count": null,
   "id": "cdd29c0c",
   "metadata": {},
   "outputs": [],
   "source": [
    "from github import Github\n",
    "import pandas as pd \n",
    "import itertools\n",
    "import json"
   ]
  },
  {
   "cell_type": "code",
   "execution_count": null,
   "id": "e2f44a84",
   "metadata": {},
   "outputs": [],
   "source": [
    "%store -r access_token\n",
    "g = Github(\"\")"
   ]
  },
  {
   "cell_type": "code",
   "execution_count": null,
   "id": "a6ea62e6",
   "metadata": {},
   "outputs": [],
   "source": [
    "g.rate_limiting"
   ]
  },
  {
   "cell_type": "code",
   "execution_count": null,
   "id": "39441763",
   "metadata": {},
   "outputs": [],
   "source": [
    "# KPI 1 > Total number of repositories\n",
    "repo = g.get_organization(\"carpentries-incubator\").get_repos()\n",
    "repo.totalCount\n"
   ]
  },
  {
   "cell_type": "code",
   "execution_count": null,
   "id": "dc1dc3ae",
   "metadata": {},
   "outputs": [],
   "source": [
    "# with open('CarpentriesIncubator.json', 'w', encoding='utf-8') as f:\n",
    "#     json.dump(repo, f, ensure_ascii=False, indent=4)\n",
    "#      with open(\"Data.json\", \"r\") as read_file:\n",
    "#     variable = json.load(read_file)"
   ]
  },
  {
   "cell_type": "code",
   "execution_count": null,
   "id": "695ad067",
   "metadata": {},
   "outputs": [],
   "source": [
    "for i in range(0,10):\n",
    "    if len(repo.get_page(i))==0:\n",
    "        print(i, \"======================Empty\")\n",
    "        break\n",
    "\n",
    "    else:\n",
    "        pass\n",
    "        #print(repo.get_page(i))"
   ]
  },
  {
   "cell_type": "code",
   "execution_count": null,
   "id": "ea8b9a23",
   "metadata": {},
   "outputs": [],
   "source": [
    "repo_list = list()\n",
    "for i in range(0,5):\n",
    "    repo_list.append(repo.get_page(i))\n",
    "    "
   ]
  },
  {
   "cell_type": "code",
   "execution_count": null,
   "id": "442649d0",
   "metadata": {},
   "outputs": [],
   "source": [
    "len(repo_list)"
   ]
  },
  {
   "cell_type": "code",
   "execution_count": null,
   "id": "ed39391a",
   "metadata": {},
   "outputs": [],
   "source": [
    "repo_list"
   ]
  },
  {
   "cell_type": "code",
   "execution_count": null,
   "id": "8198ddd1",
   "metadata": {},
   "outputs": [],
   "source": [
    "final_repo_list = list((itertools.chain.from_iterable(repo_list)))"
   ]
  },
  {
   "cell_type": "code",
   "execution_count": null,
   "id": "b38b4075",
   "metadata": {},
   "outputs": [],
   "source": [
    "len(final_repo_list)"
   ]
  },
  {
   "cell_type": "code",
   "execution_count": null,
   "id": "ce87d32c",
   "metadata": {},
   "outputs": [],
   "source": [
    "p=10\n",
    "print(final_repo_list[p].full_name)"
   ]
  },
  {
   "cell_type": "code",
   "execution_count": null,
   "id": "4e35af77",
   "metadata": {},
   "outputs": [],
   "source": [
    "# This program give two Repository lists. 1) Repository _list_with_lesson & Repository _list_without_lesson.\n",
    "\n",
    "list_without_lesson=list()\n",
    "list_with_lesson=list()\n",
    "for repo in final_repo_list:\n",
    "  tags=repo.get_topics()\n",
    "  if \"lesson\" in tags:\n",
    "    list_with_lesson.append(repo)\n",
    "  else:\n",
    "    list_without_lesson.append(repo)\n",
    "print(\"List of Repository with lesson:\")   \n",
    "for repo in list_with_lesson:\n",
    "  print(repo)\n",
    "print(\"\\nList of Repository without lesson\\n\")\n",
    "for repo in list_without_lesson:\n",
    "  print(repo)"
   ]
  },
  {
   "cell_type": "markdown",
   "id": "8fa22b05",
   "metadata": {},
   "source": [
    "### KPI 2 > Create Functions to determine & implement parameters describing project activities.in particular\n",
    "\n",
    "* number of open issues\n",
    "* number of closed issues\n",
    "* number of open PRs-0\n",
    "* number of closed PRs\n",
    "* number of contributors\n",
    "* number of starts"
   ]
  },
  {
   "cell_type": "code",
   "execution_count": null,
   "id": "1eb4418f",
   "metadata": {},
   "outputs": [],
   "source": [
    "# Declaring a function to count closed_issue_count\n",
    "def number_of_closed_issues(repo):\n",
    "    count_all_closed_issue=0\n",
    "    closed_issues=repo.get_issues(state='closed')\n",
    "    for issue in closed_issues:\n",
    "        count_all_closed_issue+=1\n",
    "    return count_all_closed_issue\n",
    "    "
   ]
  },
  {
   "cell_type": "code",
   "execution_count": null,
   "id": "63d63faa",
   "metadata": {},
   "outputs": [],
   "source": [
    "# Declaring a function to count open_issue_count\n",
    "def number_of_open_issues(repo):\n",
    "    count_all_open_issue=0\n",
    "    open_issues=repo.get_issues(state='open')\n",
    "    for issue in open_issues:\n",
    "        count_all_open_issue+=1\n",
    "    return count_all_open_issue\n"
   ]
  },
  {
   "cell_type": "code",
   "execution_count": null,
   "id": "e9773ee0",
   "metadata": {},
   "outputs": [],
   "source": [
    "# Declaring a function to count stargazers_count\n",
    "def stargazers(repo):\n",
    "    stars=repo.stargazers_count\n",
    "    return stars\n"
   ]
  },
  {
   "cell_type": "code",
   "execution_count": null,
   "id": "568a9766",
   "metadata": {},
   "outputs": [],
   "source": [
    "# Declaring a function to count open_issue_count\n",
    "def number_of_open_PR(repo):\n",
    "    count_all_open_PR=0\n",
    "    pulls=repo.get_pulls(state='open')\n",
    "    for pr in pulls:\n",
    "        count_all_open_PR+=1\n",
    "    return count_all_open_PR"
   ]
  },
  {
   "cell_type": "code",
   "execution_count": null,
   "id": "07eedb66",
   "metadata": {},
   "outputs": [],
   "source": [
    "def number_of_closed_PR(repo):\n",
    "    count_all_closed_PR=0\n",
    "    pulls=repo.get_pulls(state='closed')\n",
    "    for pr in pulls:\n",
    "        count_all_closed_PR+=1\n",
    "    return count_all_closed_PR\n",
    "    "
   ]
  },
  {
   "cell_type": "code",
   "execution_count": null,
   "id": "700565be",
   "metadata": {},
   "outputs": [],
   "source": [
    "# Creating a total count of allcategories (Issue_count, Pr_count, Stagazers_count & contributors_count)\n",
    "\n",
    "def get_final_values(final_repo_list):\n",
    "    total_closed_Issue_count=0\n",
    "    total_open_Issue_count=0\n",
    "    starCount=0\n",
    "    total_OpenPR_Request=0\n",
    "    total_ClosedPR_Request=0\n",
    "    for repo in final_repo_list:\n",
    "        # closed issues_count\n",
    "        closedIssues = number_of_closed_issues(repo)\n",
    "        total_closed_Issue_count += closedIssues\n",
    "        \n",
    "        # open issues_count\n",
    "        openIssues = number_of_open_issues(repo)\n",
    "        total_open_Issue_count+=openIssues\n",
    "        \n",
    "        # Stargazers_count\n",
    "        stars = stargazers(repo)\n",
    "        starCount+=stars\n",
    "        \n",
    "        # open pr_request_count\n",
    "        openPR = number_of_open_PR(repo)\n",
    "        total_OpenPR_Request+=openPR\n",
    "        \n",
    "        # closed pr_request_count\n",
    "        closedPR_Request= number_of_closed_PR(repo)\n",
    "        total_ClosedPR_Request+=closedPR_Request\n",
    "\n",
    "    return {'total_closed_Issue_count':total_closed_Issue_count,\n",
    "            'total_open_Issue_count':total_open_Issue_count,\n",
    "            'starCount':starCount,\n",
    "            'total_OpenPR_request': total_OpenPR_Request,\n",
    "            'total_ClosedPR_request':total_ClosedPR_Request}\n",
    "    \n",
    "final_values = get_final_values(final_repo_list)\n",
    "print(final_values)"
   ]
  },
  {
   "cell_type": "markdown",
   "id": "485ac768",
   "metadata": {},
   "source": [
    "###  KPI 3 > Similar to [Carpentries Community Lesson](https://carpentries.org/community-lessons/) we want to list a basic description of each lesson, including\n",
    "*  lesson title\n",
    "*  repository\n",
    "*  Life Cycle Stage\n",
    "*  Tags\n",
    "*  Last updated"
   ]
  },
  {
   "cell_type": "code",
   "execution_count": null,
   "id": "92f10055",
   "metadata": {},
   "outputs": [],
   "source": [
    "# Declaring a function to get_lesson_title,last_update_date,repsoitory_name,Life_cycle_stage of lesson ,tags in each lesson.\n",
    "\n",
    "import datetime\n",
    "def lesson_info(repo):\n",
    "  thisdict={}\n",
    "  version=\"\"\n",
    "  date_latest=datetime.datetime(2005, 6, 1)\n",
    "  name=repo.name\n",
    "  tags=repo.get_topics()\n",
    "  title=repo.description\n",
    "  help_wanted=0\n",
    "  if \"alpha\" in tags:\n",
    "    version=\"alpha\"\n",
    "  if \"pre-alpha\" in tags:\n",
    "    version=\"pre-alpha\"\n",
    "  if \"beta\" in tags:\n",
    "    version=\"beta\"\n",
    "  if \"stable\" in tags:\n",
    "    version=\"stable\"\n",
    "  open_issues=repo.get_issues(state='open')\n",
    "  for issue in open_issues:\n",
    "    labels=issue.get_labels()\n",
    "    for label in labels:\n",
    "      if label.name==\"help wanted\":\n",
    "        help_wanted+=1\n",
    "  commits=repo.get_commits()\n",
    "  for commit in commits:\n",
    "    time = datetime.datetime.strptime(commit.last_modified,'%a, %d %b %Y %H:%M:%S %Z')\n",
    "    if (time > date_latest):\n",
    "      date_latest = time\n",
    "  thisdict[\"repo_name\"]=name\n",
    "  thisdict[\"repo_tags\"]=tags\n",
    "  thisdict[\"repo_description\"]=title\n",
    "  thisdict[\"repo_datetime\"]=date_latest\n",
    "  thisdict[\"repo_version\"]=version\n",
    "  thisdict[\"repo_label\"]=help_wanted\n",
    "  return thisdict\n",
    "list_of_topic=[]\n",
    "for repo in final_repo_list:\n",
    "\n",
    "  temp_repo_info=lesson_info(repo)\n",
    "  list_of_topic.append(temp_repo_info)\n",
    "for topics in list_of_topic:\n",
    "    print(topics)"
   ]
  },
  {
   "cell_type": "markdown",
   "id": "c00f70dd",
   "metadata": {},
   "source": [
    "KPI 4 > \n",
    "\n",
    "*  Total number of lessons in the incubator\n",
    "*  how many lessons at each state\n",
    "*  number of lessons with the \"help wanted\" tag"
   ]
  },
  {
   "cell_type": "code",
   "execution_count": null,
   "id": "53ae2df0",
   "metadata": {},
   "outputs": [],
   "source": [
    "# Declaring a function to get number of lesson in the Incubator,count_of_lesson at each state and number_help_wanted_tag.\n",
    "\n",
    "def lesson_overview(list_of_topic):\n",
    "  count_all_alpha_state=0\n",
    "  count_all_pre_alpha_state=0\n",
    "  count_all_beta_state=0\n",
    "  count_all_stable_state=0\n",
    "  total_lesson_count=0\n",
    "  totallesson_help_wanted=0\n",
    "  totallesson_updated_last_30_days=0\n",
    "  today = datetime.datetime.now()\n",
    "  previous_month = today.replace(month = datetime.datetime.now().month-2)\n",
    "  for topic in list_of_topic:\n",
    "    total_lesson_count+=1\n",
    "    if topic[\"repo_version\"]==\"alpha\":\n",
    "      count_all_alpha_state+=1\n",
    "    if topic[\"repo_version\"]==\"pre-alpha\":\n",
    "      count_all_pre_alpha_state+=1\n",
    "    if topic[\"repo_version\"]==\"beta\":\n",
    "      count_all_beta_state+=1\n",
    "    if topic[\"repo_version\"]==\"stable\":\n",
    "      count_all_stable_state+=1\n",
    "    if topic[\"repo_label\"]!=0:\n",
    "      totallesson_help_wanted+=1\n",
    "    if topic[\"repo_datetime\"]>previous_month:\n",
    "      totallesson_updated_last_30_days+=1\n",
    "  return {'total_lesson_count':total_lesson_count,'count_all_alpha_state':count_all_alpha_state ,\n",
    "          'count_all_pre_alpha_state':count_all_pre_alpha_state,'count_all_beta_state':count_all_beta_state,\n",
    "          'count_all_stable_state':count_all_stable_state,'totallesson_help_wanted':totallesson_help_wanted, \n",
    "          'totallesson_updated_last_30_days':totallesson_updated_last_30_days}\n",
    "\n",
    "final_values=lesson_overview(list_of_topic)\n",
    "print(final_values)"
   ]
  },
  {
   "cell_type": "markdown",
   "id": "efe5c82c",
   "metadata": {},
   "source": [
    "KPI 5> Analyse collaborative aspects of lesson development\n",
    "\n",
    "*Total number of people involved in lesson development (also classified by different types of activity: issues, PRs,commits etc \n"
   ]
  },
  {
   "cell_type": "code",
   "execution_count": null,
   "id": "0bcca031",
   "metadata": {
    "scrolled": true
   },
   "outputs": [],
   "source": [
    "# Count of commit and commit_author\n",
    "\n",
    "cols=[\"repo\",\"commits\",\"pulls\",\"issues\",\"commit_contributors\", \"issue_contributors\",\"pulls_contributors\",\"PR_reviewers\",\"collaborators\"]#col heading\n",
    "df=pd.DataFrame(columns=cols)\n",
    "df['repo']=list_with_lesson\n",
    "#print(df.head(10))\n",
    "commitlist=[] # holds the total count of number of commits made in the repositories.\n",
    "commit_authorlist=[] # contains authors of each commit.\n",
    "for repo in list_with_lesson: #get count of commits against each repo\n",
    "    no_of_commit=repo.get_commits().totalCount\n",
    "    clist=repo.get_commits()# calling the get_commit method of repo object to create the commit list, get_commit() will return a paginated list of commits& store it in clist as list datatype.\n",
    "    #clist=list(dict.fromkeys(clist))\n",
    "    commitlist.append(no_of_commit)\n",
    "    authors=[]\n",
    "    author_names=[]\n",
    "    for cauthor in clist:\n",
    "        if cauthor.commit.author.name not in author_names:\n",
    "            authors.append(cauthor.commit.author)\n",
    "            author_names.append(cauthor.commit.author.name)\n",
    "    commit_authorlist.append(len(author_names))\n",
    "     \n",
    "df['commits']=commitlist\n",
    "df['commit_contributors']=commit_authorlist"
   ]
  },
  {
   "cell_type": "code",
   "execution_count": null,
   "id": "62541c52",
   "metadata": {},
   "outputs": [],
   "source": [
    "df.style.set_properties(subset=['repo'], **{'width-min': '300px'})"
   ]
  },
  {
   "cell_type": "code",
   "execution_count": null,
   "id": "a4b33dde",
   "metadata": {},
   "outputs": [],
   "source": [
    "# Count of pr request and pr_user\n",
    "\n",
    "pr_requestlist=[]\n",
    "pr_authorlist=[]\n",
    "for repo in list_with_lesson:\n",
    "    no_of_pr=repo.get_pulls(state='open').totalCount\n",
    "    prlist=repo.get_pulls(state='open')\n",
    "    pr_requestlist.append(no_of_pr)\n",
    "    pr_user=[]\n",
    "    pr_user_name=[]\n",
    "#     pr_comment=[]\n",
    "#     pr_merge_user=[]\n",
    "#     pr_reaction=[]\n",
    "    for PRuser in prlist:\n",
    "        if PRuser.user.name not in pr_user_name:\n",
    "            pr_user.append(PRuser.user)\n",
    "            pr_user_name.append(PRuser.user.name)\n",
    "    pr_authorlist.append(len(pr_user_name))\n",
    "    \n",
    "    \n",
    "df['pulls']=pr_requestlist\n",
    "df['pulls_contributors']=pr_authorlist"
   ]
  },
  {
   "cell_type": "code",
   "execution_count": null,
   "id": "3706b14d",
   "metadata": {},
   "outputs": [],
   "source": [
    "df.style.set_properties(subset=['repo'], **{'width-min': '300px'})"
   ]
  },
  {
   "cell_type": "code",
   "execution_count": null,
   "id": "ce50eb64",
   "metadata": {},
   "outputs": [],
   "source": [
    "# Count of  pr_reviewers\n",
    "\n",
    "pr_review=pulls.get_reviews()\n",
    "pr_reviewers_user=[]\n",
    "for review in pr_review:\n",
    "    if review.user.name not in pr_reviewers_user:\n",
    "        pr_reviewers_user.append(review.user.name)\n",
    "        pr_authorlist.append(review.user)\n",
    "    pr_authorlist.append(len(pr_reviewers_user))\n",
    "\n",
    "\n",
    "df['PR_reviewers']=pr_reviewers_user"
   ]
  },
  {
   "cell_type": "code",
   "execution_count": null,
   "id": "d99ed405",
   "metadata": {},
   "outputs": [],
   "source": [
    "# to get the pr_comments\n",
    "pr_comments=repo.ge\n"
   ]
  },
  {
   "cell_type": "code",
   "execution_count": null,
   "id": "d1d1a123",
   "metadata": {},
   "outputs": [],
   "source": [
    "df.style.set_properties(subset=['repo'], **{'width-min': '300px'})"
   ]
  },
  {
   "cell_type": "code",
   "execution_count": null,
   "id": "9b5e5f12",
   "metadata": {},
   "outputs": [],
   "source": [
    "issue_list=[]\n",
    "issue_authorlist=[]\n",
    "for repo in list_with_lesson:\n",
    "    no_of_issues=repo.get_issues().totalcount\n",
    "    issuelist=repo.get_issues()\n",
    "    issue_list.append(no_of_issues)\n",
    "    issue_user=[]\n",
    "    issue_comment=[]\n",
    "    issue_closedby_user=[]\n",
    "    for issue_user.user not in issuelist:\n",
    "        if issue_user.append(issue_user.user)\n",
    "        \n",
    "    \n",
    "df['issues']=issue_list\n",
    "df['issue_contributors']=issue_authorlist"
   ]
  },
  {
   "cell_type": "code",
   "execution_count": null,
   "id": "48903bc5",
   "metadata": {},
   "outputs": [],
   "source": []
  }
 ],
 "metadata": {
  "kernelspec": {
   "display_name": "Python 3 (ipykernel)",
   "language": "python",
   "name": "python3"
  },
  "language_info": {
   "codemirror_mode": {
    "name": "ipython",
    "version": 3
   },
   "file_extension": ".py",
   "mimetype": "text/x-python",
   "name": "python",
   "nbconvert_exporter": "python",
   "pygments_lexer": "ipython3",
   "version": "3.9.12"
  }
 },
 "nbformat": 4,
 "nbformat_minor": 5
}
