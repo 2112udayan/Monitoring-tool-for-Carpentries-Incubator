{
 "cells": [
  {
   "cell_type": "code",
   "execution_count": null,
   "id": "f9c8a18c",
   "metadata": {},
   "outputs": [],
   "source": [
    "from github import Github\n",
    "import pandas as pd \n",
    "import itertools\n",
    "import json\n",
    "import requests"
   ]
  },
  {
   "cell_type": "markdown",
   "id": "08d21842",
   "metadata": {},
   "source": [
    "#### Insert personal access token."
   ]
  },
  {
   "cell_type": "code",
   "execution_count": null,
   "id": "8b8156f6",
   "metadata": {},
   "outputs": [],
   "source": [
    "%store -r access_token\n",
    "g = Github(access_token)"
   ]
  },
  {
   "cell_type": "markdown",
   "id": "f1a38b9e",
   "metadata": {},
   "source": [
    "##### These variables are global variables "
   ]
  },
  {
   "cell_type": "code",
   "execution_count": null,
   "id": "f72486b1",
   "metadata": {},
   "outputs": [],
   "source": [
    "repo_var = None\n",
    "page_num=None\n",
    "repo_list=list()\n",
    "list_without_lesson=list()\n",
    "list_with_lesson=list()\n",
    "final_repo_list=list()"
   ]
  },
  {
   "cell_type": "markdown",
   "id": "f21d96f8",
   "metadata": {},
   "source": [
    "#### Declaring a function\n",
    "\n",
    "* To get the total repositories count\n",
    "* Creating a page_num variable to hold the valid page numbers to iterate the repo list.\n",
    "* Final repo list created from repo list\n",
    "* List with lesson created from final repo list\n",
    "* List without lesson created from final repo list"
   ]
  },
  {
   "cell_type": "code",
   "execution_count": null,
   "id": "bcf0204d",
   "metadata": {},
   "outputs": [],
   "source": [
    "# Declaring the function.\n",
    "\n",
    "def repo_initialize():\n",
    "    \n",
    "    '''\n",
    "    Function takes no paramter.\n",
    "    Returning total repositories count, final repository list, list_with_lesson & list_without_lesson.\n",
    "    \n",
    "    '''\n",
    "    \n",
    "    global repo_var\n",
    "    global page_num\n",
    "    global repo_list\n",
    "    global list_without_lesson\n",
    "    global list_with_lesson\n",
    "    global final_repo_list\n",
    "    \n",
    "    repo_var = g.get_organization(\"carpentries-incubator\").get_repos()\n",
    "\n",
    "    page_num = 0\n",
    "    for i in range(0,10):\n",
    "        if len(repo_var.get_page(i))==0:\n",
    "            page_num = i\n",
    "            break\n",
    "        else:\n",
    "            pass\n",
    "    repo_list = list()\n",
    "    for i in range(0,page_num):\n",
    "        repo_list.append(repo_var.get_page(i))\n",
    "    final_repo_list = list((itertools.chain.from_iterable(repo_list)))\n",
    "\n",
    "# Repository lists. 1)list_with_lesson & list_without_lesson.\n",
    "\n",
    "    for repo in final_repo_list:\n",
    "        tags=repo.get_topics()\n",
    "        if \"lesson\" in tags:\n",
    "            list_with_lesson.append(repo)\n",
    "        else:\n",
    "            list_without_lesson.append(repo)\n",
    "\n",
    "#Calling the function\n",
    "\n",
    "repo_initialize()\n"
   ]
  },
  {
   "cell_type": "markdown",
   "id": "f1fd4b3c",
   "metadata": {},
   "source": [
    "#### Declaring functions to get  following information of all the repsoitories stored in list_with_lesson.\n",
    "\n",
    "* issue Count\n",
    "* Pull Request Count\n",
    "* Stargazers Count"
   ]
  },
  {
   "cell_type": "code",
   "execution_count": null,
   "id": "2b2d5c32",
   "metadata": {},
   "outputs": [],
   "source": [
    "#### Dataframe column heading\n",
    "\n",
    "cols=[\"repo\",\"open_PR\", \"closed_PR\",\"closed_issues\",\"open_issues\",\"stargazers_count\"]\n",
    "df=pd.DataFrame(columns=cols)\n",
    "df['repo']=list_with_lesson\n",
    "\n",
    "#### Declaring a function to obtain issues_count.\n",
    "\n",
    "def issues_count(list_with_lesson):\n",
    "    \n",
    "    '''\n",
    "    Functions takes List_with_lesson as a parameter\n",
    "    Return a list of open_issues_count, closed_issues_count.\n",
    "    '''\n",
    "    open_issues_count=[]\n",
    "    closed_issues_count=[]\n",
    "    \n",
    "    for repo in list_with_lesson:\n",
    "        open_issues=repo.get_issues(state='open').totalCount\n",
    "        open_issues_count.append(open_issues)\n",
    "        closed_issues=repo.get_issues(state='closed').totalCount\n",
    "        closed_issues_count.append(closed_issues)\n",
    "    return open_issues_count,closed_issues_count\n",
    "\n",
    "#### Calling the function\n",
    "\n",
    "open_issues_count,closed_issues_count=issues_count(list_with_lesson)\n",
    "\n",
    "#### Declairing a function to get open & closed Pulls count\n",
    "\n",
    "def pulls_count(list_with_lesson):\n",
    "    \n",
    "    '''\n",
    "    Function takes list_with_lesson as a parameter\n",
    "    Returning a list of open_pr_count & closed_pr_count.\n",
    "    '''\n",
    "    open_pr_count=[]\n",
    "    closed_pr_count=[]\n",
    "    \n",
    "    for repo in list_with_lesson:\n",
    "        open_pr=repo.get_pulls(state='open').totalCount\n",
    "        open_pr_count.append(open_pr)\n",
    "        closed_pr=repo.get_pulls(state='closed').totalCount\n",
    "        closed_pr_count.append(closed_pr)\n",
    "    return open_pr_count,closed_pr_count\n",
    "\n",
    "#### Calling the function\n",
    "\n",
    "open_pr_count,closed_pr_count=pulls_count(list_with_lesson)\n",
    "\n",
    "#### Declairing a function to get stargazers count\n",
    "\n",
    "def stars_count(list_with_lesson):\n",
    "    \n",
    "    '''\n",
    "    Functions takes list_with_lesson as a parameter\n",
    "    Returning a list of Stargazers for each repsoitory.\n",
    "    '''\n",
    "    stargazers=[]\n",
    "    for repo in list_with_lesson:\n",
    "        stars=repo.stargazers_count\n",
    "        stargazers.append(stars)\n",
    "    return stargazers\n",
    "\n",
    "#### Calling the function\n",
    "\n",
    "stargazers=stars_count(list_with_lesson)\n",
    "\n",
    "#### Putting the information into dataframe.\n",
    "\n",
    "df['stargazers_count']=stargazers\n",
    "df['open_PR']=open_pr_count\n",
    "df['closed_PR']=closed_pr_count\n",
    "df['open_issues']=open_issues_count\n",
    "df['closed_issues']=closed_issues_count"
   ]
  },
  {
   "cell_type": "code",
   "execution_count": null,
   "id": "d1b77641",
   "metadata": {},
   "outputs": [],
   "source": [
    "df.style.set_properties(subset=['repo'], **{'width-min': '300px'})"
   ]
  }
 ],
 "metadata": {
  "kernelspec": {
   "display_name": "Python 3 (ipykernel)",
   "language": "python",
   "name": "python3"
  },
  "language_info": {
   "codemirror_mode": {
    "name": "ipython",
    "version": 3
   },
   "file_extension": ".py",
   "mimetype": "text/x-python",
   "name": "python",
   "nbconvert_exporter": "python",
   "pygments_lexer": "ipython3",
   "version": "3.10.5"
  }
 },
 "nbformat": 4,
 "nbformat_minor": 5
}
