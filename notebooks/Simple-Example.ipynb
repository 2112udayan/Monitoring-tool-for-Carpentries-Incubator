{
 "cells": [
  {
   "cell_type": "code",
   "execution_count": 54,
   "id": "90308aef",
   "metadata": {},
   "outputs": [],
   "source": [
    "from github import Github\n",
    "import pandas as pd "
   ]
  },
  {
   "cell_type": "code",
   "execution_count": 56,
   "id": "d19fa078",
   "metadata": {},
   "outputs": [
    {
     "data": {
      "text/plain": [
       "(4984, 5000)"
      ]
     },
     "execution_count": 56,
     "metadata": {},
     "output_type": "execute_result"
    }
   ],
   "source": [
    "g.rate_limiting"
   ]
  },
  {
   "cell_type": "code",
   "execution_count": 57,
   "id": "c4b36114",
   "metadata": {},
   "outputs": [],
   "source": [
    "repo = g.get_repo(\"carpentries-incubator/gap-lesson\")"
   ]
  },
  {
   "cell_type": "code",
   "execution_count": 58,
   "id": "28bbf0a4",
   "metadata": {},
   "outputs": [
    {
     "data": {
      "text/plain": [
       "['carpentries',\n",
       " 'computational-algebra',\n",
       " 'discrete-mathematics',\n",
       " 'gap',\n",
       " 'lesson',\n",
       " 'carpentries-incubator',\n",
       " 'stable',\n",
       " 'english']"
      ]
     },
     "execution_count": 58,
     "metadata": {},
     "output_type": "execute_result"
    }
   ],
   "source": [
    "repo.get_topics()"
   ]
  },
  {
   "cell_type": "code",
   "execution_count": 59,
   "id": "40e00782",
   "metadata": {},
   "outputs": [
    {
     "data": {
      "text/plain": [
       "Repository(full_name=\"carpentries-incubator/gap-lesson\")"
      ]
     },
     "execution_count": 59,
     "metadata": {},
     "output_type": "execute_result"
    }
   ],
   "source": [
    "repo"
   ]
  },
  {
   "cell_type": "code",
   "execution_count": 60,
   "id": "6b106409",
   "metadata": {},
   "outputs": [],
   "source": [
    "org=g.get_organization(\"Carpentries-Incubator\")"
   ]
  },
  {
   "cell_type": "code",
   "execution_count": 61,
   "id": "71691827",
   "metadata": {},
   "outputs": [],
   "source": [
    "repos=org.get_repos()"
   ]
  },
  {
   "cell_type": "code",
   "execution_count": 71,
   "id": "b86b1189",
   "metadata": {},
   "outputs": [
    {
     "name": "stdout",
     "output_type": "stream",
     "text": [
      "carpentries-incubator/capstone-novice-spreadsheet-biblio\n",
      "carpentries-incubator/shell-extras\n",
      "carpentries-incubator/gap-lesson\n",
      "carpentries-incubator/python-testing\n",
      "carpentries-incubator/sage-lesson\n",
      "carpentries-incubator/hpc-intro\n",
      "carpentries-incubator/git-novice-branch-pr\n",
      "carpentries-incubator/python-humanities-lesson\n",
      "carpentries-incubator/spreadsheet-humanities-lesson\n",
      "carpentries-incubator/sql-humanities-lesson\n",
      "carpentries-incubator/OpenRefine-humanities-lesson\n",
      "carpentries-incubator/lesson-ideas\n",
      "carpentries-incubator/python-business\n",
      "carpentries-incubator/swc_github_flow\n",
      "carpentries-incubator/ml4bio-workshop\n",
      "carpentries-incubator/python-packaging-publishing\n",
      "carpentries-incubator/git-Rstudio-course\n",
      "carpentries-incubator/IoT_arduino_nano\n",
      "carpentries-incubator/statistical-inference-for-biology\n",
      "carpentries-incubator/swc-ext-python\n",
      "carpentries-incubator/deep-learning-intro\n",
      "carpentries-incubator/jupyter_maps\n",
      "carpentries-incubator/SDC-BIDS-EEG-EEGLAB\n",
      "carpentries-incubator/SDC-BIDS-fMRI\n",
      "carpentries-incubator/SDC-EEGLAB\n",
      "carpentries-incubator/introduction-to-conda-for-data-scientists\n",
      "carpentries-incubator/machine-learning-novice-sklearn\n",
      "carpentries-incubator/proposals\n",
      "carpentries-incubator/geospatial-python\n",
      "carpentries-incubator/SDC-BIDS-dMRI\n",
      "carpentries-incubator/docker-introduction\n",
      "carpentries-incubator/Data-Science-for-Docs\n",
      "carpentries-incubator/jupyter-notebooks-intro\n",
      "carpentries-incubator/cwl-novice-tutorial\n",
      "carpentries-incubator/SDC-BIDS-IntroMRI\n",
      "carpentries-incubator/workflows-snakemake\n",
      "carpentries-incubator/open-science-with-r\n",
      "carpentries-incubator/life-sciences-workshop\n",
      "carpentries-incubator/lc-litsearchr\n",
      "carpentries-incubator/tei-xml\n",
      "carpentries-incubator/r-survival-analysis\n",
      "carpentries-incubator/lesson-parallel-python\n",
      "carpentries-incubator/pymarc_basics\n",
      "carpentries-incubator/python-intermediate-inflammation\n",
      "carpentries-incubator/gpu-speedups\n",
      "carpentries-incubator/python-intermediate-development\n",
      "carpentries-incubator/jekyll-pages-novice\n",
      "carpentries-incubator/organization\n",
      "carpentries-incubator/eukref_pr2\n",
      "carpentries-incubator/r-for-artists\n",
      "carpentries-incubator/metagenomics\n",
      "carpentries-incubator/data-harvesting-for-agriculture\n",
      "carpentries-incubator/template\n",
      "carpentries-incubator/singularity-introduction\n",
      "carpentries-incubator/camera-traps\n",
      "carpentries-incubator/bioc-intro\n",
      "carpentries-incubator/bioc-project\n",
      "carpentries-incubator/bioc-rnaseq\n",
      "carpentries-incubator/julia-novice\n",
      "carpentries-incubator/sql-business\n",
      "carpentries-incubator/lesson-gpu-programming\n",
      "carpentries-incubator/python-text-analysis\n",
      "carpentries-incubator/java-intro\n",
      "carpentries-incubator/introduction-to-R-for-metagenomics\n",
      "carpentries-incubator/metagenomics-workshop\n",
      "carpentries-incubator/study-groups\n",
      "carpentries-incubator/microbial-amplicon-analysis\n",
      "carpentries-incubator/statistics-r-public-health\n",
      "carpentries-incubator/r-object-comparison-waldo\n",
      "carpentries-incubator/statistical-thinking-public-health\n",
      "carpentries-incubator/simple-linear-regression-public-health\n",
      "carpentries-incubator/multiple-linear-regression-public-health\n",
      "carpentries-incubator/logistic-regression-public-health\n",
      "carpentries-incubator/linear-mixed-models-public-health\n",
      "carpentries-incubator/workflows-nextflow\n",
      "carpentries-incubator/machine-learning-novice-python\n",
      "carpentries-incubator/machine-learning-novice-r\n",
      "carpentries-incubator/julia-data-workflow\n",
      "carpentries-incubator/python-EOFDM-precursors\n",
      "carpentries-incubator/machine-learning-librarians-archivists\n",
      "carpentries-incubator/latex-novice-typesetting\n",
      "carpentries-incubator/ide-novice-spyder\n",
      "carpentries-incubator/data-management-pipelines-engineering\n",
      "carpentries-incubator/java-novice-inflammation\n",
      "carpentries-incubator/frictionless-data-agriculture\n",
      "carpentries-incubator/proteomics-novice-qfeatures\n",
      "carpentries-incubator/shell-programming-course\n",
      "carpentries-incubator/lesson-R-packaging\n",
      "carpentries-incubator/citable-software\n",
      "carpentries-incubator/scrna-seq-analysis\n",
      "carpentries-incubator/instructor-training-bonus-modules\n",
      "carpentries-incubator/relational-database-genealogy\n",
      "carpentries-incubator/SDC-BIDS-sMRI\n",
      "carpentries-incubator/shell-metagenomics\n",
      "carpentries-incubator/good-enough-practices\n",
      "carpentries-incubator/ml-python-supervised-learning\n",
      "carpentries-incubator/k8s-deployment-novice\n",
      "carpentries-incubator/organization-metagenomics\n",
      "carpentries-incubator/snakemake-novice-bioinformatics\n",
      "carpentries-incubator/high-dimensional-stats-r\n",
      "carpentries-incubator/fair-bio-practice\n",
      "carpentries-incubator/markdown-intro\n",
      "carpentries-incubator/blogging-with-hugo-and-github-pages\n",
      "carpentries-incubator/foundational-computer-skills\n",
      "carpentries-incubator/carpentries-incubator.org\n",
      "carpentries-incubator/regex-novice-biology\n",
      "carpentries-incubator/python-interactive-data-visualizations\n",
      "carpentries-incubator/fair-for-leaders\n",
      "carpentries-incubator/managing-computational-projects\n",
      "carpentries-incubator/.github\n",
      "carpentries-incubator/machine-learning-trees-python\n",
      "carpentries-incubator/machine-learning-responsible-python\n",
      "carpentries-incubator/machine-learning-neural-python\n",
      "carpentries-incubator/Reproducible-Publications-with-RStudio-Example\n",
      "carpentries-incubator/Reproducible-Publications-with-RStudio\n",
      "carpentries-incubator/CarpentriesOffline_Instructor_Onboarding\n",
      "carpentries-incubator/data-science-ai-senior-researchers\n",
      "carpentries-incubator/neuroimaging-workshop\n",
      "carpentries-incubator/zotero-intro\n",
      "carpentries-incubator/R-archaeology-lesson\n",
      "carpentries-incubator/multidimensional-biodiversity-data\n",
      "carpentries-incubator/twitter-with-twarc\n",
      "carpentries-incubator/carpentries-incubator.github.io\n",
      "carpentries-incubator/hpc-workflows\n",
      "carpentries-incubator/r-tidyverse-4-datasets\n"
     ]
    }
   ],
   "source": [
    "for r in repos:\n",
    "    print(r.full_name)"
   ]
  },
  {
   "cell_type": "code",
   "execution_count": 63,
   "id": "586f5b21",
   "metadata": {},
   "outputs": [],
   "source": [
    "df=pd.DataFrame()"
   ]
  },
  {
   "cell_type": "code",
   "execution_count": 64,
   "id": "93371d86",
   "metadata": {},
   "outputs": [
    {
     "name": "stdout",
     "output_type": "stream",
     "text": [
      "4 capstone-novice-spreadsheet-biblio\n",
      "Repository(full_name=\"carpentries-incubator/capstone-novice-spreadsheet-biblio\")\n"
     ]
    },
    {
     "name": "stderr",
     "output_type": "stream",
     "text": [
      "C:\\Users\\ADMIN\\AppData\\Local\\Temp\\ipykernel_20436\\1176445623.py:5: FutureWarning: The frame.append method is deprecated and will be removed from pandas in a future version. Use pandas.concat instead.\n",
      "  df=df.append(new_column,ignore_index=True)\n",
      "C:\\Users\\ADMIN\\AppData\\Local\\Temp\\ipykernel_20436\\1176445623.py:5: FutureWarning: The frame.append method is deprecated and will be removed from pandas in a future version. Use pandas.concat instead.\n",
      "  df=df.append(new_column,ignore_index=True)\n",
      "C:\\Users\\ADMIN\\AppData\\Local\\Temp\\ipykernel_20436\\1176445623.py:5: FutureWarning: The frame.append method is deprecated and will be removed from pandas in a future version. Use pandas.concat instead.\n",
      "  df=df.append(new_column,ignore_index=True)\n",
      "C:\\Users\\ADMIN\\AppData\\Local\\Temp\\ipykernel_20436\\1176445623.py:5: FutureWarning: The frame.append method is deprecated and will be removed from pandas in a future version. Use pandas.concat instead.\n",
      "  df=df.append(new_column,ignore_index=True)\n",
      "C:\\Users\\ADMIN\\AppData\\Local\\Temp\\ipykernel_20436\\1176445623.py:5: FutureWarning: The frame.append method is deprecated and will be removed from pandas in a future version. Use pandas.concat instead.\n",
      "  df=df.append(new_column,ignore_index=True)\n",
      "C:\\Users\\ADMIN\\AppData\\Local\\Temp\\ipykernel_20436\\1176445623.py:5: FutureWarning: The frame.append method is deprecated and will be removed from pandas in a future version. Use pandas.concat instead.\n",
      "  df=df.append(new_column,ignore_index=True)\n",
      "C:\\Users\\ADMIN\\AppData\\Local\\Temp\\ipykernel_20436\\1176445623.py:5: FutureWarning: The frame.append method is deprecated and will be removed from pandas in a future version. Use pandas.concat instead.\n",
      "  df=df.append(new_column,ignore_index=True)\n"
     ]
    },
    {
     "name": "stdout",
     "output_type": "stream",
     "text": [
      "22 shell-extras\n",
      "Repository(full_name=\"carpentries-incubator/shell-extras\")\n",
      "5 gap-lesson\n",
      "Repository(full_name=\"carpentries-incubator/gap-lesson\")\n",
      "51 python-testing\n",
      "Repository(full_name=\"carpentries-incubator/python-testing\")\n",
      "5 sage-lesson\n",
      "Repository(full_name=\"carpentries-incubator/sage-lesson\")\n",
      "108 hpc-intro\n",
      "Repository(full_name=\"carpentries-incubator/hpc-intro\")\n",
      "4 git-novice-branch-pr\n",
      "Repository(full_name=\"carpentries-incubator/git-novice-branch-pr\")\n"
     ]
    },
    {
     "name": "stderr",
     "output_type": "stream",
     "text": [
      "C:\\Users\\ADMIN\\AppData\\Local\\Temp\\ipykernel_20436\\1176445623.py:5: FutureWarning: The frame.append method is deprecated and will be removed from pandas in a future version. Use pandas.concat instead.\n",
      "  df=df.append(new_column,ignore_index=True)\n",
      "C:\\Users\\ADMIN\\AppData\\Local\\Temp\\ipykernel_20436\\1176445623.py:5: FutureWarning: The frame.append method is deprecated and will be removed from pandas in a future version. Use pandas.concat instead.\n",
      "  df=df.append(new_column,ignore_index=True)\n",
      "C:\\Users\\ADMIN\\AppData\\Local\\Temp\\ipykernel_20436\\1176445623.py:5: FutureWarning: The frame.append method is deprecated and will be removed from pandas in a future version. Use pandas.concat instead.\n",
      "  df=df.append(new_column,ignore_index=True)\n",
      "C:\\Users\\ADMIN\\AppData\\Local\\Temp\\ipykernel_20436\\1176445623.py:5: FutureWarning: The frame.append method is deprecated and will be removed from pandas in a future version. Use pandas.concat instead.\n",
      "  df=df.append(new_column,ignore_index=True)\n",
      "C:\\Users\\ADMIN\\AppData\\Local\\Temp\\ipykernel_20436\\1176445623.py:5: FutureWarning: The frame.append method is deprecated and will be removed from pandas in a future version. Use pandas.concat instead.\n",
      "  df=df.append(new_column,ignore_index=True)\n",
      "C:\\Users\\ADMIN\\AppData\\Local\\Temp\\ipykernel_20436\\1176445623.py:5: FutureWarning: The frame.append method is deprecated and will be removed from pandas in a future version. Use pandas.concat instead.\n",
      "  df=df.append(new_column,ignore_index=True)\n"
     ]
    },
    {
     "name": "stdout",
     "output_type": "stream",
     "text": [
      "6 python-humanities-lesson\n",
      "Repository(full_name=\"carpentries-incubator/python-humanities-lesson\")\n",
      "1 spreadsheet-humanities-lesson\n",
      "Repository(full_name=\"carpentries-incubator/spreadsheet-humanities-lesson\")\n",
      "3 sql-humanities-lesson\n",
      "Repository(full_name=\"carpentries-incubator/sql-humanities-lesson\")\n",
      "3 OpenRefine-humanities-lesson\n",
      "Repository(full_name=\"carpentries-incubator/OpenRefine-humanities-lesson\")\n",
      "7 lesson-ideas\n",
      "Repository(full_name=\"carpentries-incubator/lesson-ideas\")\n",
      "7 python-business\n",
      "Repository(full_name=\"carpentries-incubator/python-business\")\n",
      "12"
     ]
    },
    {
     "name": "stderr",
     "output_type": "stream",
     "text": [
      "C:\\Users\\ADMIN\\AppData\\Local\\Temp\\ipykernel_20436\\1176445623.py:5: FutureWarning: The frame.append method is deprecated and will be removed from pandas in a future version. Use pandas.concat instead.\n",
      "  df=df.append(new_column,ignore_index=True)\n",
      "C:\\Users\\ADMIN\\AppData\\Local\\Temp\\ipykernel_20436\\1176445623.py:5: FutureWarning: The frame.append method is deprecated and will be removed from pandas in a future version. Use pandas.concat instead.\n",
      "  df=df.append(new_column,ignore_index=True)\n",
      "C:\\Users\\ADMIN\\AppData\\Local\\Temp\\ipykernel_20436\\1176445623.py:5: FutureWarning: The frame.append method is deprecated and will be removed from pandas in a future version. Use pandas.concat instead.\n",
      "  df=df.append(new_column,ignore_index=True)\n",
      "C:\\Users\\ADMIN\\AppData\\Local\\Temp\\ipykernel_20436\\1176445623.py:5: FutureWarning: The frame.append method is deprecated and will be removed from pandas in a future version. Use pandas.concat instead.\n",
      "  df=df.append(new_column,ignore_index=True)\n",
      "C:\\Users\\ADMIN\\AppData\\Local\\Temp\\ipykernel_20436\\1176445623.py:5: FutureWarning: The frame.append method is deprecated and will be removed from pandas in a future version. Use pandas.concat instead.\n",
      "  df=df.append(new_column,ignore_index=True)\n",
      "C:\\Users\\ADMIN\\AppData\\Local\\Temp\\ipykernel_20436\\1176445623.py:5: FutureWarning: The frame.append method is deprecated and will be removed from pandas in a future version. Use pandas.concat instead.\n",
      "  df=df.append(new_column,ignore_index=True)\n",
      "C:\\Users\\ADMIN\\AppData\\Local\\Temp\\ipykernel_20436\\1176445623.py:5: FutureWarning: The frame.append method is deprecated and will be removed from pandas in a future version. Use pandas.concat instead.\n",
      "  df=df.append(new_column,ignore_index=True)\n"
     ]
    },
    {
     "name": "stdout",
     "output_type": "stream",
     "text": [
      " swc_github_flow\n",
      "Repository(full_name=\"carpentries-incubator/swc_github_flow\")\n",
      "7 ml4bio-workshop\n",
      "Repository(full_name=\"carpentries-incubator/ml4bio-workshop\")\n",
      "24 python-packaging-publishing\n",
      "Repository(full_name=\"carpentries-incubator/python-packaging-publishing\")\n",
      "3 git-Rstudio-course\n",
      "Repository(full_name=\"carpentries-incubator/git-Rstudio-course\")\n",
      "1 IoT_arduino_nano\n",
      "Repository(full_name=\"carpentries-incubator/IoT_arduino_nano\")\n",
      "3 statistical-inference-for-biology\n",
      "Repository(full_name=\"carpentries-incubator/statistical-inference-for-biology\")\n",
      "0 swc-ext-python\n",
      "Repository(full_name=\"carpentries-incubator/swc-ext-python\")\n",
      "17"
     ]
    },
    {
     "name": "stderr",
     "output_type": "stream",
     "text": [
      "C:\\Users\\ADMIN\\AppData\\Local\\Temp\\ipykernel_20436\\1176445623.py:5: FutureWarning: The frame.append method is deprecated and will be removed from pandas in a future version. Use pandas.concat instead.\n",
      "  df=df.append(new_column,ignore_index=True)\n",
      "C:\\Users\\ADMIN\\AppData\\Local\\Temp\\ipykernel_20436\\1176445623.py:5: FutureWarning: The frame.append method is deprecated and will be removed from pandas in a future version. Use pandas.concat instead.\n",
      "  df=df.append(new_column,ignore_index=True)\n",
      "C:\\Users\\ADMIN\\AppData\\Local\\Temp\\ipykernel_20436\\1176445623.py:5: FutureWarning: The frame.append method is deprecated and will be removed from pandas in a future version. Use pandas.concat instead.\n",
      "  df=df.append(new_column,ignore_index=True)\n",
      "C:\\Users\\ADMIN\\AppData\\Local\\Temp\\ipykernel_20436\\1176445623.py:5: FutureWarning: The frame.append method is deprecated and will be removed from pandas in a future version. Use pandas.concat instead.\n",
      "  df=df.append(new_column,ignore_index=True)\n",
      "C:\\Users\\ADMIN\\AppData\\Local\\Temp\\ipykernel_20436\\1176445623.py:5: FutureWarning: The frame.append method is deprecated and will be removed from pandas in a future version. Use pandas.concat instead.\n",
      "  df=df.append(new_column,ignore_index=True)\n",
      "C:\\Users\\ADMIN\\AppData\\Local\\Temp\\ipykernel_20436\\1176445623.py:5: FutureWarning: The frame.append method is deprecated and will be removed from pandas in a future version. Use pandas.concat instead.\n",
      "  df=df.append(new_column,ignore_index=True)\n",
      "C:\\Users\\ADMIN\\AppData\\Local\\Temp\\ipykernel_20436\\1176445623.py:5: FutureWarning: The frame.append method is deprecated and will be removed from pandas in a future version. Use pandas.concat instead.\n",
      "  df=df.append(new_column,ignore_index=True)\n"
     ]
    },
    {
     "name": "stdout",
     "output_type": "stream",
     "text": [
      " deep-learning-intro\n",
      "Repository(full_name=\"carpentries-incubator/deep-learning-intro\")\n",
      "6 jupyter_maps\n",
      "Repository(full_name=\"carpentries-incubator/jupyter_maps\")\n",
      "0 SDC-BIDS-EEG-EEGLAB\n",
      "Repository(full_name=\"carpentries-incubator/SDC-BIDS-EEG-EEGLAB\")\n",
      "15 SDC-BIDS-fMRI\n",
      "Repository(full_name=\"carpentries-incubator/SDC-BIDS-fMRI\")\n",
      "0 SDC-EEGLAB\n",
      "Repository(full_name=\"carpentries-incubator/SDC-EEGLAB\")\n",
      "34 introduction-to-conda-for-data-scientists\n",
      "Repository(full_name=\"carpentries-incubator/introduction-to-conda-for-data-scientists\")\n",
      "21 machine-learning-novice-sklearn\n",
      "Repository(full_name=\"carpentries-incubator/machine-learning-novice-sklearn\")\n",
      "59 proposals\n",
      "Repository(full_name=\"carpentries-incubator/proposals\")\n",
      "81 geospatial-python\n",
      "Repository(full_name=\"carpentries-incubator/geospatial-python\")\n",
      "7 SDC-BIDS-dMRI\n",
      "Repository(full_name=\"carpentries-incubator/SDC-BIDS-dMRI\")\n",
      "32 docker-introduction\n",
      "Repository(full_name=\"carpentries-incubator/docker-introduction\")\n",
      "4 Data-Science-for-Docs\n",
      "Repository(full_name=\"carpentries-incubator/Data-Science-for-Docs\")\n",
      "4"
     ]
    },
    {
     "name": "stderr",
     "output_type": "stream",
     "text": [
      "C:\\Users\\ADMIN\\AppData\\Local\\Temp\\ipykernel_20436\\1176445623.py:5: FutureWarning: The frame.append method is deprecated and will be removed from pandas in a future version. Use pandas.concat instead.\n",
      "  df=df.append(new_column,ignore_index=True)\n",
      "C:\\Users\\ADMIN\\AppData\\Local\\Temp\\ipykernel_20436\\1176445623.py:5: FutureWarning: The frame.append method is deprecated and will be removed from pandas in a future version. Use pandas.concat instead.\n",
      "  df=df.append(new_column,ignore_index=True)\n",
      "C:\\Users\\ADMIN\\AppData\\Local\\Temp\\ipykernel_20436\\1176445623.py:5: FutureWarning: The frame.append method is deprecated and will be removed from pandas in a future version. Use pandas.concat instead.\n",
      "  df=df.append(new_column,ignore_index=True)\n",
      "C:\\Users\\ADMIN\\AppData\\Local\\Temp\\ipykernel_20436\\1176445623.py:5: FutureWarning: The frame.append method is deprecated and will be removed from pandas in a future version. Use pandas.concat instead.\n",
      "  df=df.append(new_column,ignore_index=True)\n",
      "C:\\Users\\ADMIN\\AppData\\Local\\Temp\\ipykernel_20436\\1176445623.py:5: FutureWarning: The frame.append method is deprecated and will be removed from pandas in a future version. Use pandas.concat instead.\n",
      "  df=df.append(new_column,ignore_index=True)\n",
      "C:\\Users\\ADMIN\\AppData\\Local\\Temp\\ipykernel_20436\\1176445623.py:5: FutureWarning: The frame.append method is deprecated and will be removed from pandas in a future version. Use pandas.concat instead.\n",
      "  df=df.append(new_column,ignore_index=True)\n"
     ]
    },
    {
     "name": "stdout",
     "output_type": "stream",
     "text": [
      " jupyter-notebooks-intro\n",
      "Repository(full_name=\"carpentries-incubator/jupyter-notebooks-intro\")\n",
      "9 cwl-novice-tutorial\n",
      "Repository(full_name=\"carpentries-incubator/cwl-novice-tutorial\")\n",
      "14 SDC-BIDS-IntroMRI\n",
      "Repository(full_name=\"carpentries-incubator/SDC-BIDS-IntroMRI\")\n",
      "8 workflows-snakemake\n",
      "Repository(full_name=\"carpentries-incubator/workflows-snakemake\")\n",
      "7 open-science-with-r\n",
      "Repository(full_name=\"carpentries-incubator/open-science-with-r\")\n",
      "4 life-sciences-workshop\n",
      "Repository(full_name=\"carpentries-incubator/life-sciences-workshop\")\n",
      "1"
     ]
    },
    {
     "name": "stderr",
     "output_type": "stream",
     "text": [
      "C:\\Users\\ADMIN\\AppData\\Local\\Temp\\ipykernel_20436\\1176445623.py:5: FutureWarning: The frame.append method is deprecated and will be removed from pandas in a future version. Use pandas.concat instead.\n",
      "  df=df.append(new_column,ignore_index=True)\n",
      "C:\\Users\\ADMIN\\AppData\\Local\\Temp\\ipykernel_20436\\1176445623.py:5: FutureWarning: The frame.append method is deprecated and will be removed from pandas in a future version. Use pandas.concat instead.\n",
      "  df=df.append(new_column,ignore_index=True)\n",
      "C:\\Users\\ADMIN\\AppData\\Local\\Temp\\ipykernel_20436\\1176445623.py:5: FutureWarning: The frame.append method is deprecated and will be removed from pandas in a future version. Use pandas.concat instead.\n",
      "  df=df.append(new_column,ignore_index=True)\n",
      "C:\\Users\\ADMIN\\AppData\\Local\\Temp\\ipykernel_20436\\1176445623.py:5: FutureWarning: The frame.append method is deprecated and will be removed from pandas in a future version. Use pandas.concat instead.\n",
      "  df=df.append(new_column,ignore_index=True)\n",
      "C:\\Users\\ADMIN\\AppData\\Local\\Temp\\ipykernel_20436\\1176445623.py:5: FutureWarning: The frame.append method is deprecated and will be removed from pandas in a future version. Use pandas.concat instead.\n",
      "  df=df.append(new_column,ignore_index=True)\n",
      "C:\\Users\\ADMIN\\AppData\\Local\\Temp\\ipykernel_20436\\1176445623.py:5: FutureWarning: The frame.append method is deprecated and will be removed from pandas in a future version. Use pandas.concat instead.\n",
      "  df=df.append(new_column,ignore_index=True)\n"
     ]
    },
    {
     "name": "stdout",
     "output_type": "stream",
     "text": [
      " lc-litsearchr\n",
      "Repository(full_name=\"carpentries-incubator/lc-litsearchr\")\n",
      "0 tei-xml\n",
      "Repository(full_name=\"carpentries-incubator/tei-xml\")\n",
      "0 r-survival-analysis\n",
      "Repository(full_name=\"carpentries-incubator/r-survival-analysis\")\n",
      "6 lesson-parallel-python\n",
      "Repository(full_name=\"carpentries-incubator/lesson-parallel-python\")\n",
      "4 pymarc_basics\n",
      "Repository(full_name=\"carpentries-incubator/pymarc_basics\")\n",
      "0 python-intermediate-inflammation\n",
      "Repository(full_name=\"carpentries-incubator/python-intermediate-inflammation\")\n"
     ]
    },
    {
     "name": "stderr",
     "output_type": "stream",
     "text": [
      "C:\\Users\\ADMIN\\AppData\\Local\\Temp\\ipykernel_20436\\1176445623.py:5: FutureWarning: The frame.append method is deprecated and will be removed from pandas in a future version. Use pandas.concat instead.\n",
      "  df=df.append(new_column,ignore_index=True)\n",
      "C:\\Users\\ADMIN\\AppData\\Local\\Temp\\ipykernel_20436\\1176445623.py:5: FutureWarning: The frame.append method is deprecated and will be removed from pandas in a future version. Use pandas.concat instead.\n",
      "  df=df.append(new_column,ignore_index=True)\n",
      "C:\\Users\\ADMIN\\AppData\\Local\\Temp\\ipykernel_20436\\1176445623.py:5: FutureWarning: The frame.append method is deprecated and will be removed from pandas in a future version. Use pandas.concat instead.\n",
      "  df=df.append(new_column,ignore_index=True)\n",
      "C:\\Users\\ADMIN\\AppData\\Local\\Temp\\ipykernel_20436\\1176445623.py:5: FutureWarning: The frame.append method is deprecated and will be removed from pandas in a future version. Use pandas.concat instead.\n",
      "  df=df.append(new_column,ignore_index=True)\n",
      "C:\\Users\\ADMIN\\AppData\\Local\\Temp\\ipykernel_20436\\1176445623.py:5: FutureWarning: The frame.append method is deprecated and will be removed from pandas in a future version. Use pandas.concat instead.\n",
      "  df=df.append(new_column,ignore_index=True)\n",
      "C:\\Users\\ADMIN\\AppData\\Local\\Temp\\ipykernel_20436\\1176445623.py:5: FutureWarning: The frame.append method is deprecated and will be removed from pandas in a future version. Use pandas.concat instead.\n",
      "  df=df.append(new_column,ignore_index=True)\n"
     ]
    },
    {
     "name": "stdout",
     "output_type": "stream",
     "text": [
      "0 gpu-speedups\n",
      "Repository(full_name=\"carpentries-incubator/gpu-speedups\")\n",
      "20 python-intermediate-development\n",
      "Repository(full_name=\"carpentries-incubator/python-intermediate-development\")\n",
      "13 jekyll-pages-novice\n",
      "Repository(full_name=\"carpentries-incubator/jekyll-pages-novice\")\n",
      "0 organization\n",
      "Repository(full_name=\"carpentries-incubator/organization\")\n",
      "0 eukref_pr2\n",
      "Repository(full_name=\"carpentries-incubator/eukref_pr2\")\n",
      "1"
     ]
    },
    {
     "name": "stderr",
     "output_type": "stream",
     "text": [
      "C:\\Users\\ADMIN\\AppData\\Local\\Temp\\ipykernel_20436\\1176445623.py:5: FutureWarning: The frame.append method is deprecated and will be removed from pandas in a future version. Use pandas.concat instead.\n",
      "  df=df.append(new_column,ignore_index=True)\n",
      "C:\\Users\\ADMIN\\AppData\\Local\\Temp\\ipykernel_20436\\1176445623.py:5: FutureWarning: The frame.append method is deprecated and will be removed from pandas in a future version. Use pandas.concat instead.\n",
      "  df=df.append(new_column,ignore_index=True)\n",
      "C:\\Users\\ADMIN\\AppData\\Local\\Temp\\ipykernel_20436\\1176445623.py:5: FutureWarning: The frame.append method is deprecated and will be removed from pandas in a future version. Use pandas.concat instead.\n",
      "  df=df.append(new_column,ignore_index=True)\n",
      "C:\\Users\\ADMIN\\AppData\\Local\\Temp\\ipykernel_20436\\1176445623.py:5: FutureWarning: The frame.append method is deprecated and will be removed from pandas in a future version. Use pandas.concat instead.\n",
      "  df=df.append(new_column,ignore_index=True)\n",
      "C:\\Users\\ADMIN\\AppData\\Local\\Temp\\ipykernel_20436\\1176445623.py:5: FutureWarning: The frame.append method is deprecated and will be removed from pandas in a future version. Use pandas.concat instead.\n",
      "  df=df.append(new_column,ignore_index=True)\n",
      "C:\\Users\\ADMIN\\AppData\\Local\\Temp\\ipykernel_20436\\1176445623.py:5: FutureWarning: The frame.append method is deprecated and will be removed from pandas in a future version. Use pandas.concat instead.\n",
      "  df=df.append(new_column,ignore_index=True)\n"
     ]
    },
    {
     "name": "stdout",
     "output_type": "stream",
     "text": [
      " r-for-artists\n",
      "Repository(full_name=\"carpentries-incubator/r-for-artists\")\n",
      "4 metagenomics\n",
      "Repository(full_name=\"carpentries-incubator/metagenomics\")\n",
      "3 data-harvesting-for-agriculture\n",
      "Repository(full_name=\"carpentries-incubator/data-harvesting-for-agriculture\")\n",
      "5 template\n",
      "Repository(full_name=\"carpentries-incubator/template\")\n",
      "6 singularity-introduction\n",
      "Repository(full_name=\"carpentries-incubator/singularity-introduction\")\n",
      "0 camera-traps\n",
      "Repository(full_name=\"carpentries-incubator/camera-traps\")\n",
      "2"
     ]
    },
    {
     "name": "stderr",
     "output_type": "stream",
     "text": [
      "C:\\Users\\ADMIN\\AppData\\Local\\Temp\\ipykernel_20436\\1176445623.py:5: FutureWarning: The frame.append method is deprecated and will be removed from pandas in a future version. Use pandas.concat instead.\n",
      "  df=df.append(new_column,ignore_index=True)\n",
      "C:\\Users\\ADMIN\\AppData\\Local\\Temp\\ipykernel_20436\\1176445623.py:5: FutureWarning: The frame.append method is deprecated and will be removed from pandas in a future version. Use pandas.concat instead.\n",
      "  df=df.append(new_column,ignore_index=True)\n",
      "C:\\Users\\ADMIN\\AppData\\Local\\Temp\\ipykernel_20436\\1176445623.py:5: FutureWarning: The frame.append method is deprecated and will be removed from pandas in a future version. Use pandas.concat instead.\n",
      "  df=df.append(new_column,ignore_index=True)\n",
      "C:\\Users\\ADMIN\\AppData\\Local\\Temp\\ipykernel_20436\\1176445623.py:5: FutureWarning: The frame.append method is deprecated and will be removed from pandas in a future version. Use pandas.concat instead.\n",
      "  df=df.append(new_column,ignore_index=True)\n",
      "C:\\Users\\ADMIN\\AppData\\Local\\Temp\\ipykernel_20436\\1176445623.py:5: FutureWarning: The frame.append method is deprecated and will be removed from pandas in a future version. Use pandas.concat instead.\n",
      "  df=df.append(new_column,ignore_index=True)\n",
      "C:\\Users\\ADMIN\\AppData\\Local\\Temp\\ipykernel_20436\\1176445623.py:5: FutureWarning: The frame.append method is deprecated and will be removed from pandas in a future version. Use pandas.concat instead.\n",
      "  df=df.append(new_column,ignore_index=True)\n"
     ]
    },
    {
     "name": "stdout",
     "output_type": "stream",
     "text": [
      " bioc-intro\n",
      "Repository(full_name=\"carpentries-incubator/bioc-intro\")\n",
      "5 bioc-project\n",
      "Repository(full_name=\"carpentries-incubator/bioc-project\")\n",
      "5 bioc-rnaseq\n",
      "Repository(full_name=\"carpentries-incubator/bioc-rnaseq\")\n",
      "8 julia-novice\n",
      "Repository(full_name=\"carpentries-incubator/julia-novice\")\n",
      "0 sql-business\n",
      "Repository(full_name=\"carpentries-incubator/sql-business\")\n"
     ]
    },
    {
     "name": "stderr",
     "output_type": "stream",
     "text": [
      "C:\\Users\\ADMIN\\AppData\\Local\\Temp\\ipykernel_20436\\1176445623.py:5: FutureWarning: The frame.append method is deprecated and will be removed from pandas in a future version. Use pandas.concat instead.\n",
      "  df=df.append(new_column,ignore_index=True)\n",
      "C:\\Users\\ADMIN\\AppData\\Local\\Temp\\ipykernel_20436\\1176445623.py:5: FutureWarning: The frame.append method is deprecated and will be removed from pandas in a future version. Use pandas.concat instead.\n",
      "  df=df.append(new_column,ignore_index=True)\n",
      "C:\\Users\\ADMIN\\AppData\\Local\\Temp\\ipykernel_20436\\1176445623.py:5: FutureWarning: The frame.append method is deprecated and will be removed from pandas in a future version. Use pandas.concat instead.\n",
      "  df=df.append(new_column,ignore_index=True)\n",
      "C:\\Users\\ADMIN\\AppData\\Local\\Temp\\ipykernel_20436\\1176445623.py:5: FutureWarning: The frame.append method is deprecated and will be removed from pandas in a future version. Use pandas.concat instead.\n",
      "  df=df.append(new_column,ignore_index=True)\n",
      "C:\\Users\\ADMIN\\AppData\\Local\\Temp\\ipykernel_20436\\1176445623.py:5: FutureWarning: The frame.append method is deprecated and will be removed from pandas in a future version. Use pandas.concat instead.\n",
      "  df=df.append(new_column,ignore_index=True)\n",
      "C:\\Users\\ADMIN\\AppData\\Local\\Temp\\ipykernel_20436\\1176445623.py:5: FutureWarning: The frame.append method is deprecated and will be removed from pandas in a future version. Use pandas.concat instead.\n",
      "  df=df.append(new_column,ignore_index=True)\n"
     ]
    },
    {
     "name": "stdout",
     "output_type": "stream",
     "text": [
      "6 lesson-gpu-programming\n",
      "Repository(full_name=\"carpentries-incubator/lesson-gpu-programming\")\n",
      "7 python-text-analysis\n",
      "Repository(full_name=\"carpentries-incubator/python-text-analysis\")\n",
      "0 java-intro\n",
      "Repository(full_name=\"carpentries-incubator/java-intro\")\n",
      "1 introduction-to-R-for-metagenomics\n",
      "Repository(full_name=\"carpentries-incubator/introduction-to-R-for-metagenomics\")\n",
      "1 metagenomics-workshop\n",
      "Repository(full_name=\"carpentries-incubator/metagenomics-workshop\")\n",
      "3"
     ]
    },
    {
     "name": "stderr",
     "output_type": "stream",
     "text": [
      "C:\\Users\\ADMIN\\AppData\\Local\\Temp\\ipykernel_20436\\1176445623.py:5: FutureWarning: The frame.append method is deprecated and will be removed from pandas in a future version. Use pandas.concat instead.\n",
      "  df=df.append(new_column,ignore_index=True)\n",
      "C:\\Users\\ADMIN\\AppData\\Local\\Temp\\ipykernel_20436\\1176445623.py:5: FutureWarning: The frame.append method is deprecated and will be removed from pandas in a future version. Use pandas.concat instead.\n",
      "  df=df.append(new_column,ignore_index=True)\n",
      "C:\\Users\\ADMIN\\AppData\\Local\\Temp\\ipykernel_20436\\1176445623.py:5: FutureWarning: The frame.append method is deprecated and will be removed from pandas in a future version. Use pandas.concat instead.\n",
      "  df=df.append(new_column,ignore_index=True)\n",
      "C:\\Users\\ADMIN\\AppData\\Local\\Temp\\ipykernel_20436\\1176445623.py:5: FutureWarning: The frame.append method is deprecated and will be removed from pandas in a future version. Use pandas.concat instead.\n",
      "  df=df.append(new_column,ignore_index=True)\n",
      "C:\\Users\\ADMIN\\AppData\\Local\\Temp\\ipykernel_20436\\1176445623.py:5: FutureWarning: The frame.append method is deprecated and will be removed from pandas in a future version. Use pandas.concat instead.\n",
      "  df=df.append(new_column,ignore_index=True)\n",
      "C:\\Users\\ADMIN\\AppData\\Local\\Temp\\ipykernel_20436\\1176445623.py:5: FutureWarning: The frame.append method is deprecated and will be removed from pandas in a future version. Use pandas.concat instead.\n",
      "  df=df.append(new_column,ignore_index=True)\n"
     ]
    },
    {
     "name": "stdout",
     "output_type": "stream",
     "text": [
      " study-groups\n",
      "Repository(full_name=\"carpentries-incubator/study-groups\")\n",
      "1 microbial-amplicon-analysis\n",
      "Repository(full_name=\"carpentries-incubator/microbial-amplicon-analysis\")\n",
      "2 statistics-r-public-health\n",
      "Repository(full_name=\"carpentries-incubator/statistics-r-public-health\")\n",
      "0 r-object-comparison-waldo\n",
      "Repository(full_name=\"carpentries-incubator/r-object-comparison-waldo\")\n",
      "2 statistical-thinking-public-health\n",
      "Repository(full_name=\"carpentries-incubator/statistical-thinking-public-health\")\n"
     ]
    },
    {
     "name": "stderr",
     "output_type": "stream",
     "text": [
      "C:\\Users\\ADMIN\\AppData\\Local\\Temp\\ipykernel_20436\\1176445623.py:5: FutureWarning: The frame.append method is deprecated and will be removed from pandas in a future version. Use pandas.concat instead.\n",
      "  df=df.append(new_column,ignore_index=True)\n",
      "C:\\Users\\ADMIN\\AppData\\Local\\Temp\\ipykernel_20436\\1176445623.py:5: FutureWarning: The frame.append method is deprecated and will be removed from pandas in a future version. Use pandas.concat instead.\n",
      "  df=df.append(new_column,ignore_index=True)\n",
      "C:\\Users\\ADMIN\\AppData\\Local\\Temp\\ipykernel_20436\\1176445623.py:5: FutureWarning: The frame.append method is deprecated and will be removed from pandas in a future version. Use pandas.concat instead.\n",
      "  df=df.append(new_column,ignore_index=True)\n",
      "C:\\Users\\ADMIN\\AppData\\Local\\Temp\\ipykernel_20436\\1176445623.py:5: FutureWarning: The frame.append method is deprecated and will be removed from pandas in a future version. Use pandas.concat instead.\n",
      "  df=df.append(new_column,ignore_index=True)\n",
      "C:\\Users\\ADMIN\\AppData\\Local\\Temp\\ipykernel_20436\\1176445623.py:5: FutureWarning: The frame.append method is deprecated and will be removed from pandas in a future version. Use pandas.concat instead.\n",
      "  df=df.append(new_column,ignore_index=True)\n",
      "C:\\Users\\ADMIN\\AppData\\Local\\Temp\\ipykernel_20436\\1176445623.py:5: FutureWarning: The frame.append method is deprecated and will be removed from pandas in a future version. Use pandas.concat instead.\n",
      "  df=df.append(new_column,ignore_index=True)\n",
      "C:\\Users\\ADMIN\\AppData\\Local\\Temp\\ipykernel_20436\\1176445623.py:5: FutureWarning: The frame.append method is deprecated and will be removed from pandas in a future version. Use pandas.concat instead.\n",
      "  df=df.append(new_column,ignore_index=True)\n"
     ]
    },
    {
     "name": "stdout",
     "output_type": "stream",
     "text": [
      "0 simple-linear-regression-public-health\n",
      "Repository(full_name=\"carpentries-incubator/simple-linear-regression-public-health\")\n",
      "0 multiple-linear-regression-public-health\n",
      "Repository(full_name=\"carpentries-incubator/multiple-linear-regression-public-health\")\n",
      "0 logistic-regression-public-health\n",
      "Repository(full_name=\"carpentries-incubator/logistic-regression-public-health\")\n",
      "0 linear-mixed-models-public-health\n",
      "Repository(full_name=\"carpentries-incubator/linear-mixed-models-public-health\")\n",
      "11 workflows-nextflow\n",
      "Repository(full_name=\"carpentries-incubator/workflows-nextflow\")\n",
      "1 machine-learning-novice-python\n",
      "Repository(full_name=\"carpentries-incubator/machine-learning-novice-python\")\n",
      "1"
     ]
    },
    {
     "name": "stderr",
     "output_type": "stream",
     "text": [
      "C:\\Users\\ADMIN\\AppData\\Local\\Temp\\ipykernel_20436\\1176445623.py:5: FutureWarning: The frame.append method is deprecated and will be removed from pandas in a future version. Use pandas.concat instead.\n",
      "  df=df.append(new_column,ignore_index=True)\n",
      "C:\\Users\\ADMIN\\AppData\\Local\\Temp\\ipykernel_20436\\1176445623.py:5: FutureWarning: The frame.append method is deprecated and will be removed from pandas in a future version. Use pandas.concat instead.\n",
      "  df=df.append(new_column,ignore_index=True)\n",
      "C:\\Users\\ADMIN\\AppData\\Local\\Temp\\ipykernel_20436\\1176445623.py:5: FutureWarning: The frame.append method is deprecated and will be removed from pandas in a future version. Use pandas.concat instead.\n",
      "  df=df.append(new_column,ignore_index=True)\n",
      "C:\\Users\\ADMIN\\AppData\\Local\\Temp\\ipykernel_20436\\1176445623.py:5: FutureWarning: The frame.append method is deprecated and will be removed from pandas in a future version. Use pandas.concat instead.\n",
      "  df=df.append(new_column,ignore_index=True)\n",
      "C:\\Users\\ADMIN\\AppData\\Local\\Temp\\ipykernel_20436\\1176445623.py:5: FutureWarning: The frame.append method is deprecated and will be removed from pandas in a future version. Use pandas.concat instead.\n",
      "  df=df.append(new_column,ignore_index=True)\n",
      "C:\\Users\\ADMIN\\AppData\\Local\\Temp\\ipykernel_20436\\1176445623.py:5: FutureWarning: The frame.append method is deprecated and will be removed from pandas in a future version. Use pandas.concat instead.\n",
      "  df=df.append(new_column,ignore_index=True)\n"
     ]
    },
    {
     "name": "stdout",
     "output_type": "stream",
     "text": [
      " machine-learning-novice-r\n",
      "Repository(full_name=\"carpentries-incubator/machine-learning-novice-r\")\n",
      "1 julia-data-workflow\n",
      "Repository(full_name=\"carpentries-incubator/julia-data-workflow\")\n",
      "0 python-EOFDM-precursors\n",
      "Repository(full_name=\"carpentries-incubator/python-EOFDM-precursors\")\n",
      "8 machine-learning-librarians-archivists\n",
      "Repository(full_name=\"carpentries-incubator/machine-learning-librarians-archivists\")\n",
      "1 latex-novice-typesetting\n",
      "Repository(full_name=\"carpentries-incubator/latex-novice-typesetting\")\n",
      "0 ide-novice-spyder\n",
      "Repository(full_name=\"carpentries-incubator/ide-novice-spyder\")\n",
      "1"
     ]
    },
    {
     "name": "stderr",
     "output_type": "stream",
     "text": [
      "C:\\Users\\ADMIN\\AppData\\Local\\Temp\\ipykernel_20436\\1176445623.py:5: FutureWarning: The frame.append method is deprecated and will be removed from pandas in a future version. Use pandas.concat instead.\n",
      "  df=df.append(new_column,ignore_index=True)\n",
      "C:\\Users\\ADMIN\\AppData\\Local\\Temp\\ipykernel_20436\\1176445623.py:5: FutureWarning: The frame.append method is deprecated and will be removed from pandas in a future version. Use pandas.concat instead.\n",
      "  df=df.append(new_column,ignore_index=True)\n",
      "C:\\Users\\ADMIN\\AppData\\Local\\Temp\\ipykernel_20436\\1176445623.py:5: FutureWarning: The frame.append method is deprecated and will be removed from pandas in a future version. Use pandas.concat instead.\n",
      "  df=df.append(new_column,ignore_index=True)\n",
      "C:\\Users\\ADMIN\\AppData\\Local\\Temp\\ipykernel_20436\\1176445623.py:5: FutureWarning: The frame.append method is deprecated and will be removed from pandas in a future version. Use pandas.concat instead.\n",
      "  df=df.append(new_column,ignore_index=True)\n",
      "C:\\Users\\ADMIN\\AppData\\Local\\Temp\\ipykernel_20436\\1176445623.py:5: FutureWarning: The frame.append method is deprecated and will be removed from pandas in a future version. Use pandas.concat instead.\n",
      "  df=df.append(new_column,ignore_index=True)\n"
     ]
    },
    {
     "name": "stdout",
     "output_type": "stream",
     "text": [
      " data-management-pipelines-engineering\n",
      "Repository(full_name=\"carpentries-incubator/data-management-pipelines-engineering\")\n",
      "0 java-novice-inflammation\n",
      "Repository(full_name=\"carpentries-incubator/java-novice-inflammation\")\n",
      "1 frictionless-data-agriculture\n",
      "Repository(full_name=\"carpentries-incubator/frictionless-data-agriculture\")\n",
      "0 proteomics-novice-qfeatures\n",
      "Repository(full_name=\"carpentries-incubator/proteomics-novice-qfeatures\")\n",
      "0 shell-programming-course\n",
      "Repository(full_name=\"carpentries-incubator/shell-programming-course\")\n"
     ]
    },
    {
     "name": "stderr",
     "output_type": "stream",
     "text": [
      "C:\\Users\\ADMIN\\AppData\\Local\\Temp\\ipykernel_20436\\1176445623.py:5: FutureWarning: The frame.append method is deprecated and will be removed from pandas in a future version. Use pandas.concat instead.\n",
      "  df=df.append(new_column,ignore_index=True)\n",
      "C:\\Users\\ADMIN\\AppData\\Local\\Temp\\ipykernel_20436\\1176445623.py:5: FutureWarning: The frame.append method is deprecated and will be removed from pandas in a future version. Use pandas.concat instead.\n",
      "  df=df.append(new_column,ignore_index=True)\n",
      "C:\\Users\\ADMIN\\AppData\\Local\\Temp\\ipykernel_20436\\1176445623.py:5: FutureWarning: The frame.append method is deprecated and will be removed from pandas in a future version. Use pandas.concat instead.\n",
      "  df=df.append(new_column,ignore_index=True)\n",
      "C:\\Users\\ADMIN\\AppData\\Local\\Temp\\ipykernel_20436\\1176445623.py:5: FutureWarning: The frame.append method is deprecated and will be removed from pandas in a future version. Use pandas.concat instead.\n",
      "  df=df.append(new_column,ignore_index=True)\n"
     ]
    },
    {
     "name": "stdout",
     "output_type": "stream",
     "text": [
      "0 lesson-R-packaging\n",
      "Repository(full_name=\"carpentries-incubator/lesson-R-packaging\")\n",
      "2 citable-software\n",
      "Repository(full_name=\"carpentries-incubator/citable-software\")\n",
      "1 scrna-seq-analysis\n",
      "Repository(full_name=\"carpentries-incubator/scrna-seq-analysis\")\n",
      "0 instructor-training-bonus-modules\n",
      "Repository(full_name=\"carpentries-incubator/instructor-training-bonus-modules\")\n"
     ]
    },
    {
     "name": "stderr",
     "output_type": "stream",
     "text": [
      "C:\\Users\\ADMIN\\AppData\\Local\\Temp\\ipykernel_20436\\1176445623.py:5: FutureWarning: The frame.append method is deprecated and will be removed from pandas in a future version. Use pandas.concat instead.\n",
      "  df=df.append(new_column,ignore_index=True)\n",
      "C:\\Users\\ADMIN\\AppData\\Local\\Temp\\ipykernel_20436\\1176445623.py:5: FutureWarning: The frame.append method is deprecated and will be removed from pandas in a future version. Use pandas.concat instead.\n",
      "  df=df.append(new_column,ignore_index=True)\n"
     ]
    },
    {
     "name": "stdout",
     "output_type": "stream",
     "text": [
      "0 relational-database-genealogy\n",
      "Repository(full_name=\"carpentries-incubator/relational-database-genealogy\")\n",
      "12 SDC-BIDS-sMRI\n",
      "Repository(full_name=\"carpentries-incubator/SDC-BIDS-sMRI\")\n",
      "1 shell-metagenomics\n",
      "Repository(full_name=\"carpentries-incubator/shell-metagenomics\")\n"
     ]
    },
    {
     "name": "stderr",
     "output_type": "stream",
     "text": [
      "C:\\Users\\ADMIN\\AppData\\Local\\Temp\\ipykernel_20436\\1176445623.py:5: FutureWarning: The frame.append method is deprecated and will be removed from pandas in a future version. Use pandas.concat instead.\n",
      "  df=df.append(new_column,ignore_index=True)\n",
      "C:\\Users\\ADMIN\\AppData\\Local\\Temp\\ipykernel_20436\\1176445623.py:5: FutureWarning: The frame.append method is deprecated and will be removed from pandas in a future version. Use pandas.concat instead.\n",
      "  df=df.append(new_column,ignore_index=True)\n",
      "C:\\Users\\ADMIN\\AppData\\Local\\Temp\\ipykernel_20436\\1176445623.py:5: FutureWarning: The frame.append method is deprecated and will be removed from pandas in a future version. Use pandas.concat instead.\n",
      "  df=df.append(new_column,ignore_index=True)\n",
      "C:\\Users\\ADMIN\\AppData\\Local\\Temp\\ipykernel_20436\\1176445623.py:5: FutureWarning: The frame.append method is deprecated and will be removed from pandas in a future version. Use pandas.concat instead.\n",
      "  df=df.append(new_column,ignore_index=True)\n"
     ]
    },
    {
     "name": "stdout",
     "output_type": "stream",
     "text": [
      "4 good-enough-practices\n",
      "Repository(full_name=\"carpentries-incubator/good-enough-practices\")\n",
      "0 ml-python-supervised-learning\n",
      "Repository(full_name=\"carpentries-incubator/ml-python-supervised-learning\")\n",
      "0 k8s-deployment-novice\n",
      "Repository(full_name=\"carpentries-incubator/k8s-deployment-novice\")\n",
      "1 organization-metagenomics\n",
      "Repository(full_name=\"carpentries-incubator/organization-metagenomics\")\n",
      "6 snakemake-novice-bioinformatics\n",
      "Repository(full_name=\"carpentries-incubator/snakemake-novice-bioinformatics\")\n",
      "4 high-dimensional-stats-r\n",
      "Repository(full_name=\"carpentries-incubator/high-dimensional-stats-r\")\n"
     ]
    },
    {
     "name": "stderr",
     "output_type": "stream",
     "text": [
      "C:\\Users\\ADMIN\\AppData\\Local\\Temp\\ipykernel_20436\\1176445623.py:5: FutureWarning: The frame.append method is deprecated and will be removed from pandas in a future version. Use pandas.concat instead.\n",
      "  df=df.append(new_column,ignore_index=True)\n",
      "C:\\Users\\ADMIN\\AppData\\Local\\Temp\\ipykernel_20436\\1176445623.py:5: FutureWarning: The frame.append method is deprecated and will be removed from pandas in a future version. Use pandas.concat instead.\n",
      "  df=df.append(new_column,ignore_index=True)\n",
      "C:\\Users\\ADMIN\\AppData\\Local\\Temp\\ipykernel_20436\\1176445623.py:5: FutureWarning: The frame.append method is deprecated and will be removed from pandas in a future version. Use pandas.concat instead.\n",
      "  df=df.append(new_column,ignore_index=True)\n",
      "C:\\Users\\ADMIN\\AppData\\Local\\Temp\\ipykernel_20436\\1176445623.py:5: FutureWarning: The frame.append method is deprecated and will be removed from pandas in a future version. Use pandas.concat instead.\n",
      "  df=df.append(new_column,ignore_index=True)\n"
     ]
    },
    {
     "name": "stdout",
     "output_type": "stream",
     "text": [
      "4 fair-bio-practice\n",
      "Repository(full_name=\"carpentries-incubator/fair-bio-practice\")\n",
      "0 markdown-intro\n",
      "Repository(full_name=\"carpentries-incubator/markdown-intro\")\n",
      "2 blogging-with-hugo-and-github-pages\n",
      "Repository(full_name=\"carpentries-incubator/blogging-with-hugo-and-github-pages\")\n",
      "4 foundational-computer-skills\n",
      "Repository(full_name=\"carpentries-incubator/foundational-computer-skills\")\n",
      "2"
     ]
    },
    {
     "name": "stderr",
     "output_type": "stream",
     "text": [
      "C:\\Users\\ADMIN\\AppData\\Local\\Temp\\ipykernel_20436\\1176445623.py:5: FutureWarning: The frame.append method is deprecated and will be removed from pandas in a future version. Use pandas.concat instead.\n",
      "  df=df.append(new_column,ignore_index=True)\n",
      "C:\\Users\\ADMIN\\AppData\\Local\\Temp\\ipykernel_20436\\1176445623.py:5: FutureWarning: The frame.append method is deprecated and will be removed from pandas in a future version. Use pandas.concat instead.\n",
      "  df=df.append(new_column,ignore_index=True)\n",
      "C:\\Users\\ADMIN\\AppData\\Local\\Temp\\ipykernel_20436\\1176445623.py:5: FutureWarning: The frame.append method is deprecated and will be removed from pandas in a future version. Use pandas.concat instead.\n",
      "  df=df.append(new_column,ignore_index=True)\n",
      "C:\\Users\\ADMIN\\AppData\\Local\\Temp\\ipykernel_20436\\1176445623.py:5: FutureWarning: The frame.append method is deprecated and will be removed from pandas in a future version. Use pandas.concat instead.\n",
      "  df=df.append(new_column,ignore_index=True)\n",
      "C:\\Users\\ADMIN\\AppData\\Local\\Temp\\ipykernel_20436\\1176445623.py:5: FutureWarning: The frame.append method is deprecated and will be removed from pandas in a future version. Use pandas.concat instead.\n",
      "  df=df.append(new_column,ignore_index=True)\n"
     ]
    },
    {
     "name": "stdout",
     "output_type": "stream",
     "text": [
      " carpentries-incubator.org\n",
      "Repository(full_name=\"carpentries-incubator/carpentries-incubator.org\")\n",
      "0 regex-novice-biology\n",
      "Repository(full_name=\"carpentries-incubator/regex-novice-biology\")\n",
      "2 python-interactive-data-visualizations\n",
      "Repository(full_name=\"carpentries-incubator/python-interactive-data-visualizations\")\n",
      "0 fair-for-leaders\n",
      "Repository(full_name=\"carpentries-incubator/fair-for-leaders\")\n",
      "3"
     ]
    },
    {
     "name": "stderr",
     "output_type": "stream",
     "text": [
      "C:\\Users\\ADMIN\\AppData\\Local\\Temp\\ipykernel_20436\\1176445623.py:5: FutureWarning: The frame.append method is deprecated and will be removed from pandas in a future version. Use pandas.concat instead.\n",
      "  df=df.append(new_column,ignore_index=True)\n",
      "C:\\Users\\ADMIN\\AppData\\Local\\Temp\\ipykernel_20436\\1176445623.py:5: FutureWarning: The frame.append method is deprecated and will be removed from pandas in a future version. Use pandas.concat instead.\n",
      "  df=df.append(new_column,ignore_index=True)\n",
      "C:\\Users\\ADMIN\\AppData\\Local\\Temp\\ipykernel_20436\\1176445623.py:5: FutureWarning: The frame.append method is deprecated and will be removed from pandas in a future version. Use pandas.concat instead.\n",
      "  df=df.append(new_column,ignore_index=True)\n",
      "C:\\Users\\ADMIN\\AppData\\Local\\Temp\\ipykernel_20436\\1176445623.py:5: FutureWarning: The frame.append method is deprecated and will be removed from pandas in a future version. Use pandas.concat instead.\n",
      "  df=df.append(new_column,ignore_index=True)\n",
      "C:\\Users\\ADMIN\\AppData\\Local\\Temp\\ipykernel_20436\\1176445623.py:5: FutureWarning: The frame.append method is deprecated and will be removed from pandas in a future version. Use pandas.concat instead.\n",
      "  df=df.append(new_column,ignore_index=True)\n"
     ]
    },
    {
     "name": "stdout",
     "output_type": "stream",
     "text": [
      " managing-computational-projects\n",
      "Repository(full_name=\"carpentries-incubator/managing-computational-projects\")\n",
      "0 .github\n",
      "Repository(full_name=\"carpentries-incubator/.github\")\n",
      "1 machine-learning-trees-python\n",
      "Repository(full_name=\"carpentries-incubator/machine-learning-trees-python\")\n",
      "0 machine-learning-responsible-python\n",
      "Repository(full_name=\"carpentries-incubator/machine-learning-responsible-python\")\n",
      "0"
     ]
    },
    {
     "name": "stderr",
     "output_type": "stream",
     "text": [
      "C:\\Users\\ADMIN\\AppData\\Local\\Temp\\ipykernel_20436\\1176445623.py:5: FutureWarning: The frame.append method is deprecated and will be removed from pandas in a future version. Use pandas.concat instead.\n",
      "  df=df.append(new_column,ignore_index=True)\n",
      "C:\\Users\\ADMIN\\AppData\\Local\\Temp\\ipykernel_20436\\1176445623.py:5: FutureWarning: The frame.append method is deprecated and will be removed from pandas in a future version. Use pandas.concat instead.\n",
      "  df=df.append(new_column,ignore_index=True)\n",
      "C:\\Users\\ADMIN\\AppData\\Local\\Temp\\ipykernel_20436\\1176445623.py:5: FutureWarning: The frame.append method is deprecated and will be removed from pandas in a future version. Use pandas.concat instead.\n",
      "  df=df.append(new_column,ignore_index=True)\n",
      "C:\\Users\\ADMIN\\AppData\\Local\\Temp\\ipykernel_20436\\1176445623.py:5: FutureWarning: The frame.append method is deprecated and will be removed from pandas in a future version. Use pandas.concat instead.\n",
      "  df=df.append(new_column,ignore_index=True)\n",
      "C:\\Users\\ADMIN\\AppData\\Local\\Temp\\ipykernel_20436\\1176445623.py:5: FutureWarning: The frame.append method is deprecated and will be removed from pandas in a future version. Use pandas.concat instead.\n",
      "  df=df.append(new_column,ignore_index=True)\n"
     ]
    },
    {
     "name": "stdout",
     "output_type": "stream",
     "text": [
      " machine-learning-neural-python\n",
      "Repository(full_name=\"carpentries-incubator/machine-learning-neural-python\")\n",
      "2 Reproducible-Publications-with-RStudio-Example\n",
      "Repository(full_name=\"carpentries-incubator/Reproducible-Publications-with-RStudio-Example\")\n",
      "2 Reproducible-Publications-with-RStudio\n",
      "Repository(full_name=\"carpentries-incubator/Reproducible-Publications-with-RStudio\")\n",
      "0 CarpentriesOffline_Instructor_Onboarding\n",
      "Repository(full_name=\"carpentries-incubator/CarpentriesOffline_Instructor_Onboarding\")\n",
      "3 data-science-ai-senior-researchers\n",
      "Repository(full_name=\"carpentries-incubator/data-science-ai-senior-researchers\")\n",
      "0 neuroimaging-workshop\n",
      "Repository(full_name=\"carpentries-incubator/neuroimaging-workshop\")\n",
      "0 zotero-intro\n",
      "Repository(full_name=\"carpentries-incubator/zotero-intro\")\n",
      "0 R-archaeology-lesson\n",
      "Repository(full_name=\"carpentries-incubator/R-archaeology-lesson\")\n"
     ]
    },
    {
     "name": "stderr",
     "output_type": "stream",
     "text": [
      "C:\\Users\\ADMIN\\AppData\\Local\\Temp\\ipykernel_20436\\1176445623.py:5: FutureWarning: The frame.append method is deprecated and will be removed from pandas in a future version. Use pandas.concat instead.\n",
      "  df=df.append(new_column,ignore_index=True)\n",
      "C:\\Users\\ADMIN\\AppData\\Local\\Temp\\ipykernel_20436\\1176445623.py:5: FutureWarning: The frame.append method is deprecated and will be removed from pandas in a future version. Use pandas.concat instead.\n",
      "  df=df.append(new_column,ignore_index=True)\n",
      "C:\\Users\\ADMIN\\AppData\\Local\\Temp\\ipykernel_20436\\1176445623.py:5: FutureWarning: The frame.append method is deprecated and will be removed from pandas in a future version. Use pandas.concat instead.\n",
      "  df=df.append(new_column,ignore_index=True)\n",
      "C:\\Users\\ADMIN\\AppData\\Local\\Temp\\ipykernel_20436\\1176445623.py:5: FutureWarning: The frame.append method is deprecated and will be removed from pandas in a future version. Use pandas.concat instead.\n",
      "  df=df.append(new_column,ignore_index=True)\n",
      "C:\\Users\\ADMIN\\AppData\\Local\\Temp\\ipykernel_20436\\1176445623.py:5: FutureWarning: The frame.append method is deprecated and will be removed from pandas in a future version. Use pandas.concat instead.\n",
      "  df=df.append(new_column,ignore_index=True)\n"
     ]
    },
    {
     "name": "stdout",
     "output_type": "stream",
     "text": [
      "0 multidimensional-biodiversity-data\n",
      "Repository(full_name=\"carpentries-incubator/multidimensional-biodiversity-data\")\n",
      "2 twitter-with-twarc\n",
      "Repository(full_name=\"carpentries-incubator/twitter-with-twarc\")\n",
      "0 carpentries-incubator.github.io\n",
      "Repository(full_name=\"carpentries-incubator/carpentries-incubator.github.io\")\n",
      "0 hpc-workflows\n",
      "Repository(full_name=\"carpentries-incubator/hpc-workflows\")\n",
      "0 r-tidyverse-4-datasets\n",
      "Repository(full_name=\"carpentries-incubator/r-tidyverse-4-datasets\")\n"
     ]
    },
    {
     "name": "stderr",
     "output_type": "stream",
     "text": [
      "C:\\Users\\ADMIN\\AppData\\Local\\Temp\\ipykernel_20436\\1176445623.py:5: FutureWarning: The frame.append method is deprecated and will be removed from pandas in a future version. Use pandas.concat instead.\n",
      "  df=df.append(new_column,ignore_index=True)\n",
      "C:\\Users\\ADMIN\\AppData\\Local\\Temp\\ipykernel_20436\\1176445623.py:5: FutureWarning: The frame.append method is deprecated and will be removed from pandas in a future version. Use pandas.concat instead.\n",
      "  df=df.append(new_column,ignore_index=True)\n",
      "C:\\Users\\ADMIN\\AppData\\Local\\Temp\\ipykernel_20436\\1176445623.py:5: FutureWarning: The frame.append method is deprecated and will be removed from pandas in a future version. Use pandas.concat instead.\n",
      "  df=df.append(new_column,ignore_index=True)\n",
      "C:\\Users\\ADMIN\\AppData\\Local\\Temp\\ipykernel_20436\\1176445623.py:5: FutureWarning: The frame.append method is deprecated and will be removed from pandas in a future version. Use pandas.concat instead.\n",
      "  df=df.append(new_column,ignore_index=True)\n"
     ]
    }
   ],
   "source": [
    "for r in repos:\n",
    "    print(r.stargazers_count,r.name)\n",
    "    print(r)\n",
    "    new_column={'name':r.name, 'stars':r.stargazers_count}\n",
    "    df=df.append(new_column,ignore_index=True)"
   ]
  },
  {
   "cell_type": "code",
   "execution_count": 65,
   "id": "7acd5bad",
   "metadata": {},
   "outputs": [
    {
     "data": {
      "text/html": [
       "<div>\n",
       "<style scoped>\n",
       "    .dataframe tbody tr th:only-of-type {\n",
       "        vertical-align: middle;\n",
       "    }\n",
       "\n",
       "    .dataframe tbody tr th {\n",
       "        vertical-align: top;\n",
       "    }\n",
       "\n",
       "    .dataframe thead th {\n",
       "        text-align: right;\n",
       "    }\n",
       "</style>\n",
       "<table border=\"1\" class=\"dataframe\">\n",
       "  <thead>\n",
       "    <tr style=\"text-align: right;\">\n",
       "      <th></th>\n",
       "      <th>name</th>\n",
       "      <th>stars</th>\n",
       "    </tr>\n",
       "  </thead>\n",
       "  <tbody>\n",
       "    <tr>\n",
       "      <th>0</th>\n",
       "      <td>capstone-novice-spreadsheet-biblio</td>\n",
       "      <td>4</td>\n",
       "    </tr>\n",
       "    <tr>\n",
       "      <th>1</th>\n",
       "      <td>shell-extras</td>\n",
       "      <td>22</td>\n",
       "    </tr>\n",
       "    <tr>\n",
       "      <th>2</th>\n",
       "      <td>gap-lesson</td>\n",
       "      <td>5</td>\n",
       "    </tr>\n",
       "    <tr>\n",
       "      <th>3</th>\n",
       "      <td>python-testing</td>\n",
       "      <td>51</td>\n",
       "    </tr>\n",
       "    <tr>\n",
       "      <th>4</th>\n",
       "      <td>sage-lesson</td>\n",
       "      <td>5</td>\n",
       "    </tr>\n",
       "    <tr>\n",
       "      <th>...</th>\n",
       "      <td>...</td>\n",
       "      <td>...</td>\n",
       "    </tr>\n",
       "    <tr>\n",
       "      <th>120</th>\n",
       "      <td>multidimensional-biodiversity-data</td>\n",
       "      <td>0</td>\n",
       "    </tr>\n",
       "    <tr>\n",
       "      <th>121</th>\n",
       "      <td>twitter-with-twarc</td>\n",
       "      <td>2</td>\n",
       "    </tr>\n",
       "    <tr>\n",
       "      <th>122</th>\n",
       "      <td>carpentries-incubator.github.io</td>\n",
       "      <td>0</td>\n",
       "    </tr>\n",
       "    <tr>\n",
       "      <th>123</th>\n",
       "      <td>hpc-workflows</td>\n",
       "      <td>0</td>\n",
       "    </tr>\n",
       "    <tr>\n",
       "      <th>124</th>\n",
       "      <td>r-tidyverse-4-datasets</td>\n",
       "      <td>0</td>\n",
       "    </tr>\n",
       "  </tbody>\n",
       "</table>\n",
       "<p>125 rows × 2 columns</p>\n",
       "</div>"
      ],
      "text/plain": [
       "                                   name  stars\n",
       "0    capstone-novice-spreadsheet-biblio      4\n",
       "1                          shell-extras     22\n",
       "2                            gap-lesson      5\n",
       "3                        python-testing     51\n",
       "4                           sage-lesson      5\n",
       "..                                  ...    ...\n",
       "120  multidimensional-biodiversity-data      0\n",
       "121                  twitter-with-twarc      2\n",
       "122     carpentries-incubator.github.io      0\n",
       "123                       hpc-workflows      0\n",
       "124              r-tidyverse-4-datasets      0\n",
       "\n",
       "[125 rows x 2 columns]"
      ]
     },
     "execution_count": 65,
     "metadata": {},
     "output_type": "execute_result"
    }
   ],
   "source": [
    "df"
   ]
  },
  {
   "cell_type": "code",
   "execution_count": 72,
   "id": "3f38239d",
   "metadata": {
    "scrolled": true
   },
   "outputs": [
    {
     "name": "stdout",
     "output_type": "stream",
     "text": [
      "<class 'github.PaginatedList.PaginatedList'>\n"
     ]
    }
   ],
   "source": [
    "open_issues=repo.get_issues(state='open')\n",
    "# for issue in open_issues:\n",
    "#     print(issue)\n",
    "print(type(open_issues))\n",
    "\n",
    "    "
   ]
  },
  {
   "cell_type": "code",
   "execution_count": 67,
   "id": "dd71546f",
   "metadata": {},
   "outputs": [
    {
     "name": "stdout",
     "output_type": "stream",
     "text": [
      "Explain equal and identical objects 33\n",
      "broken links 32\n"
     ]
    },
    {
     "name": "stderr",
     "output_type": "stream",
     "text": [
      "C:\\Users\\ADMIN\\AppData\\Local\\Temp\\ipykernel_20436\\2619570107.py:4: FutureWarning: The frame.append method is deprecated and will be removed from pandas in a future version. Use pandas.concat instead.\n",
      "  f=df.append(new_column,ignore_index=True)\n",
      "C:\\Users\\ADMIN\\AppData\\Local\\Temp\\ipykernel_20436\\2619570107.py:4: FutureWarning: The frame.append method is deprecated and will be removed from pandas in a future version. Use pandas.concat instead.\n",
      "  f=df.append(new_column,ignore_index=True)\n",
      "C:\\Users\\ADMIN\\AppData\\Local\\Temp\\ipykernel_20436\\2619570107.py:4: FutureWarning: The frame.append method is deprecated and will be removed from pandas in a future version. Use pandas.concat instead.\n",
      "  f=df.append(new_column,ignore_index=True)\n"
     ]
    },
    {
     "name": "stdout",
     "output_type": "stream",
     "text": [
      "Using SetHelpViewer on Linux 23\n",
      "Simplify TestOneOrderVariadic  18\n",
      "Make \"Getting ready\" easier 17\n",
      "Move LogTo to testing section 14\n"
     ]
    },
    {
     "name": "stderr",
     "output_type": "stream",
     "text": [
      "C:\\Users\\ADMIN\\AppData\\Local\\Temp\\ipykernel_20436\\2619570107.py:4: FutureWarning: The frame.append method is deprecated and will be removed from pandas in a future version. Use pandas.concat instead.\n",
      "  f=df.append(new_column,ignore_index=True)\n",
      "C:\\Users\\ADMIN\\AppData\\Local\\Temp\\ipykernel_20436\\2619570107.py:4: FutureWarning: The frame.append method is deprecated and will be removed from pandas in a future version. Use pandas.concat instead.\n",
      "  f=df.append(new_column,ignore_index=True)\n",
      "C:\\Users\\ADMIN\\AppData\\Local\\Temp\\ipykernel_20436\\2619570107.py:4: FutureWarning: The frame.append method is deprecated and will be removed from pandas in a future version. Use pandas.concat instead.\n",
      "  f=df.append(new_column,ignore_index=True)\n",
      "C:\\Users\\ADMIN\\AppData\\Local\\Temp\\ipykernel_20436\\2619570107.py:4: FutureWarning: The frame.append method is deprecated and will be removed from pandas in a future version. Use pandas.concat instead.\n",
      "  f=df.append(new_column,ignore_index=True)\n",
      "C:\\Users\\ADMIN\\AppData\\Local\\Temp\\ipykernel_20436\\2619570107.py:4: FutureWarning: The frame.append method is deprecated and will be removed from pandas in a future version. Use pandas.concat instead.\n",
      "  f=df.append(new_column,ignore_index=True)\n"
     ]
    },
    {
     "name": "stdout",
     "output_type": "stream",
     "text": [
      "Adding an example of parallel small groups search 8\n",
      "Use of iterators 5\n",
      "Adding GAP syntax highlight 2\n"
     ]
    },
    {
     "name": "stderr",
     "output_type": "stream",
     "text": [
      "C:\\Users\\ADMIN\\AppData\\Local\\Temp\\ipykernel_20436\\2619570107.py:4: FutureWarning: The frame.append method is deprecated and will be removed from pandas in a future version. Use pandas.concat instead.\n",
      "  f=df.append(new_column,ignore_index=True)\n"
     ]
    }
   ],
   "source": [
    "for issue in open_issues:\n",
    "    print(issue.title , issue.number)\n",
    "    new_column={'name':issue.title, 'open issues':issue.number}\n",
    "    f=df.append(new_column,ignore_index=True) \n",
    "    "
   ]
  },
  {
   "cell_type": "code",
   "execution_count": 48,
   "id": "f2254c85",
   "metadata": {},
   "outputs": [
    {
     "data": {
      "text/html": [
       "<div>\n",
       "<style scoped>\n",
       "    .dataframe tbody tr th:only-of-type {\n",
       "        vertical-align: middle;\n",
       "    }\n",
       "\n",
       "    .dataframe tbody tr th {\n",
       "        vertical-align: top;\n",
       "    }\n",
       "\n",
       "    .dataframe thead th {\n",
       "        text-align: right;\n",
       "    }\n",
       "</style>\n",
       "<table border=\"1\" class=\"dataframe\">\n",
       "  <thead>\n",
       "    <tr style=\"text-align: right;\">\n",
       "      <th></th>\n",
       "      <th>name</th>\n",
       "      <th>closed issues</th>\n",
       "    </tr>\n",
       "  </thead>\n",
       "  <tbody>\n",
       "    <tr>\n",
       "      <th>0</th>\n",
       "      <td>Use remote theme</td>\n",
       "      <td>31</td>\n",
       "    </tr>\n",
       "    <tr>\n",
       "      <th>1</th>\n",
       "      <td>Add acknowledgement of CCP-CoDiMa and OpenDrea...</td>\n",
       "      <td>30</td>\n",
       "    </tr>\n",
       "    <tr>\n",
       "      <th>2</th>\n",
       "      <td>Including this lesson on the new community les...</td>\n",
       "      <td>29</td>\n",
       "    </tr>\n",
       "    <tr>\n",
       "      <th>3</th>\n",
       "      <td>Update README.md</td>\n",
       "      <td>28</td>\n",
       "    </tr>\n",
       "    <tr>\n",
       "      <th>4</th>\n",
       "      <td>Do not use r-base for GAP lesson</td>\n",
       "      <td>27</td>\n",
       "    </tr>\n",
       "    <tr>\n",
       "      <th>5</th>\n",
       "      <td>Fully proofread lesson (minor changes)</td>\n",
       "      <td>26</td>\n",
       "    </tr>\n",
       "    <tr>\n",
       "      <th>6</th>\n",
       "      <td>Update setup.md</td>\n",
       "      <td>25</td>\n",
       "    </tr>\n",
       "    <tr>\n",
       "      <th>7</th>\n",
       "      <td>Avoid using potential misleading terminology</td>\n",
       "      <td>24</td>\n",
       "    </tr>\n",
       "    <tr>\n",
       "      <th>8</th>\n",
       "      <td>Setup for Travis CI</td>\n",
       "      <td>22</td>\n",
       "    </tr>\n",
       "    <tr>\n",
       "      <th>9</th>\n",
       "      <td>Could not find document 'aio.md'</td>\n",
       "      <td>21</td>\n",
       "    </tr>\n",
       "    <tr>\n",
       "      <th>10</th>\n",
       "      <td>Broken link to code of conduct</td>\n",
       "      <td>20</td>\n",
       "    </tr>\n",
       "    <tr>\n",
       "      <th>11</th>\n",
       "      <td>v9.4.0</td>\n",
       "      <td>19</td>\n",
       "    </tr>\n",
       "    <tr>\n",
       "      <th>12</th>\n",
       "      <td>Minor improvements based on feedback</td>\n",
       "      <td>16</td>\n",
       "    </tr>\n",
       "    <tr>\n",
       "      <th>13</th>\n",
       "      <td>Polishing after merging PR #13</td>\n",
       "      <td>15</td>\n",
       "    </tr>\n",
       "    <tr>\n",
       "      <th>14</th>\n",
       "      <td>Various changes</td>\n",
       "      <td>13</td>\n",
       "    </tr>\n",
       "    <tr>\n",
       "      <th>15</th>\n",
       "      <td>Fixed formulations or tiny language errors</td>\n",
       "      <td>12</td>\n",
       "    </tr>\n",
       "    <tr>\n",
       "      <th>16</th>\n",
       "      <td>fixed typo</td>\n",
       "      <td>11</td>\n",
       "    </tr>\n",
       "    <tr>\n",
       "      <th>17</th>\n",
       "      <td>Correct Determinant(m) from -30 to 0</td>\n",
       "      <td>10</td>\n",
       "    </tr>\n",
       "    <tr>\n",
       "      <th>18</th>\n",
       "      <td>Finish the switch to the new lesson template</td>\n",
       "      <td>9</td>\n",
       "    </tr>\n",
       "    <tr>\n",
       "      <th>19</th>\n",
       "      <td>How to read data from files</td>\n",
       "      <td>7</td>\n",
       "    </tr>\n",
       "    <tr>\n",
       "      <th>20</th>\n",
       "      <td>How to have an executable GAP script</td>\n",
       "      <td>6</td>\n",
       "    </tr>\n",
       "    <tr>\n",
       "      <th>21</th>\n",
       "      <td>Variadic function and Info in small group search</td>\n",
       "      <td>4</td>\n",
       "    </tr>\n",
       "    <tr>\n",
       "      <th>22</th>\n",
       "      <td>Revise regression tests</td>\n",
       "      <td>3</td>\n",
       "    </tr>\n",
       "    <tr>\n",
       "      <th>23</th>\n",
       "      <td>Using ChangeDirectoryCurrent</td>\n",
       "      <td>1</td>\n",
       "    </tr>\n",
       "  </tbody>\n",
       "</table>\n",
       "</div>"
      ],
      "text/plain": [
       "                                                 name  closed issues\n",
       "0                                    Use remote theme             31\n",
       "1   Add acknowledgement of CCP-CoDiMa and OpenDrea...             30\n",
       "2   Including this lesson on the new community les...             29\n",
       "3                                    Update README.md             28\n",
       "4                    Do not use r-base for GAP lesson             27\n",
       "5              Fully proofread lesson (minor changes)             26\n",
       "6                                     Update setup.md             25\n",
       "7        Avoid using potential misleading terminology             24\n",
       "8                                 Setup for Travis CI             22\n",
       "9                    Could not find document 'aio.md'             21\n",
       "10                     Broken link to code of conduct             20\n",
       "11                                             v9.4.0             19\n",
       "12               Minor improvements based on feedback             16\n",
       "13                     Polishing after merging PR #13             15\n",
       "14                                    Various changes             13\n",
       "15         Fixed formulations or tiny language errors             12\n",
       "16                                         fixed typo             11\n",
       "17               Correct Determinant(m) from -30 to 0             10\n",
       "18       Finish the switch to the new lesson template              9\n",
       "19                        How to read data from files              7\n",
       "20               How to have an executable GAP script              6\n",
       "21   Variadic function and Info in small group search              4\n",
       "22                            Revise regression tests              3\n",
       "23                       Using ChangeDirectoryCurrent              1"
      ]
     },
     "execution_count": 48,
     "metadata": {},
     "output_type": "execute_result"
    }
   ],
   "source": [
    "df"
   ]
  },
  {
   "cell_type": "code",
   "execution_count": 43,
   "id": "c19fc829",
   "metadata": {},
   "outputs": [
    {
     "name": "stdout",
     "output_type": "stream",
     "text": [
      "Issue(title=\"Use remote theme\", number=31)\n",
      "Issue(title=\"Add acknowledgement of CCP-CoDiMa and OpenDreamKit\", number=30)\n",
      "Issue(title=\"Including this lesson on the new community lessons page\", number=29)\n",
      "Issue(title=\"Update README.md\", number=28)\n",
      "Issue(title=\"Do not use r-base for GAP lesson\", number=27)\n",
      "Issue(title=\"Fully proofread lesson (minor changes)\", number=26)\n",
      "Issue(title=\"Update setup.md\", number=25)\n",
      "Issue(title=\"Avoid using potential misleading terminology\", number=24)\n",
      "Issue(title=\"Setup for Travis CI\", number=22)\n",
      "Issue(title=\"Could not find document 'aio.md'\", number=21)\n",
      "Issue(title=\"Broken link to code of conduct\", number=20)\n",
      "Issue(title=\"v9.4.0\", number=19)\n",
      "Issue(title=\"Minor improvements based on feedback\", number=16)\n",
      "Issue(title=\"Polishing after merging PR #13\", number=15)\n",
      "Issue(title=\"Various changes\", number=13)\n",
      "Issue(title=\"Fixed formulations or tiny language errors\", number=12)\n",
      "Issue(title=\"fixed typo\", number=11)\n",
      "Issue(title=\"Correct Determinant(m) from -30 to 0\", number=10)\n",
      "Issue(title=\"Finish the switch to the new lesson template\", number=9)\n",
      "Issue(title=\"How to read data from files\", number=7)\n",
      "Issue(title=\"How to have an executable GAP script\", number=6)\n",
      "Issue(title=\"Variadic function and Info in small group search\", number=4)\n",
      "Issue(title=\"Revise regression tests\", number=3)\n",
      "Issue(title=\"Using ChangeDirectoryCurrent\", number=1)\n"
     ]
    }
   ],
   "source": [
    "closed_issues=repo.get_issues(state='closed')\n",
    "for issue in closed_issues:\n",
    "    print(issue)"
   ]
  },
  {
   "cell_type": "code",
   "execution_count": 44,
   "id": "69a866a9",
   "metadata": {},
   "outputs": [
    {
     "name": "stdout",
     "output_type": "stream",
     "text": [
      "Use remote theme 31\n"
     ]
    },
    {
     "name": "stderr",
     "output_type": "stream",
     "text": [
      "C:\\Users\\ADMIN\\AppData\\Local\\Temp\\ipykernel_20436\\801643983.py:4: FutureWarning: The frame.append method is deprecated and will be removed from pandas in a future version. Use pandas.concat instead.\n",
      "  df=df.append(new_column,ignore_index=True)\n",
      "C:\\Users\\ADMIN\\AppData\\Local\\Temp\\ipykernel_20436\\801643983.py:4: FutureWarning: The frame.append method is deprecated and will be removed from pandas in a future version. Use pandas.concat instead.\n",
      "  df=df.append(new_column,ignore_index=True)\n",
      "C:\\Users\\ADMIN\\AppData\\Local\\Temp\\ipykernel_20436\\801643983.py:4: FutureWarning: The frame.append method is deprecated and will be removed from pandas in a future version. Use pandas.concat instead.\n",
      "  df=df.append(new_column,ignore_index=True)\n",
      "C:\\Users\\ADMIN\\AppData\\Local\\Temp\\ipykernel_20436\\801643983.py:4: FutureWarning: The frame.append method is deprecated and will be removed from pandas in a future version. Use pandas.concat instead.\n",
      "  df=df.append(new_column,ignore_index=True)\n",
      "C:\\Users\\ADMIN\\AppData\\Local\\Temp\\ipykernel_20436\\801643983.py:4: FutureWarning: The frame.append method is deprecated and will be removed from pandas in a future version. Use pandas.concat instead.\n",
      "  df=df.append(new_column,ignore_index=True)\n",
      "C:\\Users\\ADMIN\\AppData\\Local\\Temp\\ipykernel_20436\\801643983.py:4: FutureWarning: The frame.append method is deprecated and will be removed from pandas in a future version. Use pandas.concat instead.\n",
      "  df=df.append(new_column,ignore_index=True)\n",
      "C:\\Users\\ADMIN\\AppData\\Local\\Temp\\ipykernel_20436\\801643983.py:4: FutureWarning: The frame.append method is deprecated and will be removed from pandas in a future version. Use pandas.concat instead.\n",
      "  df=df.append(new_column,ignore_index=True)\n",
      "C:\\Users\\ADMIN\\AppData\\Local\\Temp\\ipykernel_20436\\801643983.py:4: FutureWarning: The frame.append method is deprecated and will be removed from pandas in a future version. Use pandas.concat instead.\n",
      "  df=df.append(new_column,ignore_index=True)\n",
      "C:\\Users\\ADMIN\\AppData\\Local\\Temp\\ipykernel_20436\\801643983.py:4: FutureWarning: The frame.append method is deprecated and will be removed from pandas in a future version. Use pandas.concat instead.\n",
      "  df=df.append(new_column,ignore_index=True)\n"
     ]
    },
    {
     "name": "stdout",
     "output_type": "stream",
     "text": [
      "Add acknowledgement of CCP-CoDiMa and OpenDreamKit 30\n",
      "Including this lesson on the new community lessons page 29\n",
      "Update README.md 28\n",
      "Do not use r-base for GAP lesson 27\n",
      "Fully proofread lesson (minor changes) 26\n",
      "Update setup.md 25\n",
      "Avoid using potential misleading terminology 24\n",
      "Setup for Travis CI 22\n",
      "Could not find document 'aio.md'"
     ]
    },
    {
     "name": "stderr",
     "output_type": "stream",
     "text": [
      "C:\\Users\\ADMIN\\AppData\\Local\\Temp\\ipykernel_20436\\801643983.py:4: FutureWarning: The frame.append method is deprecated and will be removed from pandas in a future version. Use pandas.concat instead.\n",
      "  df=df.append(new_column,ignore_index=True)\n",
      "C:\\Users\\ADMIN\\AppData\\Local\\Temp\\ipykernel_20436\\801643983.py:4: FutureWarning: The frame.append method is deprecated and will be removed from pandas in a future version. Use pandas.concat instead.\n",
      "  df=df.append(new_column,ignore_index=True)\n",
      "C:\\Users\\ADMIN\\AppData\\Local\\Temp\\ipykernel_20436\\801643983.py:4: FutureWarning: The frame.append method is deprecated and will be removed from pandas in a future version. Use pandas.concat instead.\n",
      "  df=df.append(new_column,ignore_index=True)\n",
      "C:\\Users\\ADMIN\\AppData\\Local\\Temp\\ipykernel_20436\\801643983.py:4: FutureWarning: The frame.append method is deprecated and will be removed from pandas in a future version. Use pandas.concat instead.\n",
      "  df=df.append(new_column,ignore_index=True)\n",
      "C:\\Users\\ADMIN\\AppData\\Local\\Temp\\ipykernel_20436\\801643983.py:4: FutureWarning: The frame.append method is deprecated and will be removed from pandas in a future version. Use pandas.concat instead.\n",
      "  df=df.append(new_column,ignore_index=True)\n",
      "C:\\Users\\ADMIN\\AppData\\Local\\Temp\\ipykernel_20436\\801643983.py:4: FutureWarning: The frame.append method is deprecated and will be removed from pandas in a future version. Use pandas.concat instead.\n",
      "  df=df.append(new_column,ignore_index=True)\n",
      "C:\\Users\\ADMIN\\AppData\\Local\\Temp\\ipykernel_20436\\801643983.py:4: FutureWarning: The frame.append method is deprecated and will be removed from pandas in a future version. Use pandas.concat instead.\n",
      "  df=df.append(new_column,ignore_index=True)\n",
      "C:\\Users\\ADMIN\\AppData\\Local\\Temp\\ipykernel_20436\\801643983.py:4: FutureWarning: The frame.append method is deprecated and will be removed from pandas in a future version. Use pandas.concat instead.\n",
      "  df=df.append(new_column,ignore_index=True)\n",
      "C:\\Users\\ADMIN\\AppData\\Local\\Temp\\ipykernel_20436\\801643983.py:4: FutureWarning: The frame.append method is deprecated and will be removed from pandas in a future version. Use pandas.concat instead.\n",
      "  df=df.append(new_column,ignore_index=True)\n"
     ]
    },
    {
     "name": "stdout",
     "output_type": "stream",
     "text": [
      " 21\n",
      "Broken link to code of conduct 20\n",
      "v9.4.0 19\n",
      "Minor improvements based on feedback 16\n",
      "Polishing after merging PR #13 15\n",
      "Various changes 13\n",
      "Fixed formulations or tiny language errors 12\n",
      "fixed typo 11\n",
      "Correct Determinant(m) from -30 to 0 10\n",
      "Finish the switch to the new lesson template 9\n",
      "How to read data from files 7\n",
      "How to have an executable GAP script 6\n",
      "Variadic function and Info in small group search 4\n",
      "Revise regression tests 3\n",
      "Using ChangeDirectoryCurrent 1\n"
     ]
    },
    {
     "name": "stderr",
     "output_type": "stream",
     "text": [
      "C:\\Users\\ADMIN\\AppData\\Local\\Temp\\ipykernel_20436\\801643983.py:4: FutureWarning: The frame.append method is deprecated and will be removed from pandas in a future version. Use pandas.concat instead.\n",
      "  df=df.append(new_column,ignore_index=True)\n",
      "C:\\Users\\ADMIN\\AppData\\Local\\Temp\\ipykernel_20436\\801643983.py:4: FutureWarning: The frame.append method is deprecated and will be removed from pandas in a future version. Use pandas.concat instead.\n",
      "  df=df.append(new_column,ignore_index=True)\n",
      "C:\\Users\\ADMIN\\AppData\\Local\\Temp\\ipykernel_20436\\801643983.py:4: FutureWarning: The frame.append method is deprecated and will be removed from pandas in a future version. Use pandas.concat instead.\n",
      "  df=df.append(new_column,ignore_index=True)\n",
      "C:\\Users\\ADMIN\\AppData\\Local\\Temp\\ipykernel_20436\\801643983.py:4: FutureWarning: The frame.append method is deprecated and will be removed from pandas in a future version. Use pandas.concat instead.\n",
      "  df=df.append(new_column,ignore_index=True)\n",
      "C:\\Users\\ADMIN\\AppData\\Local\\Temp\\ipykernel_20436\\801643983.py:4: FutureWarning: The frame.append method is deprecated and will be removed from pandas in a future version. Use pandas.concat instead.\n",
      "  df=df.append(new_column,ignore_index=True)\n",
      "C:\\Users\\ADMIN\\AppData\\Local\\Temp\\ipykernel_20436\\801643983.py:4: FutureWarning: The frame.append method is deprecated and will be removed from pandas in a future version. Use pandas.concat instead.\n",
      "  df=df.append(new_column,ignore_index=True)\n"
     ]
    }
   ],
   "source": [
    "#for issue in closed_issues:\n",
    "    print(issue.title , issue.number)\n",
    "    new_column={'name':issue.title, 'closed issues':issue.number}\n",
    "    df=df.append(new_column,ignore_index=True)\n"
   ]
  },
  {
   "cell_type": "code",
   "execution_count": 45,
   "id": "f929daca",
   "metadata": {},
   "outputs": [
    {
     "data": {
      "text/html": [
       "<div>\n",
       "<style scoped>\n",
       "    .dataframe tbody tr th:only-of-type {\n",
       "        vertical-align: middle;\n",
       "    }\n",
       "\n",
       "    .dataframe tbody tr th {\n",
       "        vertical-align: top;\n",
       "    }\n",
       "\n",
       "    .dataframe thead th {\n",
       "        text-align: right;\n",
       "    }\n",
       "</style>\n",
       "<table border=\"1\" class=\"dataframe\">\n",
       "  <thead>\n",
       "    <tr style=\"text-align: right;\">\n",
       "      <th></th>\n",
       "      <th>name</th>\n",
       "      <th>closed issues</th>\n",
       "    </tr>\n",
       "  </thead>\n",
       "  <tbody>\n",
       "    <tr>\n",
       "      <th>0</th>\n",
       "      <td>Use remote theme</td>\n",
       "      <td>31</td>\n",
       "    </tr>\n",
       "    <tr>\n",
       "      <th>1</th>\n",
       "      <td>Add acknowledgement of CCP-CoDiMa and OpenDrea...</td>\n",
       "      <td>30</td>\n",
       "    </tr>\n",
       "    <tr>\n",
       "      <th>2</th>\n",
       "      <td>Including this lesson on the new community les...</td>\n",
       "      <td>29</td>\n",
       "    </tr>\n",
       "    <tr>\n",
       "      <th>3</th>\n",
       "      <td>Update README.md</td>\n",
       "      <td>28</td>\n",
       "    </tr>\n",
       "    <tr>\n",
       "      <th>4</th>\n",
       "      <td>Do not use r-base for GAP lesson</td>\n",
       "      <td>27</td>\n",
       "    </tr>\n",
       "    <tr>\n",
       "      <th>5</th>\n",
       "      <td>Fully proofread lesson (minor changes)</td>\n",
       "      <td>26</td>\n",
       "    </tr>\n",
       "    <tr>\n",
       "      <th>6</th>\n",
       "      <td>Update setup.md</td>\n",
       "      <td>25</td>\n",
       "    </tr>\n",
       "    <tr>\n",
       "      <th>7</th>\n",
       "      <td>Avoid using potential misleading terminology</td>\n",
       "      <td>24</td>\n",
       "    </tr>\n",
       "    <tr>\n",
       "      <th>8</th>\n",
       "      <td>Setup for Travis CI</td>\n",
       "      <td>22</td>\n",
       "    </tr>\n",
       "    <tr>\n",
       "      <th>9</th>\n",
       "      <td>Could not find document 'aio.md'</td>\n",
       "      <td>21</td>\n",
       "    </tr>\n",
       "    <tr>\n",
       "      <th>10</th>\n",
       "      <td>Broken link to code of conduct</td>\n",
       "      <td>20</td>\n",
       "    </tr>\n",
       "    <tr>\n",
       "      <th>11</th>\n",
       "      <td>v9.4.0</td>\n",
       "      <td>19</td>\n",
       "    </tr>\n",
       "    <tr>\n",
       "      <th>12</th>\n",
       "      <td>Minor improvements based on feedback</td>\n",
       "      <td>16</td>\n",
       "    </tr>\n",
       "    <tr>\n",
       "      <th>13</th>\n",
       "      <td>Polishing after merging PR #13</td>\n",
       "      <td>15</td>\n",
       "    </tr>\n",
       "    <tr>\n",
       "      <th>14</th>\n",
       "      <td>Various changes</td>\n",
       "      <td>13</td>\n",
       "    </tr>\n",
       "    <tr>\n",
       "      <th>15</th>\n",
       "      <td>Fixed formulations or tiny language errors</td>\n",
       "      <td>12</td>\n",
       "    </tr>\n",
       "    <tr>\n",
       "      <th>16</th>\n",
       "      <td>fixed typo</td>\n",
       "      <td>11</td>\n",
       "    </tr>\n",
       "    <tr>\n",
       "      <th>17</th>\n",
       "      <td>Correct Determinant(m) from -30 to 0</td>\n",
       "      <td>10</td>\n",
       "    </tr>\n",
       "    <tr>\n",
       "      <th>18</th>\n",
       "      <td>Finish the switch to the new lesson template</td>\n",
       "      <td>9</td>\n",
       "    </tr>\n",
       "    <tr>\n",
       "      <th>19</th>\n",
       "      <td>How to read data from files</td>\n",
       "      <td>7</td>\n",
       "    </tr>\n",
       "    <tr>\n",
       "      <th>20</th>\n",
       "      <td>How to have an executable GAP script</td>\n",
       "      <td>6</td>\n",
       "    </tr>\n",
       "    <tr>\n",
       "      <th>21</th>\n",
       "      <td>Variadic function and Info in small group search</td>\n",
       "      <td>4</td>\n",
       "    </tr>\n",
       "    <tr>\n",
       "      <th>22</th>\n",
       "      <td>Revise regression tests</td>\n",
       "      <td>3</td>\n",
       "    </tr>\n",
       "    <tr>\n",
       "      <th>23</th>\n",
       "      <td>Using ChangeDirectoryCurrent</td>\n",
       "      <td>1</td>\n",
       "    </tr>\n",
       "  </tbody>\n",
       "</table>\n",
       "</div>"
      ],
      "text/plain": [
       "                                                 name  closed issues\n",
       "0                                    Use remote theme             31\n",
       "1   Add acknowledgement of CCP-CoDiMa and OpenDrea...             30\n",
       "2   Including this lesson on the new community les...             29\n",
       "3                                    Update README.md             28\n",
       "4                    Do not use r-base for GAP lesson             27\n",
       "5              Fully proofread lesson (minor changes)             26\n",
       "6                                     Update setup.md             25\n",
       "7        Avoid using potential misleading terminology             24\n",
       "8                                 Setup for Travis CI             22\n",
       "9                    Could not find document 'aio.md'             21\n",
       "10                     Broken link to code of conduct             20\n",
       "11                                             v9.4.0             19\n",
       "12               Minor improvements based on feedback             16\n",
       "13                     Polishing after merging PR #13             15\n",
       "14                                    Various changes             13\n",
       "15         Fixed formulations or tiny language errors             12\n",
       "16                                         fixed typo             11\n",
       "17               Correct Determinant(m) from -30 to 0             10\n",
       "18       Finish the switch to the new lesson template              9\n",
       "19                        How to read data from files              7\n",
       "20               How to have an executable GAP script              6\n",
       "21   Variadic function and Info in small group search              4\n",
       "22                            Revise regression tests              3\n",
       "23                       Using ChangeDirectoryCurrent              1"
      ]
     },
     "execution_count": 45,
     "metadata": {},
     "output_type": "execute_result"
    }
   ],
   "source": [
    "df"
   ]
  },
  {
   "cell_type": "code",
   "execution_count": 17,
   "id": "b77d6c06",
   "metadata": {},
   "outputs": [
    {
     "name": "stdout",
     "output_type": "stream",
     "text": [
      "Label(name=\"good first issue\")\n",
      "Label(name=\"help wanted\")\n",
      "Label(name=\"high priority\")\n",
      "Label(name=\"invalid\")\n",
      "Label(name=\"status:blocked\")\n",
      "Label(name=\"status:duplicate\")\n",
      "Label(name=\"status:in progress\")\n",
      "Label(name=\"status:need more info\")\n",
      "Label(name=\"status:out of scope\")\n",
      "Label(name=\"status:refer to cac\")\n",
      "Label(name=\"status:wait\")\n",
      "Label(name=\"status:waiting for response\")\n",
      "Label(name=\"type:accessibility\")\n",
      "Label(name=\"type:bug\")\n",
      "Label(name=\"type:clarification\")\n",
      "Label(name=\"type:discussion\")\n",
      "Label(name=\"type:enhancement\")\n",
      "Label(name=\"type:formatting\")\n",
      "Label(name=\"type:instructor guide\")\n",
      "Label(name=\"type:teaching example\")\n",
      "Label(name=\"type:template and tools\")\n",
      "Label(name=\"type:typo text\")\n"
     ]
    }
   ],
   "source": [
    "labels = repo.get_labels()\n",
    "for label in labels:\n",
    "    print(label)"
   ]
  },
  {
   "cell_type": "code",
   "execution_count": 68,
   "id": "f1b2fd56",
   "metadata": {},
   "outputs": [
    {
     "name": "stdout",
     "output_type": "stream",
     "text": [
      "PullRequest(title=\"Use remote theme\", number=31)\n",
      "PullRequest(title=\"Add acknowledgement of CCP-CoDiMa and OpenDreamKit\", number=30)\n",
      "PullRequest(title=\"Update README.md\", number=28)\n",
      "PullRequest(title=\"Do not use r-base for GAP lesson\", number=27)\n",
      "PullRequest(title=\"Fully proofread lesson (minor changes)\", number=26)\n",
      "PullRequest(title=\"Update setup.md\", number=25)\n",
      "PullRequest(title=\"Avoid using potential misleading terminology\", number=24)\n",
      "PullRequest(title=\"Setup for Travis CI\", number=22)\n",
      "PullRequest(title=\"v9.4.0\", number=19)\n",
      "PullRequest(title=\"Minor improvements based on feedback\", number=16)\n",
      "PullRequest(title=\"Various changes\", number=13)\n",
      "PullRequest(title=\"Fixed formulations or tiny language errors\", number=12)\n",
      "PullRequest(title=\"fixed typo\", number=11)\n",
      "PullRequest(title=\"Correct Determinant(m) from -30 to 0\", number=10)\n"
     ]
    }
   ],
   "source": [
    "pulls = repo.get_pulls(state='closed')\n",
    "for pr in pulls:\n",
    "    print(pr)\n",
    "    "
   ]
  },
  {
   "cell_type": "code",
   "execution_count": null,
   "id": "918291a5",
   "metadata": {},
   "outputs": [],
   "source": [
    "g.rate_limiting"
   ]
  },
  {
   "cell_type": "code",
   "execution_count": 51,
   "id": "489b3427",
   "metadata": {},
   "outputs": [
    {
     "name": "stdout",
     "output_type": "stream",
     "text": [
      "1676\n",
      "1784\n",
      "1791\n",
      "1831\n",
      "1976\n",
      "1986\n",
      "1996\n",
      "2052\n",
      "2062\n",
      "2066\n",
      "2090\n",
      "2137\n",
      "2152\n",
      "2161\n",
      "2172\n",
      "2183\n",
      "2189\n",
      "2190\n",
      "2193\n",
      "2196\n",
      "2201\n",
      "2207\n",
      "2211\n",
      "2218\n",
      "2223\n",
      "2226\n",
      "2227\n",
      "2231\n",
      "2235\n",
      "2241\n",
      "2243\n",
      "2244\n",
      "2245\n",
      "2248\n",
      "2256\n"
     ]
    }
   ],
   "source": []
  },
  {
   "cell_type": "code",
   "execution_count": 73,
   "id": "cd5f67be",
   "metadata": {},
   "outputs": [
    {
     "data": {
      "text/plain": [
       "'Programming with GAP'"
      ]
     },
     "execution_count": 73,
     "metadata": {},
     "output_type": "execute_result"
    }
   ],
   "source": [
    "g = Github()\n",
    "repo = g.get_repo(\"carpentries-incubator/gap-lesson\")\n",
    "repo.description"
   ]
  },
  {
   "cell_type": "code",
   "execution_count": null,
   "id": "77c6cecd",
   "metadata": {},
   "outputs": [],
   "source": []
  },
  {
   "cell_type": "code",
   "execution_count": null,
   "id": "3b5d5fd5",
   "metadata": {},
   "outputs": [],
   "source": []
  },
  {
   "cell_type": "code",
   "execution_count": null,
   "id": "3cf5f6ab",
   "metadata": {},
   "outputs": [],
   "source": []
  }
 ],
 "metadata": {
  "kernelspec": {
   "display_name": "Python 3 (ipykernel)",
   "language": "python",
   "name": "python3"
  },
  "language_info": {
   "codemirror_mode": {
    "name": "ipython",
    "version": 3
   },
   "file_extension": ".py",
   "mimetype": "text/x-python",
   "name": "python",
   "nbconvert_exporter": "python",
   "pygments_lexer": "ipython3",
   "version": "3.9.12"
  }
 },
 "nbformat": 4,
 "nbformat_minor": 5
}
