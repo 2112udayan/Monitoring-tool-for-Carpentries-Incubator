{
 "cells": [
  {
   "cell_type": "code",
   "execution_count": null,
   "id": "90308aef",
   "metadata": {},
   "outputs": [],
   "source": [
    "from github import Github\n",
    "import pandas as pd "
   ]
  },
  {
   "cell_type": "code",
   "execution_count": null,
   "id": "d19fa078",
   "metadata": {},
   "outputs": [],
   "source": [
    "g=Github()"
   ]
  },
  {
   "cell_type": "code",
   "execution_count": null,
   "id": "c4b36114",
   "metadata": {},
   "outputs": [],
   "source": [
    "repo = g.get_repo(\"carpentries-incubator/gap-lesson\")"
   ]
  },
  {
   "cell_type": "code",
   "execution_count": null,
   "id": "28bbf0a4",
   "metadata": {},
   "outputs": [],
   "source": [
    "repo.get_topics()"
   ]
  },
  {
   "cell_type": "code",
   "execution_count": null,
   "id": "40e00782",
   "metadata": {},
   "outputs": [],
   "source": [
    "repo"
   ]
  },
  {
   "cell_type": "code",
   "execution_count": null,
   "id": "6b106409",
   "metadata": {},
   "outputs": [],
   "source": [
    "org=g.get_organization(\"Carpentries-Incubator\")"
   ]
  },
  {
   "cell_type": "code",
   "execution_count": null,
   "id": "71691827",
   "metadata": {},
   "outputs": [],
   "source": [
    "repos=org.get_repos()"
   ]
  },
  {
   "cell_type": "code",
   "execution_count": null,
   "id": "b86b1189",
   "metadata": {},
   "outputs": [],
   "source": [
    "for r in repos:\n",
    "    print(r)"
   ]
  },
  {
   "cell_type": "code",
   "execution_count": null,
   "id": "586f5b21",
   "metadata": {},
   "outputs": [],
   "source": [
    "df=pd.DataFrame()"
   ]
  },
  {
   "cell_type": "code",
   "execution_count": null,
   "id": "93371d86",
   "metadata": {},
   "outputs": [],
   "source": [
    "for r in repos:\n",
    "    print(r.stargazers_count,r.name)\n",
    "    new_row={'name':r.name, 'stars':r.stargazers_count}\n",
    "    df=df.append(new_row,ignore_index=True)"
   ]
  },
  {
   "cell_type": "code",
   "execution_count": null,
   "id": "7acd5bad",
   "metadata": {},
   "outputs": [],
   "source": [
    "df"
   ]
  },
  {
   "cell_type": "code",
   "execution_count": null,
   "id": "3f38239d",
   "metadata": {},
   "outputs": [],
   "source": []
  }
 ],
 "metadata": {
  "kernelspec": {
   "display_name": "Python 3 (ipykernel)",
   "language": "python",
   "name": "python3"
  },
  "language_info": {
   "codemirror_mode": {
    "name": "ipython",
    "version": 3
   },
   "file_extension": ".py",
   "mimetype": "text/x-python",
   "name": "python",
   "nbconvert_exporter": "python",
   "pygments_lexer": "ipython3",
   "version": "3.9.12"
  }
 },
 "nbformat": 4,
 "nbformat_minor": 5
}
