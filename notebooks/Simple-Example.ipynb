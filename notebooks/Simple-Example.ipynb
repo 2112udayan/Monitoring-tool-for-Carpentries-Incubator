{
 "cells": [
  {
   "cell_type": "code",
   "execution_count": 1,
   "id": "90308aef",
   "metadata": {},
   "outputs": [],
   "source": [
    "from github import Github"
   ]
  },
  {
   "cell_type": "code",
   "execution_count": 2,
   "id": "d19fa078",
   "metadata": {},
   "outputs": [],
   "source": [
    "g=Github()"
   ]
  },
  {
   "cell_type": "code",
   "execution_count": 3,
   "id": "c4b36114",
   "metadata": {},
   "outputs": [],
   "source": [
    "repo = g.get_repo(\"carpentries-incubator/gap-lesson\")"
   ]
  },
  {
   "cell_type": "code",
   "execution_count": 4,
   "id": "28bbf0a4",
   "metadata": {},
   "outputs": [
    {
     "data": {
      "text/plain": [
       "['carpentries',\n",
       " 'computational-algebra',\n",
       " 'discrete-mathematics',\n",
       " 'gap',\n",
       " 'lesson',\n",
       " 'carpentries-incubator',\n",
       " 'stable',\n",
       " 'english']"
      ]
     },
     "execution_count": 4,
     "metadata": {},
     "output_type": "execute_result"
    }
   ],
   "source": [
    "repo.get_topics()"
   ]
  },
  {
   "cell_type": "code",
   "execution_count": null,
   "id": "40e00782",
   "metadata": {},
   "outputs": [],
   "source": []
  }
 ],
 "metadata": {
  "kernelspec": {
   "display_name": "Python 3 (ipykernel)",
   "language": "python",
   "name": "python3"
  },
  "language_info": {
   "codemirror_mode": {
    "name": "ipython",
    "version": 3
   },
   "file_extension": ".py",
   "mimetype": "text/x-python",
   "name": "python",
   "nbconvert_exporter": "python",
   "pygments_lexer": "ipython3",
   "version": "3.9.12"
  }
 },
 "nbformat": 4,
 "nbformat_minor": 5
}
