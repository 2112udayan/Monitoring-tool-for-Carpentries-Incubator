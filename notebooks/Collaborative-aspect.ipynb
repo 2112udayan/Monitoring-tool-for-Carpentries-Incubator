{
 "cells": [
  {
   "cell_type": "code",
   "execution_count": null,
   "id": "eb56fecc",
   "metadata": {},
   "outputs": [],
   "source": [
    "from github import Github\n",
    "import pandas as pd \n",
    "import itertools\n",
    "import json\n",
    "import os\n"
   ]
  },
  {
   "cell_type": "markdown",
   "id": "08e53ea3",
   "metadata": {},
   "source": [
    "#### Enter personal token here to authenticate."
   ]
  },
  {
   "cell_type": "code",
   "execution_count": null,
   "id": "65538e60",
   "metadata": {},
   "outputs": [],
   "source": [
    "%store -r access_token\n",
    "g = Github(access_token)"
   ]
  },
  {
   "cell_type": "code",
   "execution_count": null,
   "id": "e29f8a06",
   "metadata": {},
   "outputs": [],
   "source": [
    "g.rate_limiting"
   ]
  },
  {
   "cell_type": "markdown",
   "id": "8ea22678",
   "metadata": {},
   "source": [
    "#### These variables are global variables"
   ]
  },
  {
   "cell_type": "code",
   "execution_count": null,
   "id": "449dd12a",
   "metadata": {},
   "outputs": [],
   "source": [
    "repo_var = None\n",
    "page_num=None\n",
    "repo_list=list()\n",
    "list_without_lesson=list()\n",
    "list_with_lesson=list()\n",
    "final_repo_list=list()"
   ]
  },
  {
   "cell_type": "markdown",
   "id": "fbf6240a",
   "metadata": {},
   "source": [
    "#### Declaring a function . \n",
    "* To get the total repositories count\n",
    "* Creating a page_num variable to hold the valid page numbers to iterate the repo list.\n",
    "* Final repo list created from repo list\n",
    "* List with lesson created from final repo list\n",
    "* List without lesson created from final repo list"
   ]
  },
  {
   "cell_type": "code",
   "execution_count": null,
   "id": "48cc1f80",
   "metadata": {},
   "outputs": [],
   "source": [
    "def repo_initialize():\n",
    "    \n",
    "    '''\n",
    "    Function takes no paramter.\n",
    "    Returning total repositories count, final repository list, list_with_lesson & list_without_lesson.\n",
    "    \n",
    "    '''\n",
    "    \n",
    "    \n",
    "    global repo_var\n",
    "    global page_num\n",
    "    global repo_list\n",
    "    global list_without_lesson\n",
    "    global list_with_lesson\n",
    "    global final_repo_list\n",
    "    \n",
    "    repo_var = g.get_organization(\"carpentries-incubator\").get_repos()\n",
    "\n",
    "    \n",
    "# Creating a page_num variable to hold the valid page numbers to iterate the repo list\n",
    "\n",
    "    page_num = 0\n",
    "    for i in range(0,10):\n",
    "        if len(repo_var.get_page(i))==0:\n",
    "            page_num = i\n",
    "            break\n",
    "        else:\n",
    "            pass\n",
    "    repo_list = list()\n",
    "    for i in range(0,page_num):\n",
    "        repo_list.append(repo_var.get_page(i))\n",
    "    final_repo_list = list((itertools.chain.from_iterable(repo_list)))\n",
    "\n",
    "# This program gives two Repository lists. 1)list_with_lesson & list_without_lesson.\n",
    "\n",
    "    for repo in final_repo_list:\n",
    "        tags=repo.get_topics()\n",
    "        if \"lesson\" in tags:\n",
    "            list_with_lesson.append(repo)\n",
    "        else:\n",
    "            list_without_lesson.append(repo)\n",
    "            \n",
    "# Calling the function\n",
    "\n",
    "repo_initialize()\n",
    "    "
   ]
  },
  {
   "cell_type": "markdown",
   "id": "6ec9bc1b",
   "metadata": {},
   "source": [
    "#### KPI 1 > Declaring a functions to get the commit  , Pulls , issues counts and contributors and life -cycle stage of each repositories."
   ]
  },
  {
   "cell_type": "code",
   "execution_count": null,
   "id": "ea641622",
   "metadata": {},
   "outputs": [],
   "source": [
    "#### DataFrame columns headings\n",
    "\n",
    "cols=[\"repo\",\"commits\",\"open_pulls\",\"open_issues\",\"commit_contributors\", \"issue_contributors\",\"pulls_contributors\"]\n",
    "df=pd.DataFrame(columns=cols)\n",
    "\n",
    "### Declaring a function to get repositroies\n",
    "\n",
    "def get_repolist(list_with_lesson):\n",
    "    \n",
    "    '''\n",
    "    Functions taking list_with_lesson as a parameter\n",
    "    Returning repolist in df\n",
    "    '''\n",
    "    repos=[]\n",
    "    for repo in list_with_lesson:\n",
    "        if  os.path.exists('data/'+repo.name+'.json'):\n",
    "            repos.append(repo.name)\n",
    "    return repos\n",
    "\n",
    "        \n",
    "#### Declaring a function to get commit count and commit authors of each repositories.\n",
    "    \n",
    "def get_commitcount_commitauthors(list_with_lesson):\n",
    "    \n",
    "    '''\n",
    "    Functions taking list_with_lesson as a parameter\n",
    "    Returning  commitlist & commit_authorlist\n",
    "    \n",
    "    '''\n",
    "    commitlist=[] # holds the total count of number of commits made in the repositories.\n",
    "    commit_authorlist=[] # contains authors of each commit.\n",
    "    for repo in list_with_lesson:\n",
    "        commit_count=0\n",
    "        commit_author_count=0\n",
    "        author_list=[]\n",
    "        if not os.path.exists('data/'+repo.name+'.json'):\n",
    "            continue\n",
    "        with open('data/'+repo.name+'.json','r',encoding='utf-8') as f:\n",
    "            fildata=json.load(f)\n",
    "            for k in fildata['commits_dict'].keys():\n",
    "                c=fildata['commits_dict'][k]\n",
    "                commit_count+=1\n",
    "                author_list.append(c[0]) \n",
    "            commitlist.append(commit_count)\n",
    "            commit_authorlist.append(len(set(author_list)))\n",
    "    return commitlist,commit_authorlist\n",
    "\n",
    "\n",
    "#### Declaring a function to get pullrequest count and contributor of each repositories.\n",
    "        \n",
    "def get_prcount_prauthorcount(list_with_lesson):\n",
    "    pr_list=[]\n",
    "    pr_authorlist=[]\n",
    "    for repo in list_with_lesson:\n",
    "        pr_count=0\n",
    "        pr_author_count=0\n",
    "        author_list=[]\n",
    "        if not os.path.exists('data/'+repo.name+'.json'):\n",
    "            continue\n",
    "        with open('data/'+repo.name+'.json','r') as f:\n",
    "            try:\n",
    "                fildata=json.load(f)\n",
    "\n",
    "                for k in fildata['pr_dict']:\n",
    "                    pr_count+=1\n",
    "                    author_list.append(k['pr_name'])\n",
    "            except:\n",
    "                pass\n",
    "        pr_list.append(pr_count)\n",
    "        pr_authorlist.append(len(set(author_list)))\n",
    "    return pr_list,pr_authorlist\n",
    "\n",
    "\n",
    "\n",
    "#### Declaring a function to get issue count and contributor of each repositories.\n",
    "\n",
    "def get_issuecount_issue_user_count(list_with_lesson):\n",
    "    issue_list=[]\n",
    "    issue_authorlist=[]\n",
    "    for repo in list_with_lesson:\n",
    "        if not os.path.exists('data/'+repo.name+'.json'):\n",
    "            continue\n",
    "        issue_count=0\n",
    "        issue_author_count=0\n",
    "        author_list=[]\n",
    "        with open('data/'+repo.name+'.json','r',encoding='utf-8') as f:\n",
    "            fildata=json.load(f)\n",
    "            \n",
    "            for k in fildata['issue_dict']:\n",
    "                issue_count+=1\n",
    "                author_list.append(k['user_name'])\n",
    "        issue_list.append(issue_count)\n",
    "        issue_authorlist.append(len(set(author_list)))\n",
    "    return issue_list,issue_authorlist\n",
    "\n",
    "\n",
    "\n",
    "#### Declaring a function to get life cycle stage of each repositories.\n",
    "\n",
    "def get_stages(list_with_lesson):\n",
    "    stage_list=[]\n",
    "    for repo in list_with_lesson:\n",
    "        if not os.path.exists('data/'+repo.name+'.json'):\n",
    "            continue\n",
    "#         print(repo.name)\n",
    "        with open('data/'+repo.name+'.json','r',encoding='utf-8') as f:\n",
    "            fildata=json.load(f)\n",
    "            stage_list.append(fildata['stage'])\n",
    "    return stage_list\n",
    "\n",
    "#### Calling get_commitcount_commitauthors(list_with_lesson)\n",
    "        \n",
    "commitlist,commit_authorlist=get_commitcount_commitauthors(list_with_lesson)\n",
    "\n",
    "#### Calling get_prcount_prauthorcount(list_with_lesson)\n",
    "\n",
    "pr_list,pr_authorlist=get_prcount_prauthorcount(list_with_lesson)\n",
    "\n",
    "#### Calling get_issuecount_issue_user_count(list_with_lesson)\n",
    "\n",
    "issue_list,issue_authorlist=get_issuecount_issue_user_count(list_with_lesson)\n",
    "\n",
    "#### Calling get_stages(list_with_lesson)\n",
    "\n",
    "stage_list=get_stages(list_with_lesson)\n",
    "\n",
    "df['repo']=get_repolist(list_with_lesson)\n",
    "df['stage']=stage_list\n",
    "df['commits']=commitlist\n",
    "df['commit_contributors']=commit_authorlist\n",
    "df['open_pulls']=pr_list\n",
    "df['pulls_contributors']=pr_authorlist \n",
    "df['open_issues']=issue_list\n",
    "df['issue_contributors']=issue_authorlist\n",
    "\n"
   ]
  },
  {
   "cell_type": "markdown",
   "id": "f9492aed",
   "metadata": {},
   "source": [
    "#### KPI 2 > Plotting dataframe to analyse the contrinutors of each paramter  of 111 repositories of Carpentry Incubator."
   ]
  },
  {
   "cell_type": "code",
   "execution_count": null,
   "id": "046dca4b",
   "metadata": {},
   "outputs": [],
   "source": [
    "pd.set_option('display.max_rows', None)\n",
    "df\n"
   ]
  },
  {
   "cell_type": "markdown",
   "id": "f54b5383",
   "metadata": {},
   "source": [
    "#### KPI 3 > Function to calculate total_controbutors."
   ]
  },
  {
   "cell_type": "code",
   "execution_count": null,
   "id": "4d25b066",
   "metadata": {},
   "outputs": [],
   "source": [
    "def calculate_total_contributors(df):\n",
    "\n",
    "    df[\"Total Contributor\"]=df['commit_contributors']+df['issue_contributors']+df['pulls_contributors']\n",
    "\n",
    "calculate_total_contributors(df)"
   ]
  },
  {
   "cell_type": "code",
   "execution_count": null,
   "id": "12f5736e",
   "metadata": {},
   "outputs": [],
   "source": [
    "pd.set_option('display.max_rows', None)\n",
    "df\n"
   ]
  },
  {
   "cell_type": "markdown",
   "id": "b9064683",
   "metadata": {},
   "source": [
    "#### KPI 3 > To get average number of contributors for a lesson ( classifying by different stages: pre-alpha, alpha, beta, stable)\n"
   ]
  },
  {
   "cell_type": "code",
   "execution_count": null,
   "id": "4f3efe36",
   "metadata": {},
   "outputs": [],
   "source": [
    "df[['commit_contributors','issue_contributors','pulls_contributors','stage']].groupby(['stage']).mean()"
   ]
  },
  {
   "cell_type": "markdown",
   "id": "f94446a8",
   "metadata": {},
   "source": [
    "#### KPI 4> To get average  of total contributors of a lesson ( classifying by different stages:pre-alpha, alpha, beta,stable)"
   ]
  },
  {
   "cell_type": "code",
   "execution_count": null,
   "id": "a30e6a34",
   "metadata": {},
   "outputs": [],
   "source": [
    "df[['stage', 'Total Contributor']].groupby(['stage']).mean()"
   ]
  },
  {
   "cell_type": "code",
   "execution_count": null,
   "id": "1f64856e",
   "metadata": {},
   "outputs": [],
   "source": []
  }
 ],
 "metadata": {
  "kernelspec": {
   "display_name": "Python 3 (ipykernel)",
   "language": "python",
   "name": "python3"
  },
  "language_info": {
   "codemirror_mode": {
    "name": "ipython",
    "version": 3
   },
   "file_extension": ".py",
   "mimetype": "text/x-python",
   "name": "python",
   "nbconvert_exporter": "python",
   "pygments_lexer": "ipython3",
   "version": "3.9.12"
  }
 },
 "nbformat": 4,
 "nbformat_minor": 5
}
