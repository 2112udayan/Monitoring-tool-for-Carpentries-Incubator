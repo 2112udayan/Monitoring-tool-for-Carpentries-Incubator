{
 "cells": [
  {
   "cell_type": "code",
   "execution_count": null,
   "id": "90308aef",
   "metadata": {},
   "outputs": [],
   "source": [
    "from github import Github\n",
    "import itertools\n",
    "import json\n",
    "import os\n",
    "import requests"
   ]
  },
  {
   "cell_type": "markdown",
   "id": "97377b53",
   "metadata": {},
   "source": [
    "#### Read personal token to authenticate."
   ]
  },
  {
   "cell_type": "code",
   "execution_count": null,
   "id": "1d42b789",
   "metadata": {},
   "outputs": [],
   "source": [
    "with open(os.path.expanduser('~') + '/.github_shell_token', 'r') as token_file:\n",
    "    access_token = token_file.read().strip()\n",
    "if access_token == None:\n",
    "    error(\"Error: no access token found or provided\")\n",
    "g = Github(access_token)"
   ]
  },
  {
   "cell_type": "code",
   "execution_count": null,
   "id": "0cb87573",
   "metadata": {},
   "outputs": [],
   "source": [
    "g.rate_limiting"
   ]
  },
  {
   "cell_type": "markdown",
   "id": "3f2834b5",
   "metadata": {},
   "source": [
    "#### These variables are global variables."
   ]
  },
  {
   "cell_type": "code",
   "execution_count": null,
   "id": "d49dee0e",
   "metadata": {},
   "outputs": [],
   "source": [
    "repo_var = None\n",
    "page_num=None\n",
    "repo_list=list()\n",
    "list_without_lesson=list()\n",
    "list_with_lesson=list()\n",
    "final_repo_list=list()"
   ]
  },
  {
   "cell_type": "markdown",
   "id": "0d69289e",
   "metadata": {},
   "source": [
    "#### Declaring a function\n",
    "* To get the total repositories count\n",
    "* Creating a page_num variable to hold the valid page numbers to iterate the repo list.\n",
    "* Final repo list created from repo list\n",
    "* List with lesson created from final repo list\n",
    "* List without lesson created from final repo list"
   ]
  },
  {
   "cell_type": "code",
   "execution_count": null,
   "id": "af8d9414",
   "metadata": {},
   "outputs": [],
   "source": [
    "# Declaring the function.\n",
    "\n",
    "def repo_initialize():\n",
    "    \n",
    "    '''\n",
    "    Function takes no parameter.\n",
    "    Returning total repositories count, final repository list, list_with_lesson & list_without_lesson.\n",
    "    \n",
    "    '''\n",
    "    \n",
    "    global repo_var\n",
    "    global page_num\n",
    "    global repo_list\n",
    "    global list_without_lesson\n",
    "    global list_with_lesson\n",
    "    global final_repo_list\n",
    "    \n",
    "    repo_var = g.get_organization(\"carpentries-incubator\").get_repos()\n",
    "\n",
    "    page_num = 0\n",
    "    for i in range(0,10):\n",
    "        if len(repo_var.get_page(i))==0:\n",
    "            page_num = i\n",
    "            break\n",
    "        else:\n",
    "            pass\n",
    "    repo_list = list()\n",
    "    for i in range(0,page_num):\n",
    "        repo_list.append(repo_var.get_page(i))\n",
    "    final_repo_list = list((itertools.chain.from_iterable(repo_list)))\n",
    "\n",
    "# Repository lists. 1)list_with_lesson & list_without_lesson.\n",
    "\n",
    "    for repo in final_repo_list:\n",
    "        tags=repo.get_topics()\n",
    "        if \"lesson\" in tags:\n",
    "            list_with_lesson.append(repo)\n",
    "        else:\n",
    "            list_without_lesson.append(repo)\n",
    "            \n",
    "# Calling the function\n",
    "\n",
    "repo_initialize()"
   ]
  },
  {
   "cell_type": "markdown",
   "id": "ecf0cc45",
   "metadata": {},
   "source": [
    "#### This approach is followed to retrieve data of each repo in seperate files that would encompass commits, PRs, issues, stages & labels. "
   ]
  },
  {
   "cell_type": "code",
   "execution_count": null,
   "id": "0bc9a9c1",
   "metadata": {},
   "outputs": [],
   "source": [
    "HEADERS = {'Authorization': 'token ' + access_token}"
   ]
  },
  {
   "cell_type": "markdown",
   "id": "32f22e08",
   "metadata": {},
   "source": [
    "#### Declaring a function to get the repositories by name."
   ]
  },
  {
   "cell_type": "code",
   "execution_count": null,
   "id": "ba560530",
   "metadata": {},
   "outputs": [],
   "source": [
    "def get_by_name(name):\n",
    "    '''\n",
    "    Functions takes repo name as a parameter\n",
    "    Returning the repo.\n",
    "    '''\n",
    "    for repo in list_with_lesson:\n",
    "        if repo.name== name:\n",
    "            return repo\n",
    "repo=get_by_name('shell-extras')\n",
    "    "
   ]
  },
  {
   "cell_type": "markdown",
   "id": "01d62f71",
   "metadata": {},
   "source": [
    "#### Declaring functions to retrieve commits & contributors and Issues & Contributors and Pull request & Contributors Life cycle stages and Labels "
   ]
  },
  {
   "cell_type": "code",
   "execution_count": null,
   "id": "a63632b9",
   "metadata": {},
   "outputs": [],
   "source": [
    "#### Declaring a function to get the commit authors and commiters \n",
    "\n",
    "\n",
    "def commit_user_details(c):\n",
    "\n",
    "\n",
    "    # first we try to retrieve details via PyGithub. This costs less API calls.\n",
    "    try: \n",
    "        author = c.author.name\n",
    "        committer = c.committer.name\n",
    "        # The above case will raise an exception if c.author or c.committer is None.\n",
    "        # This will be the case when the user does not have a GitHub account.\n",
    "        # There may be another special case, when a user has a GitHub user name, but\n",
    "        # does not specify their name. We need to detect it as well.\n",
    "        if author == None or committer == None:\n",
    "            raise Exception()\n",
    "        return [author,committer]\n",
    "    except:\n",
    "        # If at least one of the names is not known, use GitHub API via `requests` library.\n",
    "        # This will be slower and will cost some API calls, but at least we are spending\n",
    "        # one API call per each commit instead of two.\n",
    "        # Based on solution for https://github.com/jbon/Github-Social-Network-Analysis/issues/15\n",
    "        commit_json = requests.get(c.url,headers=HEADERS).json()[\"commit\"]\n",
    "        author = commit_json['author']['name']\n",
    "        committer = commit_json['committer']['name']\n",
    "        return [author,committer]\n",
    "\n",
    "    \n",
    "    \n",
    "# Function to retrieve Commits authors and committers.\n",
    "\n",
    "def get_commits(repo):\n",
    "    commits=repo.get_commits()\n",
    "    counter=0\n",
    "    commits_dict=dict()\n",
    "    for c in commits:\n",
    "        commits_dict[c.sha] = commit_user_details(c)\n",
    "    return commits_dict\n",
    "\n",
    "# Calling the function\n",
    "\n",
    "commits_value=get_commits(repo)\n",
    "    \n",
    "\n",
    "\n",
    "    \n",
    "# Function to retrieve PRs and usernames .\n",
    "\n",
    "def get_PRs(repo):\n",
    "    pr_list=[]\n",
    "    pr=repo.get_pulls(state='open')\n",
    "    for p in pr:\n",
    "        pr_list.append({'id':p.id,'pr_name':p.user.login})\n",
    "    return pr_list\n",
    "\n",
    "#Calling the function\n",
    "\n",
    "PR_value=get_PRs(repo)\n",
    "\n",
    "\n",
    "\n",
    "\n",
    "# Function to retrieve issues and user names\n",
    "\n",
    "def get_issues(repo):\n",
    "    issue_list=[]\n",
    "    issues=repo.get_issues(state='open')\n",
    "    for issue in issues:\n",
    "        issue_list.append({'title': issue.title, 'user_name':issue.user.login})\n",
    "    return issue_list\n",
    " \n",
    "#Calling the function\n",
    "\n",
    "Issues_value=get_issues(repo)\n",
    "\n",
    "\n",
    "\n",
    "# Function to retrieve life cycle stages of the lessons.\n",
    "\n",
    "def repo_stage(repo):\n",
    "    topics=repo.get_topics()\n",
    "    stage=None\n",
    "    for stage in topics:\n",
    "        if stage in [\"pre-alpha\", \"alpha\", \"beta\", \"stable\"]:\n",
    "            break;\n",
    "    return stage\n",
    "\n",
    "#Calling the function\n",
    "\n",
    "life_cycle_stage=repo_stage(repo)\n",
    "        \n",
    "\n",
    "# Function to retrieve Labels of the lessons \n",
    "\n",
    "def repo_labels(repo):\n",
    "    label_list=[]\n",
    "    labels=repo.get_labels()\n",
    "    for label in labels:\n",
    "         label_list.append(label.name)\n",
    "    return label_list\n",
    "\n",
    "#Calling the function\n",
    "\n",
    "labels_info=repo_labels(repo)\n",
    "            \n",
    " \n",
    "\n",
    "\n",
    "\n",
    "\n",
    "    \n"
   ]
  },
  {
   "cell_type": "markdown",
   "id": "ccc5f537",
   "metadata": {},
   "source": [
    "####  Store the result into a JSON file."
   ]
  },
  {
   "cell_type": "code",
   "execution_count": null,
   "id": "aaf0e0c8",
   "metadata": {},
   "outputs": [],
   "source": [
    "with open('data/'+repo.name+'.json', 'w', encoding='utf-8') as f: \n",
    "        json.dump({'commits_dict':commits_value,'pr_dict':PR_value, 'issue_dict':Issues_value,'stage':life_cycle_stage,'label':labels_info}, f, ensure_ascii=False, indent=4) "
   ]
  },
  {
   "cell_type": "code",
   "execution_count": null,
   "id": "7d551279",
   "metadata": {},
   "outputs": [],
   "source": []
  }
 ],
 "metadata": {
  "kernelspec": {
   "display_name": "Python 3 (ipykernel)",
   "language": "python",
   "name": "python3"
  },
  "language_info": {
   "codemirror_mode": {
    "name": "ipython",
    "version": 3
   },
   "file_extension": ".py",
   "mimetype": "text/x-python",
   "name": "python",
   "nbconvert_exporter": "python",
   "pygments_lexer": "ipython3",
   "version": "3.9.1"
  }
 },
 "nbformat": 4,
 "nbformat_minor": 5
}
